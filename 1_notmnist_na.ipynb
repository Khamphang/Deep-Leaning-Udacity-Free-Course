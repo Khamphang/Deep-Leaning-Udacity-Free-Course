{
 "cells": [
  {
   "cell_type": "markdown",
   "metadata": {
    "colab_type": "text",
    "deletable": true,
    "editable": true,
    "id": "5hIbr52I7Z7U"
   },
   "source": [
    "Deep Learning\n",
    "=============\n",
    "\n",
    "Assignment 1\n",
    "------------\n",
    "\n",
    "The objective of this assignment is to learn about simple data curation practices, and familiarize you with some of the data we'll be reusing later.\n",
    "\n",
    "This notebook uses the [notMNIST](http://yaroslavvb.blogspot.com/2011/09/notmnist-dataset.html) dataset to be used with python experiments. This dataset is designed to look like the classic [MNIST](http://yann.lecun.com/exdb/mnist/) dataset, while looking a little more like real data: it's a harder task, and the data is a lot less 'clean' than MNIST."
   ]
  },
  {
   "cell_type": "code",
   "execution_count": 20,
   "metadata": {
    "cellView": "both",
    "colab": {
     "autoexec": {
      "startup": false,
      "wait_interval": 0
     }
    },
    "colab_type": "code",
    "collapsed": true,
    "deletable": true,
    "editable": true,
    "id": "apJbCsBHl-2A"
   },
   "outputs": [],
   "source": [
    "# These are all the modules we'll be using later. Make sure you can import them\n",
    "# before proceeding further.\n",
    "### ຄຳຕອບຂອງ Assignment ນີ້: http://www.ritchieng.com/machine-learning/deep-learning/tensorflow/notmnist/\n",
    "\n",
    "from __future__ import print_function\n",
    "import matplotlib.pyplot as plt\n",
    "import numpy as np\n",
    "import os\n",
    "import sys\n",
    "import tarfile\n",
    "from IPython.display import display, Image\n",
    "from scipy import ndimage\n",
    "from sklearn.linear_model import LogisticRegression\n",
    "from six.moves.urllib.request import urlretrieve\n",
    "from six.moves import cPickle as pickle\n",
    "\n",
    "###   ນາເພີ່ມໃສ່  ຈຸດເລີ່ມ   ####\n",
    "np.set_printoptions(precision=2)\n",
    "###import pdb\n",
    "###  import pdb; pdb.set_trace()   ###   ນາ    ####\n",
    "###   ນາເພີ່ມໃສ່  ຈຸດເລີ່ມ   ####\n",
    "\n",
    "# Config the matplotlib backend as plotting inline in IPython\n",
    "%matplotlib inline"
   ]
  },
  {
   "cell_type": "markdown",
   "metadata": {
    "colab_type": "text",
    "deletable": true,
    "editable": true,
    "id": "jNWGtZaXn-5j"
   },
   "source": [
    "First, we'll download the dataset to our local machine. The data consists of characters rendered in a variety of fonts on a 28x28 image. The labels are limited to 'A' through 'J' (10 classes). The training set has about 500k and the testset 19000 labelled examples. Given these sizes, it should be possible to train models quickly on any machine."
   ]
  },
  {
   "cell_type": "code",
   "execution_count": 21,
   "metadata": {
    "cellView": "both",
    "colab": {
     "autoexec": {
      "startup": false,
      "wait_interval": 0
     },
     "output_extras": [
      {
       "item_id": 1
      }
     ]
    },
    "colab_type": "code",
    "collapsed": false,
    "deletable": true,
    "editable": true,
    "executionInfo": {
     "elapsed": 186058,
     "status": "ok",
     "timestamp": 1444485672507,
     "user": {
      "color": "#1FA15D",
      "displayName": "Vincent Vanhoucke",
      "isAnonymous": false,
      "isMe": true,
      "permissionId": "05076109866853157986",
      "photoUrl": "//lh6.googleusercontent.com/-cCJa7dTDcgQ/AAAAAAAAAAI/AAAAAAAACgw/r2EZ_8oYer4/s50-c-k-no/photo.jpg",
      "sessionId": "2a0a5e044bb03b66",
      "userId": "102167687554210253930"
     },
     "user_tz": 420
    },
    "id": "EYRJ4ICW6-da",
    "outputId": "0d0f85df-155f-4a89-8e7e-ee32df36ec8d"
   },
   "outputs": [
    {
     "name": "stdout",
     "output_type": "stream",
     "text": [
      "Found and verified ./notMNIST_large.tar.gz\n",
      "Found and verified ./notMNIST_small.tar.gz\n"
     ]
    }
   ],
   "source": [
    "url = 'http://commondatastorage.googleapis.com/books1000/'\n",
    "last_percent_reported = None\n",
    "data_root = '.' # Change me to store data elsewhere\n",
    "\n",
    "def download_progress_hook(count, blockSize, totalSize):\n",
    "  \"\"\"A hook to report the progress of a download. This is mostly intended for users with\n",
    "  slow internet connections. Reports every 5% change in download progress.\n",
    "  \"\"\"\n",
    "  global last_percent_reported\n",
    "  percent = int(count * blockSize * 100 / totalSize)\n",
    "\n",
    "  if last_percent_reported != percent:\n",
    "    if percent % 5 == 0:\n",
    "      sys.stdout.write(\"%s%%\" % percent)\n",
    "      sys.stdout.flush()\n",
    "    else:\n",
    "      sys.stdout.write(\".\")\n",
    "      sys.stdout.flush()\n",
    "      \n",
    "    last_percent_reported = percent\n",
    "        \n",
    "def maybe_download(filename, expected_bytes, force=False):\n",
    "## Na ## def maybe_download(filename, expected_bytes, force=True):\n",
    "  \"\"\"Download a file if not present, and make sure it's the right size.\"\"\"\n",
    "  dest_filename = os.path.join(data_root, filename)\n",
    "  if force or not os.path.exists(dest_filename):\n",
    "    print('Attempting to download:', filename) \n",
    "    filename, _ = urlretrieve(url + filename, dest_filename, reporthook=download_progress_hook)\n",
    "    print('\\nDownload Complete!')\n",
    "  statinfo = os.stat(dest_filename)\n",
    "  if statinfo.st_size == expected_bytes:\n",
    "    print('Found and verified', dest_filename)\n",
    "  else:\n",
    "    raise Exception(\n",
    "      'Failed to verify ' + dest_filename + '. Can you get to it with a browser?')\n",
    "  return dest_filename\n",
    "\n",
    "train_filename = maybe_download('notMNIST_large.tar.gz', 247336696)\n",
    "test_filename = maybe_download('notMNIST_small.tar.gz', 8458043)"
   ]
  },
  {
   "cell_type": "markdown",
   "metadata": {
    "colab_type": "text",
    "deletable": true,
    "editable": true,
    "id": "cC3p0oEyF8QT"
   },
   "source": [
    "Extract the dataset from the compressed .tar.gz file.\n",
    "This should give you a set of directories, labelled A through J."
   ]
  },
  {
   "cell_type": "code",
   "execution_count": 22,
   "metadata": {
    "cellView": "both",
    "colab": {
     "autoexec": {
      "startup": false,
      "wait_interval": 0
     },
     "output_extras": [
      {
       "item_id": 1
      }
     ]
    },
    "colab_type": "code",
    "collapsed": false,
    "deletable": true,
    "editable": true,
    "executionInfo": {
     "elapsed": 186055,
     "status": "ok",
     "timestamp": 1444485672525,
     "user": {
      "color": "#1FA15D",
      "displayName": "Vincent Vanhoucke",
      "isAnonymous": false,
      "isMe": true,
      "permissionId": "05076109866853157986",
      "photoUrl": "//lh6.googleusercontent.com/-cCJa7dTDcgQ/AAAAAAAAAAI/AAAAAAAACgw/r2EZ_8oYer4/s50-c-k-no/photo.jpg",
      "sessionId": "2a0a5e044bb03b66",
      "userId": "102167687554210253930"
     },
     "user_tz": 420
    },
    "id": "H8CBE-WZ8nmj",
    "outputId": "ef6c790c-2513-4b09-962e-27c79390c762"
   },
   "outputs": [
    {
     "name": "stdout",
     "output_type": "stream",
     "text": [
      "./notMNIST_large already present - Skipping extraction of ./notMNIST_large.tar.gz.\n",
      "['./notMNIST_large/A', './notMNIST_large/B', './notMNIST_large/C', './notMNIST_large/D', './notMNIST_large/E', './notMNIST_large/F', './notMNIST_large/G', './notMNIST_large/H', './notMNIST_large/I', './notMNIST_large/J']\n",
      "./notMNIST_small already present - Skipping extraction of ./notMNIST_small.tar.gz.\n",
      "['./notMNIST_small/A', './notMNIST_small/B', './notMNIST_small/C', './notMNIST_small/D', './notMNIST_small/E', './notMNIST_small/F', './notMNIST_small/G', './notMNIST_small/H', './notMNIST_small/I', './notMNIST_small/J']\n"
     ]
    }
   ],
   "source": [
    "num_classes = 10\n",
    "np.random.seed(133)   ## 133 ໝາຍເຖິງຫຍັງນໍ ??? An array of random numbers in the [0.0, 1.0]\n",
    "\n",
    "def maybe_extract(filename, force=False):\n",
    "  root = os.path.splitext(os.path.splitext(filename)[0])[0]  # remove .tar.gz\n",
    "  if os.path.isdir(root) and not force:\n",
    "    # You may override by setting force=True.\n",
    "    print('%s already present - Skipping extraction of %s.' % (root, filename))\n",
    "  else:\n",
    "    print('Extracting data for %s. This may take a while. Please wait.' % root)\n",
    "    tar = tarfile.open(filename)\n",
    "    sys.stdout.flush()\n",
    "    tar.extractall(data_root)\n",
    "    tar.close()\n",
    "  data_folders = [\n",
    "    os.path.join(root, d) for d in sorted(os.listdir(root))\n",
    "    if os.path.isdir(os.path.join(root, d))]\n",
    "  if len(data_folders) != num_classes:\n",
    "    raise Exception(\n",
    "      'Expected %d folders, one per class. Found %d instead.' % (\n",
    "        num_classes, len(data_folders)))         # The method len() returns the number of elements in the list\n",
    "  print(data_folders)\n",
    "  return data_folders\n",
    "  \n",
    "train_folders = maybe_extract(train_filename)    # train_folders ເປັນ array ເກັບທີ່ຢູ່ຂອງຮູບຕາມແຕ່ລະໂຕອັກສອນ ເຊັ່ນ:'./notMNIST_large/D'\n",
    "test_folders = maybe_extract(test_filename)"
   ]
  },
  {
   "cell_type": "markdown",
   "metadata": {
    "colab_type": "text",
    "deletable": true,
    "editable": true,
    "id": "4riXK3IoHgx6"
   },
   "source": [
    "---\n",
    "Problem 1\n",
    "---------\n",
    "\n",
    "Let's take a peek at some of the data to make sure it looks sensible. Each exemplar should be an image of a character A through J rendered in a different font. Display a sample of the images that we just downloaded. Hint: you can use the package IPython.display.\n",
    "\n",
    "---"
   ]
  },
  {
   "cell_type": "code",
   "execution_count": 23,
   "metadata": {
    "collapsed": false,
    "deletable": true,
    "editable": true
   },
   "outputs": [
    {
     "data": {
      "image/png": "[encoded data removed]",
      "text/plain": [
       "<IPython.core.display.Image object>"
      ]
     },
     "metadata": {},
     "output_type": "display_data"
    }
   ],
   "source": [
    "# We get all file names\n",
    "fn = os.listdir(\"notMNIST_small/I/\")\n",
    "\n",
    "# Display first 1 images \n",
    "for file in fn[:1]:\n",
    "    path = 'notMNIST_small/I/' + file\n",
    "    display(Image(path))"
   ]
  },
  {
   "cell_type": "code",
   "execution_count": 24,
   "metadata": {
    "collapsed": false,
    "deletable": true,
    "editable": true
   },
   "outputs": [
    {
     "data": {
      "image/png": "[encoded data removed]",
      "text/plain": [
       "<IPython.core.display.Image object>"
      ]
     },
     "metadata": {},
     "output_type": "display_data"
    },
    {
     "data": {
      "image/png": "[encoded data removed]",
      "text/plain": [
       "<IPython.core.display.Image object>"
      ]
     },
     "metadata": {},
     "output_type": "display_data"
    },
    {
     "data": {
      "image/png": "[encoded data removed]",
      "text/plain": [
       "<IPython.core.display.Image object>"
      ]
     },
     "metadata": {},
     "output_type": "display_data"
    },
    {
     "data": {
      "image/png": "[encoded data removed]",
      "text/plain": [
       "<IPython.core.display.Image object>"
      ]
     },
     "metadata": {},
     "output_type": "display_data"
    },
    {
     "data": {
      "image/png": "[encoded data removed]",
      "text/plain": [
       "<IPython.core.display.Image object>"
      ]
     },
     "metadata": {},
     "output_type": "display_data"
    },
    {
     "data": {
      "image/png": "[encoded data removed]",
      "text/plain": [
       "<IPython.core.display.Image object>"
      ]
     },
     "metadata": {},
     "output_type": "display_data"
    },
    {
     "data": {
      "image/png": "[encoded data removed]",
      "text/plain": [
       "<IPython.core.display.Image object>"
      ]
     },
     "metadata": {},
     "output_type": "display_data"
    },
    {
     "data": {
      "image/png": "[encoded data removed]",
      "text/plain": [
       "<IPython.core.display.Image object>"
      ]
     },
     "metadata": {},
     "output_type": "display_data"
    }
   ],
   "source": [
    "# Display first 6 images ສະແດງ 4ໂຕທຳອິດ\n",
    "for file in fn[:8]:\n",
    "    path = 'notMNIST_small/I/' + file\n",
    "##    print (path)\n",
    "    display(Image(path))\n",
    "\n",
    "###   ນາເພີ່ມໃສ່  ###\n",
    "###    import pdb; pdb.set_trace()"
   ]
  },
  {
   "cell_type": "code",
   "execution_count": 25,
   "metadata": {
    "collapsed": false,
    "deletable": true,
    "editable": true
   },
   "outputs": [
    {
     "name": "stdout",
     "output_type": "stream",
     "text": [
      "ຈຳນວນຮູບໃນໂຟນເດີ [notMNIST_large/D/]:  52912 ຮູບ\n"
     ]
    }
   ],
   "source": [
    "###   ນາເພີ່ມໃສ່   ເພື່ອຊອກຈຳນວນຟ້າຍໃນ ໂຟນເດີ(ໄດເລັກໂຕຣີ) ###\n",
    "# list = os.listdir(fn) # fn is your directory path\n",
    "dir = os.listdir(\"notMNIST_large/D/\")\n",
    "number_files = len(dir)\n",
    "print ('ຈຳນວນຮູບໃນໂຟນເດີ [notMNIST_large/D/]: ',number_files,'ຮູບ')"
   ]
  },
  {
   "cell_type": "code",
   "execution_count": 26,
   "metadata": {
    "collapsed": false,
    "deletable": true,
    "editable": true
   },
   "outputs": [
    {
     "name": "stdout",
     "output_type": "stream",
     "text": [
      "['./notMNIST_small/A', './notMNIST_small/B', './notMNIST_small/C', './notMNIST_small/D', './notMNIST_small/E', './notMNIST_small/F', './notMNIST_small/G', './notMNIST_small/H', './notMNIST_small/I', './notMNIST_small/J']\n"
     ]
    },
    {
     "data": {
      "image/png": "[encoded data removed]",
      "text/plain": [
       "<IPython.core.display.Image object>"
      ]
     },
     "metadata": {},
     "output_type": "display_data"
    },
    {
     "name": "stdout",
     "output_type": "stream",
     "text": [
      "[[   0.    0.    0.    1.    0.   68.  255.  253.  254.  254.  254.  255.\n",
      "   255.  255.  255.  255.  255.  255.  255.  255.  255.  254.  254.  254.\n",
      "   254.  251.  255.   67.]\n",
      " [   0.    0.    0.    2.    0.  122.  255.  254.  255.  255.  255.  254.\n",
      "   254.  255.  255.  255.  255.  255.  255.  253.  254.  255.  255.  255.\n",
      "   254.  255.  235.   42.]\n",
      " [   0.    0.    0.    2.    0.  165.  255.  253.  255.  255.  255.  255.\n",
      "   255.  255.  255.  255.  255.  255.  255.  255.  255.  255.  255.  255.\n",
      "   252.  255.  183.    9.]\n",
      " [   0.    0.    0.    0.    0.   30.   66.   64.   64.   65.   60.   87.\n",
      "   226.  255.  253.  255.  255.  254.  255.  168.   64.   64.   64.   64.\n",
      "    64.   64.   22.    0.]\n",
      " [   0.    0.    0.    0.    0.    0.    0.    0.    0.    2.    0.   28.\n",
      "   225.  255.  253.  255.  255.  253.  255.   49.    0.    2.    0.    0.\n",
      "     0.    0.    0.    0.]\n",
      " [   0.    0.    0.    0.    0.    1.    3.    3.    3.    5.    0.   59.\n",
      "   255.  252.  255.  255.  254.  255.  237.   28.    0.    4.    3.    3.\n",
      "     3.    3.    1.    0.]\n",
      " [   0.    0.    0.    0.    0.    0.    0.    0.    0.    2.    0.  103.\n",
      "   255.  252.  255.  255.  252.  255.  190.   11.    0.    1.    0.    0.\n",
      "     0.    0.    0.    0.]\n",
      " [   0.    0.    0.    0.    0.    0.    0.    0.    0.    0.    0.  157.\n",
      "   255.  253.  255.  255.  251.  255.  145.    0.    1.    0.    0.    0.\n",
      "     0.    0.    0.    0.]\n",
      " [   0.    0.    0.    0.    0.    0.    0.    0.    0.    0.    0.  211.\n",
      "   255.  254.  255.  255.  250.  255.  103.    0.    5.    0.    0.    0.\n",
      "     0.    0.    0.    0.]\n",
      " [   0.    0.    0.    0.    0.    0.    0.    0.    1.    0.   23.  241.\n",
      "   255.  254.  255.  254.  255.  248.   66.    0.    4.    0.    0.    0.\n",
      "     0.    0.    0.    0.]\n",
      " [   0.    0.    0.    0.    0.    0.    0.    0.    2.    0.   73.  251.\n",
      "   255.  255.  255.  253.  255.  219.   30.    0.    2.    0.    0.    0.\n",
      "     0.    0.    0.    0.]\n",
      " [   0.    0.    0.    0.    0.    0.    0.    0.    4.    0.  124.  255.\n",
      "   254.  255.  255.  252.  255.  190.    0.    2.    1.    0.    0.    0.\n",
      "     0.    0.    0.    0.]\n",
      " [   0.    0.    0.    0.    0.    0.    0.    0.    4.    0.  171.  255.\n",
      "   252.  255.  255.  252.  255.  154.    0.    4.    0.    0.    0.    0.\n",
      "     0.    0.    0.    0.]\n",
      " [   0.    0.    0.    0.    0.    0.    0.    1.    0.    8.  202.  255.\n",
      "   252.  255.  255.  255.  255.  103.    0.    3.    0.    0.    0.    0.\n",
      "     0.    0.    0.    0.]\n",
      " [   0.    0.    0.    0.    0.    0.    0.    3.    0.   46.  231.  255.\n",
      "   253.  255.  254.  255.  247.   52.    0.    2.    0.    0.    0.    0.\n",
      "     0.    0.    0.    0.]\n",
      " [   0.    0.    0.    0.    0.    0.    0.    4.    0.   82.  255.  253.\n",
      "   254.  255.  254.  255.  234.    7.    0.    0.    0.    0.    0.    0.\n",
      "     0.    0.    0.    0.]\n",
      " [   0.    0.    0.    0.    0.    0.    0.    4.    0.  119.  255.  250.\n",
      "   255.  255.  254.  255.  189.    0.    0.    0.    0.    0.    0.    0.\n",
      "     0.    0.    0.    0.]\n",
      " [   0.    0.    0.    0.    0.    0.    1.    0.    1.  165.  255.  251.\n",
      "   255.  255.  253.  255.  134.    0.    1.    0.    0.    0.    0.    0.\n",
      "     0.    0.    0.    0.]\n",
      " [   0.    0.    0.    0.    0.    0.    1.    0.   18.  210.  255.  253.\n",
      "   255.  255.  252.  255.   81.    0.    2.    0.    0.    0.    0.    0.\n",
      "     0.    0.    0.    0.]\n",
      " [   0.    0.    0.    0.    0.    0.    2.    0.   35.  254.  255.  255.\n",
      "   255.  254.  254.  255.   43.    0.    2.    0.    0.    0.    0.    0.\n",
      "     0.    0.    0.    0.]\n",
      " [   0.    0.    0.    0.    0.    0.    2.    0.   76.  255.  253.  255.\n",
      "   255.  253.  255.  212.   22.    0.    2.    0.    0.    0.    0.    0.\n",
      "     0.    0.    0.    0.]\n",
      " [   0.    0.    0.    0.    0.    0.    1.    0.  130.  255.  253.  255.\n",
      "   255.  251.  255.  170.    1.    0.    1.    0.    0.    0.    0.    0.\n",
      "     0.    0.    0.    0.]\n",
      " [   0.    3.    3.    3.    3.    3.    4.    0.  185.  255.  254.  255.\n",
      "   255.  250.  255.  131.    0.    7.    3.    3.    3.    2.    0.    0.\n",
      "     0.    0.    0.    0.]\n",
      " [   0.    0.    0.    0.    0.    0.    0.    0.  226.  255.  254.  255.\n",
      "   254.  254.  255.   85.    0.    4.    0.    0.    0.    0.    0.    0.\n",
      "     0.    0.    0.    0.]\n",
      " [   9.   56.   65.   64.   64.   65.   59.  124.  251.  255.  255.  255.\n",
      "   254.  255.  252.  125.   55.   66.   64.   63.   66.   48.    2.    0.\n",
      "     0.    0.    0.    0.]\n",
      " [ 124.  255.  253.  255.  255.  255.  255.  255.  255.  255.  255.  255.\n",
      "   255.  255.  255.  255.  255.  255.  255.  254.  255.  238.   22.    0.\n",
      "     1.    0.    0.    0.]\n",
      " [ 187.  255.  254.  255.  255.  255.  255.  253.  255.  255.  255.  255.\n",
      "   255.  255.  255.  254.  255.  255.  255.  253.  255.  200.   11.    0.\n",
      "     1.    0.    0.    0.]\n",
      " [ 230.  255.  253.  254.  254.  254.  254.  255.  255.  255.  255.  255.\n",
      "   255.  255.  255.  255.  254.  254.  254.  250.  255.  150.    0.    0.\n",
      "     0.    0.    0.    0.]]\n",
      "[[-0.5  -0.5  -0.5  -0.5  -0.5  -0.23  0.5   0.49  0.5   0.5   0.5   0.5\n",
      "   0.5   0.5   0.5   0.5   0.5   0.5   0.5   0.5   0.5   0.5   0.5   0.5\n",
      "   0.5   0.48  0.5  -0.24]\n",
      " [-0.5  -0.5  -0.5  -0.49 -0.5  -0.02  0.5   0.5   0.5   0.5   0.5   0.5\n",
      "   0.5   0.5   0.5   0.5   0.5   0.5   0.5   0.49  0.5   0.5   0.5   0.5\n",
      "   0.5   0.5   0.42 -0.34]\n",
      " [-0.5  -0.5  -0.5  -0.49 -0.5   0.15  0.5   0.49  0.5   0.5   0.5   0.5\n",
      "   0.5   0.5   0.5   0.5   0.5   0.5   0.5   0.5   0.5   0.5   0.5   0.5\n",
      "   0.49  0.5   0.22 -0.46]\n",
      " [-0.5  -0.5  -0.5  -0.5  -0.5  -0.38 -0.24 -0.25 -0.25 -0.25 -0.26 -0.16\n",
      "   0.39  0.5   0.49  0.5   0.5   0.5   0.5   0.16 -0.25 -0.25 -0.25 -0.25\n",
      "  -0.25 -0.25 -0.41 -0.5 ]\n",
      " [-0.5  -0.5  -0.5  -0.5  -0.5  -0.5  -0.5  -0.5  -0.5  -0.49 -0.5  -0.39\n",
      "   0.38  0.5   0.49  0.5   0.5   0.49  0.5  -0.31 -0.5  -0.49 -0.5  -0.5\n",
      "  -0.5  -0.5  -0.5  -0.5 ]\n",
      " [-0.5  -0.5  -0.5  -0.5  -0.5  -0.5  -0.49 -0.49 -0.49 -0.48 -0.5  -0.27\n",
      "   0.5   0.49  0.5   0.5   0.5   0.5   0.43 -0.39 -0.5  -0.48 -0.49 -0.49\n",
      "  -0.49 -0.49 -0.5  -0.5 ]\n",
      " [-0.5  -0.5  -0.5  -0.5  -0.5  -0.5  -0.5  -0.5  -0.5  -0.49 -0.5  -0.1\n",
      "   0.5   0.49  0.5   0.5   0.49  0.5   0.25 -0.46 -0.5  -0.5  -0.5  -0.5\n",
      "  -0.5  -0.5  -0.5  -0.5 ]\n",
      " [-0.5  -0.5  -0.5  -0.5  -0.5  -0.5  -0.5  -0.5  -0.5  -0.5  -0.5   0.12\n",
      "   0.5   0.49  0.5   0.5   0.48  0.5   0.07 -0.5  -0.5  -0.5  -0.5  -0.5\n",
      "  -0.5  -0.5  -0.5  -0.5 ]\n",
      " [-0.5  -0.5  -0.5  -0.5  -0.5  -0.5  -0.5  -0.5  -0.5  -0.5  -0.5   0.33\n",
      "   0.5   0.5   0.5   0.5   0.48  0.5  -0.1  -0.5  -0.48 -0.5  -0.5  -0.5\n",
      "  -0.5  -0.5  -0.5  -0.5 ]\n",
      " [-0.5  -0.5  -0.5  -0.5  -0.5  -0.5  -0.5  -0.5  -0.5  -0.5  -0.41  0.45\n",
      "   0.5   0.5   0.5   0.5   0.5   0.47 -0.24 -0.5  -0.48 -0.5  -0.5  -0.5\n",
      "  -0.5  -0.5  -0.5  -0.5 ]\n",
      " [-0.5  -0.5  -0.5  -0.5  -0.5  -0.5  -0.5  -0.5  -0.49 -0.5  -0.21  0.48\n",
      "   0.5   0.5   0.5   0.49  0.5   0.36 -0.38 -0.5  -0.49 -0.5  -0.5  -0.5\n",
      "  -0.5  -0.5  -0.5  -0.5 ]\n",
      " [-0.5  -0.5  -0.5  -0.5  -0.5  -0.5  -0.5  -0.5  -0.48 -0.5  -0.01  0.5\n",
      "   0.5   0.5   0.5   0.49  0.5   0.25 -0.5  -0.49 -0.5  -0.5  -0.5  -0.5\n",
      "  -0.5  -0.5  -0.5  -0.5 ]\n",
      " [-0.5  -0.5  -0.5  -0.5  -0.5  -0.5  -0.5  -0.5  -0.48 -0.5   0.17  0.5\n",
      "   0.49  0.5   0.5   0.49  0.5   0.1  -0.5  -0.48 -0.5  -0.5  -0.5  -0.5\n",
      "  -0.5  -0.5  -0.5  -0.5 ]\n",
      " [-0.5  -0.5  -0.5  -0.5  -0.5  -0.5  -0.5  -0.5  -0.5  -0.47  0.29  0.5\n",
      "   0.49  0.5   0.5   0.5   0.5  -0.1  -0.5  -0.49 -0.5  -0.5  -0.5  -0.5\n",
      "  -0.5  -0.5  -0.5  -0.5 ]\n",
      " [-0.5  -0.5  -0.5  -0.5  -0.5  -0.5  -0.5  -0.49 -0.5  -0.32  0.41  0.5\n",
      "   0.49  0.5   0.5   0.5   0.47 -0.3  -0.5  -0.49 -0.5  -0.5  -0.5  -0.5\n",
      "  -0.5  -0.5  -0.5  -0.5 ]\n",
      " [-0.5  -0.5  -0.5  -0.5  -0.5  -0.5  -0.5  -0.48 -0.5  -0.18  0.5   0.49\n",
      "   0.5   0.5   0.5   0.5   0.42 -0.47 -0.5  -0.5  -0.5  -0.5  -0.5  -0.5\n",
      "  -0.5  -0.5  -0.5  -0.5 ]\n",
      " [-0.5  -0.5  -0.5  -0.5  -0.5  -0.5  -0.5  -0.48 -0.5  -0.03  0.5   0.48\n",
      "   0.5   0.5   0.5   0.5   0.24 -0.5  -0.5  -0.5  -0.5  -0.5  -0.5  -0.5\n",
      "  -0.5  -0.5  -0.5  -0.5 ]\n",
      " [-0.5  -0.5  -0.5  -0.5  -0.5  -0.5  -0.5  -0.5  -0.5   0.15  0.5   0.48\n",
      "   0.5   0.5   0.49  0.5   0.03 -0.5  -0.5  -0.5  -0.5  -0.5  -0.5  -0.5\n",
      "  -0.5  -0.5  -0.5  -0.5 ]\n",
      " [-0.5  -0.5  -0.5  -0.5  -0.5  -0.5  -0.5  -0.5  -0.43  0.32  0.5   0.49\n",
      "   0.5   0.5   0.49  0.5  -0.18 -0.5  -0.49 -0.5  -0.5  -0.5  -0.5  -0.5\n",
      "  -0.5  -0.5  -0.5  -0.5 ]\n",
      " [-0.5  -0.5  -0.5  -0.5  -0.5  -0.5  -0.49 -0.5  -0.36  0.5   0.5   0.5\n",
      "   0.5   0.5   0.5   0.5  -0.33 -0.5  -0.49 -0.5  -0.5  -0.5  -0.5  -0.5\n",
      "  -0.5  -0.5  -0.5  -0.5 ]\n",
      " [-0.5  -0.5  -0.5  -0.5  -0.5  -0.5  -0.49 -0.5  -0.2   0.5   0.49  0.5\n",
      "   0.5   0.49  0.5   0.33 -0.41 -0.5  -0.49 -0.5  -0.5  -0.5  -0.5  -0.5\n",
      "  -0.5  -0.5  -0.5  -0.5 ]\n",
      " [-0.5  -0.5  -0.5  -0.5  -0.5  -0.5  -0.5  -0.5   0.01  0.5   0.49  0.5\n",
      "   0.5   0.48  0.5   0.17 -0.5  -0.5  -0.5  -0.5  -0.5  -0.5  -0.5  -0.5\n",
      "  -0.5  -0.5  -0.5  -0.5 ]\n",
      " [-0.5  -0.49 -0.49 -0.49 -0.49 -0.49 -0.48 -0.5   0.23  0.5   0.5   0.5\n",
      "   0.5   0.48  0.5   0.01 -0.5  -0.47 -0.49 -0.49 -0.49 -0.49 -0.5  -0.5\n",
      "  -0.5  -0.5  -0.5  -0.5 ]\n",
      " [-0.5  -0.5  -0.5  -0.5  -0.5  -0.5  -0.5  -0.5   0.39  0.5   0.5   0.5\n",
      "   0.5   0.5   0.5  -0.17 -0.5  -0.48 -0.5  -0.5  -0.5  -0.5  -0.5  -0.5\n",
      "  -0.5  -0.5  -0.5  -0.5 ]\n",
      " [-0.46 -0.28 -0.25 -0.25 -0.25 -0.25 -0.27 -0.01  0.48  0.5   0.5   0.5\n",
      "   0.5   0.5   0.49 -0.01 -0.28 -0.24 -0.25 -0.25 -0.24 -0.31 -0.49 -0.5\n",
      "  -0.5  -0.5  -0.5  -0.5 ]\n",
      " [-0.01  0.5   0.49  0.5   0.5   0.5   0.5   0.5   0.5   0.5   0.5   0.5\n",
      "   0.5   0.5   0.5   0.5   0.5   0.5   0.5   0.5   0.5   0.43 -0.41 -0.5\n",
      "  -0.5  -0.5  -0.5  -0.5 ]\n",
      " [ 0.23  0.5   0.5   0.5   0.5   0.5   0.5   0.49  0.5   0.5   0.5   0.5\n",
      "   0.5   0.5   0.5   0.5   0.5   0.5   0.5   0.49  0.5   0.28 -0.46 -0.5\n",
      "  -0.5  -0.5  -0.5  -0.5 ]\n",
      " [ 0.4   0.5   0.49  0.5   0.5   0.5   0.5   0.5   0.5   0.5   0.5   0.5\n",
      "   0.5   0.5   0.5   0.5   0.5   0.5   0.5   0.48  0.5   0.09 -0.5  -0.5\n",
      "  -0.5  -0.5  -0.5  -0.5 ]]\n"
     ]
    }
   ],
   "source": [
    "print(test_folders)\n",
    "display(Image(path))\n",
    "image_file = path\n",
    "image_data_Na = ndimage.imread(image_file).astype(float)\n",
    "print(image_data_Na) ### ເບິ່ງຄ່າແຕ່ລະພິເຊວກ່ອນເປັນ zero mean and standard deviation ~0.5 to make training easier down the road\n",
    "\n",
    "pixel_depth_Na = 255.0  # Number of levels per pixel.\n",
    "image_data_Na = (image_data_Na - pixel_depth_Na / 2) / pixel_depth_Na\n",
    "print(image_data_Na) ### ເບິ່ງຄ່າແຕ່ລະພິເຊວເມື່ອປ່ຽນເປັນ zero mean and standard deviation ~0.5 to make training easier down the road"
   ]
  },
  {
   "cell_type": "markdown",
   "metadata": {
    "colab_type": "text",
    "deletable": true,
    "editable": true,
    "id": "PBdkjESPK8tw"
   },
   "source": [
    "Now let's load the data in a more manageable format. Since, depending on your computer setup you might not be able to fit it all in memory, we'll load each class into a separate dataset, store them on disk and curate them independently. Later we'll merge them into a single dataset of manageable size.\n",
    "\n",
    "We'll convert the entire dataset into a 3D array (image index, x, y) of floating point values, normalized to have approximately zero mean and standard deviation ~0.5 to make training easier down the road. \n",
    "\n",
    "A few images might not be readable, we'll just skip them.\n",
    "\n",
    "..... ໝາຍເຫດ .....: os.listdir(folder) ໝາຍເຖິງຊື່ file ທັງໝົດທີ່ມີຢູ່ໃນໂຟເດີ ຕາມທີ່ຢູ່ທີ່ບອກດ້ວຍຕົວປ່ຽນ \"folder\""
   ]
  },
  {
   "cell_type": "code",
   "execution_count": 27,
   "metadata": {
    "cellView": "both",
    "colab": {
     "autoexec": {
      "startup": false,
      "wait_interval": 0
     },
     "output_extras": [
      {
       "item_id": 30
      }
     ]
    },
    "colab_type": "code",
    "collapsed": false,
    "deletable": true,
    "editable": true,
    "executionInfo": {
     "elapsed": 399874,
     "status": "ok",
     "timestamp": 1444485886378,
     "user": {
      "color": "#1FA15D",
      "displayName": "Vincent Vanhoucke",
      "isAnonymous": false,
      "isMe": true,
      "permissionId": "05076109866853157986",
      "photoUrl": "//lh6.googleusercontent.com/-cCJa7dTDcgQ/AAAAAAAAAAI/AAAAAAAACgw/r2EZ_8oYer4/s50-c-k-no/photo.jpg",
      "sessionId": "2a0a5e044bb03b66",
      "userId": "102167687554210253930"
     },
     "user_tz": 420
    },
    "id": "h7q0XhG3MJdf",
    "outputId": "92c391bb-86ff-431d-9ada-315568a19e59",
    "scrolled": true
   },
   "outputs": [
    {
     "name": "stdout",
     "output_type": "stream",
     "text": [
      "./notMNIST_large/A.pickle already present - Skipping pickling.\n",
      "./notMNIST_large/B.pickle already present - Skipping pickling.\n",
      "./notMNIST_large/C.pickle already present - Skipping pickling.\n",
      "./notMNIST_large/D.pickle already present - Skipping pickling.\n",
      "./notMNIST_large/E.pickle already present - Skipping pickling.\n",
      "./notMNIST_large/F.pickle already present - Skipping pickling.\n",
      "./notMNIST_large/G.pickle already present - Skipping pickling.\n",
      "./notMNIST_large/H.pickle already present - Skipping pickling.\n",
      "./notMNIST_large/I.pickle already present - Skipping pickling.\n",
      "./notMNIST_large/J.pickle already present - Skipping pickling.\n",
      "./notMNIST_small/A.pickle already present - Skipping pickling.\n",
      "./notMNIST_small/B.pickle already present - Skipping pickling.\n",
      "./notMNIST_small/C.pickle already present - Skipping pickling.\n",
      "./notMNIST_small/D.pickle already present - Skipping pickling.\n",
      "./notMNIST_small/E.pickle already present - Skipping pickling.\n",
      "./notMNIST_small/F.pickle already present - Skipping pickling.\n",
      "./notMNIST_small/G.pickle already present - Skipping pickling.\n",
      "./notMNIST_small/H.pickle already present - Skipping pickling.\n",
      "./notMNIST_small/I.pickle already present - Skipping pickling.\n",
      "./notMNIST_small/J.pickle already present - Skipping pickling.\n"
     ]
    }
   ],
   "source": [
    "image_size = 28  # Pixel width and height.\n",
    "pixel_depth = 255.0  # Number of levels per pixel.\n",
    "\n",
    "def load_letter(folder, min_num_images):\n",
    "  \"\"\"Load the data for a single letter label.\"\"\"\n",
    "  image_files = os.listdir(folder)                              # ໂລດຊື່ file ທັງໝົດທີ່ມີຢູ່ໃນໂຟເດີ (folder) ໃສ່ image_files\n",
    "  dataset = np.ndarray(shape=(len(image_files), image_size, image_size),\n",
    "                         dtype=np.float32)                      # np.ndarray ແມ່ນປ່ຽນຮູບທັງໝົດເປັນຕົວປ່ຽນ tuple ໂຕດ່ຽວ\n",
    "  print('ຂະໜາດ dataset ກ່ອນຂັດຮູບໃຊ້ບໍ່ໄດ້ອອກ: ', dataset.shape)     ###   ແຖວນີ້ນາເພີ່ມໃສ່\n",
    "  print(folder)\n",
    "  \n",
    "  num_images = 0\n",
    "  for image in image_files:\n",
    "    image_file = os.path.join(folder, image)\n",
    "    try:                                                         # ຂັ້ນຕອນນີ້ພະຍາມອ່ານຟ້າຍຮູບຖ້າອ່ານບໍ່ໄດ້ກໍ່ຈະຂັດອອກ\n",
    "      image_data = (ndimage.imread(image_file).astype(float) -   # ຂັ້ນຕອນນີ້ຄິດວ່າແມ່ນ່ປ່ຽນຮູບຕົວເລກແຕ່ລະພິກເຊວຮູບເປັນຮູບແບບ zero mean and standard deviation ~0.5\n",
    "                    pixel_depth / 2) / pixel_depth               # to make training easier down the road ເພື່ອງ້າຍໃນການປະຜົນຂອງຄອມ\n",
    "      if image_data.shape != (image_size, image_size):\n",
    "        raise Exception('Unexpected image shape: %s' % str(image_data.shape))\n",
    "      dataset[num_images, :, :] = image_data\n",
    "      num_images = num_images + 1\n",
    "    except IOError as e:\n",
    "      print('Could not read:', image_file, ':', e, '- it\\'s ok, skipping.')\n",
    "  dataset = dataset[0:num_images, :, :]     ### ແຖວນີ້ອັບເດດຈຳນວນຮູບຫຼັງຈາກຄັດຮູບທີ່ໃຊ້ບໍ່ໄດ້ອອກແລະຈັດລຽນຮູບເຂົ້າມາພ້ອມແລ້ວ\n",
    "                                            ### ເພື່ອຂະໜາດຂອງອາເລເທົ່າຈຳນວນຮູບທີ່ໃຊ້ໄດ້\n",
    "###   171224 ນາ    ####\n",
    "\n",
    "  if num_images < min_num_images:\n",
    "    raise Exception('Many fewer images than expected: %d < %d' %\n",
    "                    (num_images, min_num_images))\n",
    "    \n",
    "  print('Full dataset tensor:', dataset.shape)\n",
    "  print('Mean:', np.mean(dataset))           ### ???\n",
    "  print('Standard deviation:', np.std(dataset))   ### ???\n",
    "  return dataset\n",
    "\n",
    "###   171225 ນາ    ####\n",
    "\n",
    "def maybe_pickle(data_folders, min_num_images_per_class, force=False):\n",
    "  dataset_names = []\n",
    "  for folder in data_folders:                               # ຮອບທຳອິດ ເອົາຄ່າຫ້ອງທີ່1 ຂອງອາເລ້ data_folders ໃສ່ folder ຮອບຕໍ່ໄປກໍ່ເອົາຫ້ອງໄປຕໍ່ໄປຈົນຮອດສຸດທ້າຍ\n",
    "    set_filename = folder + '.pickle'                       # ເຊັນ './notMNIST_large/A', './notMNIST_large/B', ...\n",
    "    dataset_names.append(set_filename)                      # ລວມທີ່ຢູ່ພ້ອມຊື່ຟ້າຍນາມສະກຸນ .pickle ຂອງແຕ່ລະຕົວອັກສອນໃສ່ dataset_names ເພື່ອ\n",
    "    if os.path.exists(set_filename) and not force:          # ຫຼັງເປັນຮູບເປັນຮູບເປັນຟ້າຍ .pickle ກໍ່ return ພຽງທີ່ຢູ່ພ້ອມຊື່\n",
    "      # You may override by setting force=True.\n",
    "      print('%s already present - Skipping pickling.' % set_filename)\n",
    "    else:\n",
    "      print('Pickling %s.' % set_filename)\n",
    "      dataset = load_letter(folder, min_num_images_per_class) # ແຖວນີ້ໂລດກຸ່ມຮູບໃສ່ອາເລໂຕດຽວເພື່ອໄວ້ປ່ຽນເປັນຟ້າຍ .pickle\n",
    "      try:\n",
    "        with open(set_filename, 'wb') as f:                  #  ເປີດຟາຍຕາມ set_filename ໃນແບບ 'wb' ເປັນໄບນາລີແລະສາມາດຂຽນໃສ່ຟາຍໄດ້\n",
    "          pickle.dump(dataset, f, pickle.HIGHEST_PROTOCOL)   # ແຖວນີ້ປ່ຽນອາເລເປັນຟ້າຍ .pickle  ຕົວຢ່າງ A.pickle\n",
    "      except Exception as e:                                 # ຕົວຢ່າງຂອງ pickle.dump ຢູ່ https://kite.com/docs/python;pickle.dump\n",
    "        print('Unable to save data to', set_filename, ':', e)       \n",
    "  return dataset_names\n",
    "\n",
    "train_datasets = maybe_pickle(train_folders, 45000)\n",
    "test_datasets = maybe_pickle(test_folders, 1800)\n",
    "\n",
    "###   171229 ນາ    ####"
   ]
  },
  {
   "cell_type": "markdown",
   "metadata": {
    "colab_type": "text",
    "deletable": true,
    "editable": true,
    "id": "vUdbskYE2d87"
   },
   "source": [
    "---\n",
    "Problem 2\n",
    "---------\n",
    "\n",
    "Let's verify that the data still looks good. Displaying a sample of the labels and images from the ndarray. Hint: you can use matplotlib.pyplot.\n",
    "\n",
    "---"
   ]
  },
  {
   "cell_type": "code",
   "execution_count": 28,
   "metadata": {
    "collapsed": false,
    "deletable": true,
    "editable": true
   },
   "outputs": [
    {
     "name": "stdout",
     "output_type": "stream",
     "text": [
      "[[ 0.    0.38  0.32  0.33  0.33  0.33  0.33  0.32  0.33  0.32  0.37 -0.21\n",
      "  -0.5  -0.49 -0.5  -0.5  -0.5  -0.38 -0.08 -0.42  0.04 -0.44 -0.5  -0.5\n",
      "  -0.46 -0.39 -0.5  -0.5 ]\n",
      " [ 0.11  0.5   0.49  0.5   0.5   0.5   0.5   0.5   0.49  0.5   0.34 -0.47\n",
      "  -0.5  -0.5  -0.5  -0.5  -0.5  -0.44 -0.34 -0.5  -0.3  -0.12 -0.5  -0.5\n",
      "  -0.48 -0.45 -0.5  -0.5 ]\n",
      " [ 0.1   0.5   0.48  0.49  0.49  0.49  0.5   0.3   0.45  0.45 -0.21 -0.5\n",
      "  -0.48 -0.49 -0.5  -0.5  -0.5  -0.5  -0.5  -0.5  -0.14 -0.22 -0.5  -0.5\n",
      "  -0.5  -0.5  -0.5  -0.5 ]\n",
      " [ 0.1   0.5   0.47  0.48  0.48  0.5   0.31 -0.31  0.37 -0.15 -0.5  -0.48\n",
      "  -0.5  -0.5  -0.5  -0.5  -0.5  -0.49 -0.5  -0.34  0.42 -0.27 -0.5  -0.49\n",
      "  -0.5  -0.5  -0.5  -0.5 ]\n",
      " [ 0.11  0.5   0.49  0.5   0.5   0.5   0.45 -0.16 -0.46 -0.5  -0.5  -0.5\n",
      "  -0.39 -0.19 -0.43 -0.5  -0.5  -0.49 -0.5  -0.28  0.48  0.35 -0.43 -0.5\n",
      "  -0.5  -0.5  -0.5  -0.5 ]\n",
      " [-0.08  0.23  0.15  0.15  0.2   0.39  0.5  -0.14 -0.5  -0.48 -0.43 -0.44\n",
      "  -0.05 -0.01 -0.18 -0.46 -0.48 -0.48 -0.5  -0.3   0.47  0.35 -0.3  -0.5\n",
      "  -0.5  -0.5  -0.5  -0.5 ]\n",
      " [-0.5  -0.5  -0.5  -0.5  -0.5  -0.43 -0.27 -0.48 -0.5  -0.09  0.44  0.44\n",
      "   0.45  0.48  0.41  0.3   0.06 -0.47 -0.5   0.04  0.5  -0.05 -0.5  -0.49\n",
      "  -0.5  -0.5  -0.5  -0.5 ]\n",
      " [-0.49 -0.49 -0.49 -0.49 -0.49 -0.49 -0.5  -0.34  0.39  0.47  0.5   0.5\n",
      "   0.5   0.49  0.5   0.37 -0.41 -0.5  -0.5  -0.23  0.29 -0.49 -0.5  -0.5\n",
      "  -0.5  -0.5  -0.5  -0.5 ]\n",
      " [-0.5  -0.5  -0.5  -0.5  -0.5  -0.49 -0.5  -0.42  0.4   0.5   0.49  0.5\n",
      "   0.5   0.5   0.5   0.41  0.14  0.14 -0.15 -0.1  -0.05 -0.5  -0.48 -0.5\n",
      "  -0.5  -0.5  -0.5  -0.5 ]\n",
      " [-0.5  -0.5  -0.5  -0.5  -0.5  -0.5  -0.5  -0.49  0.34  0.5   0.49  0.5\n",
      "   0.5   0.49  0.48  0.5   0.5   0.5   0.5   0.38 -0.39 -0.5  -0.5  -0.5\n",
      "  -0.5  -0.5  -0.5  -0.5 ]\n",
      " [-0.5  -0.5  -0.5  -0.5  -0.5  -0.5  -0.49 -0.5   0.21  0.5   0.49  0.5\n",
      "   0.49  0.5   0.5   0.5   0.48  0.4   0.21  0.26 -0.45 -0.5  -0.5  -0.5\n",
      "  -0.5  -0.5  -0.5  -0.5 ]\n",
      " [-0.5  -0.5  -0.5  -0.5  -0.5  -0.5  -0.5  -0.5   0.23  0.5   0.49  0.49\n",
      "   0.5   0.3  -0.01 -0.27 -0.34 -0.43 -0.49 -0.25 -0.45 -0.5  -0.5  -0.5\n",
      "  -0.5  -0.5  -0.5  -0.5 ]\n",
      " [-0.5  -0.5  -0.5  -0.5  -0.5  -0.5  -0.5  -0.5   0.34  0.5   0.49  0.5\n",
      "   0.23 -0.37 -0.5  -0.49 -0.5  -0.5  -0.49 -0.5  -0.5  -0.5  -0.5  -0.5\n",
      "  -0.5  -0.5  -0.5  -0.5 ]\n",
      " [-0.5  -0.5  -0.5  -0.5  -0.5  -0.5  -0.5  -0.5   0.33  0.5   0.48  0.5\n",
      "  -0.17 -0.5  -0.47 -0.48 -0.49 -0.5  -0.5  -0.49 -0.5  -0.5  -0.5  -0.5\n",
      "  -0.5  -0.5  -0.5  -0.5 ]\n",
      " [-0.5  -0.5  -0.5  -0.5  -0.5  -0.5  -0.5  -0.5   0.33  0.5   0.48  0.5\n",
      "   0.17 -0.5  -0.49 -0.5  -0.5  -0.5  -0.5  -0.5  -0.5  -0.5  -0.5  -0.5\n",
      "  -0.5  -0.5  -0.5  -0.5 ]\n",
      " [-0.5  -0.5  -0.5  -0.5  -0.5  -0.5  -0.5  -0.5   0.32  0.5   0.49  0.5\n",
      "   0.46 -0.18 -0.49 -0.41 -0.39 -0.5  -0.5  -0.5  -0.5  -0.5  -0.5  -0.5\n",
      "  -0.5  -0.5  -0.5  -0.5 ]\n",
      " [-0.5  -0.5  -0.5  -0.5  -0.5  -0.5  -0.5  -0.5   0.32  0.5   0.49  0.5\n",
      "   0.5   0.5   0.36  0.39  0.09 -0.39 -0.5  -0.49 -0.5  -0.5  -0.5  -0.5\n",
      "  -0.5  -0.5  -0.5  -0.5 ]\n",
      " [-0.5  -0.5  -0.5  -0.5  -0.5  -0.5  -0.5  -0.49  0.34  0.5   0.49  0.5\n",
      "   0.5   0.48  0.5   0.35 -0.35 -0.46 -0.47 -0.49 -0.5  -0.5  -0.5  -0.5\n",
      "  -0.5  -0.5  -0.5  -0.5 ]\n",
      " [-0.5  -0.5  -0.5  -0.5  -0.5  -0.5  -0.5  -0.43  0.4   0.5   0.49  0.5\n",
      "   0.5   0.5   0.5   0.42  0.43  0.32  0.36 -0.06 -0.5  -0.5  -0.5  -0.5\n",
      "  -0.5  -0.5  -0.5  -0.5 ]\n",
      " [-0.5  -0.5  -0.5  -0.5  -0.5  -0.48 -0.5  -0.3   0.5   0.5   0.5   0.5\n",
      "   0.5   0.36  0.07 -0.3   0.32  0.5   0.35  0.4  -0.12 -0.5  -0.49 -0.5\n",
      "  -0.5  -0.5  -0.5  -0.5 ]\n",
      " [-0.49 -0.48 -0.49 -0.49 -0.5  -0.49 -0.5   0.01  0.5   0.49  0.5   0.49\n",
      "   0.5   0.34 -0.38 -0.47  0.28  0.5   0.05 -0.14  0.14 -0.5  -0.49 -0.49\n",
      "  -0.49 -0.49 -0.49 -0.49]\n",
      " [-0.5  -0.5  -0.5  -0.5  -0.5  -0.39  0.03  0.48  0.5   0.5   0.49  0.5\n",
      "   0.3   0.   -0.37 -0.45 -0.39 -0.32 -0.26 -0.44 -0.48 -0.49 -0.5  -0.5\n",
      "  -0.5  -0.5  -0.5  -0.5 ]\n",
      " [-0.08  0.1   0.15  0.21  0.32  0.46  0.5   0.5   0.49  0.5   0.25 -0.27\n",
      "  -0.27 -0.5  -0.49 -0.5  -0.5  -0.5  -0.5  -0.5  -0.5  -0.5  -0.43  0.12\n",
      "   0.19  0.17  0.25 -0.11]\n",
      " [ 0.31  0.5   0.49  0.5   0.5   0.5   0.49  0.5   0.49  0.5   0.19 -0.37\n",
      "  -0.46 -0.49 -0.5  -0.5  -0.49 -0.49 -0.49 -0.5  -0.49 -0.5  -0.23  0.5\n",
      "   0.49  0.5   0.44  0.12]\n",
      " [ 0.28  0.5   0.48  0.49  0.49  0.5   0.5   0.5   0.5   0.49  0.02 -0.34\n",
      "  -0.48 -0.5  -0.5  -0.49 -0.49 -0.48 -0.49 -0.49 -0.49 -0.5  -0.18  0.5\n",
      "   0.48  0.45  0.02 -0.25]\n",
      " [ 0.28  0.5   0.48  0.49  0.49  0.49  0.49  0.49  0.49  0.49 -0.05 -0.5\n",
      "  -0.49 -0.5  -0.5  -0.49 -0.48 -0.5  -0.5  -0.5  -0.49 -0.5  -0.1   0.5\n",
      "   0.48  0.48  0.5   0.26]\n",
      " [ 0.24  0.5   0.49  0.5   0.5   0.5   0.5   0.5   0.5   0.5   0.5  -0.06\n",
      "  -0.3  -0.43 -0.5   0.04  0.23  0.04 -0.12 -0.18 -0.5  -0.5  -0.02  0.5\n",
      "   0.49  0.5   0.5   0.43]\n",
      " [-0.05  0.24  0.19  0.21  0.21  0.22  0.22  0.21  0.21  0.17  0.13  0.02\n",
      "  -0.13 -0.44 -0.46 -0.05  0.17  0.08 -0.25 -0.34 -0.5  -0.5  -0.5  -0.19\n",
      "   0.18  0.1   0.06 -0.1 ]]\n"
     ]
    },
    {
     "data": {
      "image/png": "[encoded data removed]",
      "text/plain": [
       "<matplotlib.figure.Figure at 0x7f2cc4b26e90>"
      ]
     },
     "metadata": {},
     "output_type": "display_data"
    }
   ],
   "source": [
    "# index 0 should be all As, 1 = all Bs, etc. ອິນເດັດ(Index ຫຼື Label) 0 ໝາຍເຖິງກຸ່ມຕົວອັກສອນ 'A', ອິນເດັດ 1 ໝາຍເຖິງ  'B'\n",
    "pickle_file = train_datasets[8]  \n",
    "\n",
    "# With would automatically close the file after the nested block of code\n",
    "with open(pickle_file, 'rb') as f:\n",
    "    \n",
    "    # unpickle\n",
    "    letter_set = pickle.load(f)  \n",
    "    \n",
    "    # pick a random image index\n",
    "    sample_idx = np.random.randint(len(letter_set))      # The method len() returns the number of elements in the list\n",
    "                                                         # ຊຸ່ມເອົາເລກໃດໜຶ່ງ ແຕ່ 0 ຫາ len(letter_set) ກໍ່ຄືຊຸມເອົາຮູບໃດໜຶ່ງໃນ train_datasets[8]\n",
    "    # extract a 2D slice    ບໍ່ເຂົ້າໃຈຄຳອະທິີບາຍແຖວນີ້ ???\n",
    "    sample_image = letter_set[sample_idx, :, :] \n",
    "\n",
    "    ## sample_image = letter_set[7, :, :]          # ຖ້າບໍ່ຢາກຊຸມກໍ່ໃຊ້ແຖວນີ້\n",
    "\n",
    "    plt.figure()\n",
    "    \n",
    "    # display it ສະແດງຮູບເພື່ອກວດເບິ່ງວ່າຮູບທີ່ໄດ້ມາມັນດີບໍ່\n",
    "    plt.imshow(sample_image)\n",
    "                    \n",
    "    print(sample_image)   # ເປັນຫຍັງຕົວເລກພວກນີ້ມີຄ່າດຽວຢູ່ໃນພິກເຊວເມື່ອສ້າງເປັນຮູບຄືບໍ່ເປັນຮູບຂາວດຳ"
   ]
  },
  {
   "cell_type": "markdown",
   "metadata": {
    "colab_type": "text",
    "deletable": true,
    "editable": true,
    "id": "cYznx5jUwzoO"
   },
   "source": [
    "---\n",
    "Problem 3\n",
    "---------\n",
    "Another check: we expect the data to be balanced across classes. Verify that. 'balanced across classes' ບໍ່ຮູ້ໝາຍເຖິງຫຍັງ\n",
    "\n",
    "---"
   ]
  },
  {
   "cell_type": "markdown",
   "metadata": {
    "colab_type": "text",
    "deletable": true,
    "editable": true,
    "id": "LA7M7K22ynCt"
   },
   "source": [
    "Merge and prune the training data as needed. Depending on your computer setup, you might not be able to fit it all in memory, and you can tune `train_size` as needed. The labels will be stored into a separate array of integers 0 through 9.\n",
    "\n",
    "Also create a validation dataset for hyperparameter tuning."
   ]
  },
  {
   "cell_type": "code",
   "execution_count": 29,
   "metadata": {
    "cellView": "both",
    "colab": {
     "autoexec": {
      "startup": false,
      "wait_interval": 0
     },
     "output_extras": [
      {
       "item_id": 1
      }
     ]
    },
    "colab_type": "code",
    "collapsed": false,
    "deletable": true,
    "editable": true,
    "executionInfo": {
     "elapsed": 411281,
     "status": "ok",
     "timestamp": 1444485897869,
     "user": {
      "color": "#1FA15D",
      "displayName": "Vincent Vanhoucke",
      "isAnonymous": false,
      "isMe": true,
      "permissionId": "05076109866853157986",
      "photoUrl": "//lh6.googleusercontent.com/-cCJa7dTDcgQ/AAAAAAAAAAI/AAAAAAAACgw/r2EZ_8oYer4/s50-c-k-no/photo.jpg",
      "sessionId": "2a0a5e044bb03b66",
      "userId": "102167687554210253930"
     },
     "user_tz": 420
    },
    "id": "s3mWgZLpyuzq",
    "outputId": "8af66da6-902d-4719-bedc-7c9fb7ae7948"
   },
   "outputs": [
    {
     "name": "stdout",
     "output_type": "stream",
     "text": [
      "Training: (10000, 28, 28) (10000,)\n",
      "Validation: (750, 28, 28) (750,)\n",
      "Testing: (500, 28, 28) (500,)\n"
     ]
    }
   ],
   "source": [
    "def make_arrays(nb_rows, img_size):\n",
    "  if nb_rows:\n",
    "    dataset = np.ndarray((nb_rows, img_size, img_size), dtype=np.float32)\n",
    "    labels = np.ndarray(nb_rows, dtype=np.int32)\n",
    "  else:\n",
    "    dataset, labels = None, None\n",
    "  return dataset, labels\n",
    "\n",
    "def merge_datasets(pickle_files, train_size, valid_size=0):    # ສຳລັບຄ່າ valid_size=0 ມັນຈະເທົ່າ 0 ຖ້າໂຕເອີ້ນຟັງຊັນນີ້ບໍ່ໃຫ້ຄ່າ valid_size  \n",
    "# ຟັງຊັນນີ້ລວມ\n",
    "## ອະທິບາຍໂຕຫຍໍ້ _v ໝາຍເຖິງ _validation, _t ໝາຍເຖິງ _training ແລະ _l ໝາຍເຖິງ All ຄືຈຳນວນ _v + _t: end_l = vsize_per_class+tsize_per_class\n",
    "    \n",
    "  num_classes = len(pickle_files)                              # ເອົາເລກທີ່ເທົ່າກັບຈຳນວນຟ້າຍໃນ ໂຟນເດີທີ່ກຳນົດມາ ''\n",
    "  valid_dataset, valid_labels = make_arrays(valid_size, image_size)\n",
    "  train_dataset, train_labels = make_arrays(train_size, image_size)\n",
    "  vsize_per_class = valid_size // num_classes\n",
    "  tsize_per_class = train_size // num_classes\n",
    "    \n",
    "  start_v, start_t = 0, 0\n",
    "  end_v, end_t = vsize_per_class, tsize_per_class\n",
    "  end_l = vsize_per_class+tsize_per_class\n",
    "  for label, pickle_file in enumerate(pickle_files):     # enumerate ສ້າງເລກລຳດັບຈັບຄູ່ກັບແຕ່ລະອົງປະກອບ ກໍ່ຄືລຳດັບ 0 ແທນໃຫ້ອົງປະກອບທຳອິດ\n",
    "    try:                                                 # ໝາຍຄວາມວ່າລຳດັບ 0 ແທນໃຫ້ຕົວອັກສອນ A ເພາະ A ແມ່ນອົງປະກອບທຳອິດຂອງ pickle_files\n",
    "      with open(pickle_file, 'rb') as f:\n",
    "        letter_set = pickle.load(f)\n",
    "        # let's shuffle the letters to have random  and training set\n",
    "        np.random.shuffle(letter_set)          # shuffle ເຮັດໃຫ້ຈັດລຳດັບໃໝ່ແບບຊຸ່ມເດົາ ຂອງແຕ່ລະກຸ່ມຕົວອັກສອນໃຜມັນ ຕົວຢ່າງ https://docs.scipy.org/doc/numpy-1.13.0/reference/generated/numpy.random.shuffle.html\n",
    "        \n",
    "        # ຫຼັງຈາກຈັດລຳດັບໃໝ່ແບບຊຸ່ມເດົາແລ້ວຈຶ່ງປ້ອນຮູບໃສ່  valid_dataset ແລະ ໃສ່ train_dataset ໂດຍເອົາໃສ່ຕໍ່ກັນເທື່ອລະກຸ່ມຕົວອັກສອນ\n",
    "        # ແລ້ວກໍ່ຈະໄດ້ valid_dataset, valid_labels, train_dataset, train_labels ທີ່ມີທຸກຕົວອັກສອນ ພ້ອມລຽນລຳດັບຈັບຄູ່ກັບ label ຂອງມັນເອງ\n",
    "        if valid_dataset is not None:\n",
    "          valid_letter = letter_set[:vsize_per_class, :, :]    \n",
    "          valid_dataset[start_v:end_v, :, :] = valid_letter\n",
    "          valid_labels[start_v:end_v] = label\n",
    "          start_v += vsize_per_class\n",
    "          end_v += vsize_per_class\n",
    "                    \n",
    "        train_letter = letter_set[vsize_per_class:end_l, :, :]\n",
    "        train_dataset[start_t:end_t, :, :] = train_letter\n",
    "        train_labels[start_t:end_t] = label\n",
    "        start_t += tsize_per_class\n",
    "        end_t += tsize_per_class\n",
    "    except Exception as e:\n",
    "      print('Unable to process data from', pickle_file, ':', e)\n",
    "      raise\n",
    "###  print('label :', label)\n",
    "###  print('vsize_per_class: ',vsize_per_class)\n",
    "  return valid_dataset, valid_labels, train_dataset, train_labels\n",
    "            \n",
    "            \n",
    "train_size = 2000 *5  # ເນື່ອງຈາກຈຳນວນຝຶກແອບມີຮອດປະມານ 500000ໂຕ ແຕ່ຄອມຂ້ອຍສາມາດຝຶກແອບໄດ້ປະມານພຽງ 10000 ໂຕຝຶກແອບ\n",
    "valid_size = 150 * 5   # ຂະໜາດຂໍ້ມູນທີ່ໃຊ້ທົດລອງ\n",
    "test_size = 100 * 5\n",
    "# ຄຳສັ່ງແຖວຂ້າງລູ່ມນີ້ເລືອກເອົາບັນດາຕົວຝຶກແອບອອກເປັນ 2ກຸ່ມຄື: ກຸ່ມຝຶກແອບ ແລະ ກຸ່ມທົດລອງ ຕາມກຳນົດຂ້າງເທິງ ໂດຍເລືອກເອົາແບບຊຸ່ມເອົາ 'shuffle'\n",
    "valid_dataset, valid_labels, train_dataset, train_labels = merge_datasets(\n",
    "  train_datasets, train_size, valid_size)         \n",
    "\n",
    "_, _, test_dataset, test_labels = merge_datasets(test_datasets, test_size)\n",
    "\n",
    "print('Training:', train_dataset.shape, train_labels.shape)\n",
    "print('Validation:', valid_dataset.shape, valid_labels.shape)\n",
    "print('Testing:', test_dataset.shape, test_labels.shape)"
   ]
  },
  {
   "cell_type": "markdown",
   "metadata": {
    "colab_type": "text",
    "deletable": true,
    "editable": true,
    "id": "GPTCnjIcyuKN"
   },
   "source": [
    "Next, we'll randomize the data. It's important to have the labels well shuffled for the training and test distributions to match.\n",
    "ທີ່ຜ່ານມາໄດ້ shuffle ຮູບໃນແຕ່ລະກຸ່ມຕົວອັກສອນ ແລ້ວຈຶ່ງໂລດໃສ່ valid_dataset, valid_labels, train_dataset, train_labels, test_dataset, ແລະ test_labels ເມື່ອໂລດໃສ່ແລ້ວພວກມັນຍັງແຍກເປັນຊັ້ນແຕ່ລະຕົວອັກສອນ ສະນັ້ນເພື່ອໃຫ້ໃກ້ກັບຕົວຈິງຫຼາຍຂື້ນກໍ່ຕ້ອງ random ລຳດັບທັງ່ໝົດໃໝ່ໝົດຂອງ valid_dataset, valid_labels, train_dataset, train_labels, test_dataset, ແລະ test_labelsໂດຍການຈັບຄູ່ຂອງຂໍ້ມູນ ແລະ ລາບິວຂອງຖືກຄູ່ກັນຢູ່"
   ]
  },
  {
   "cell_type": "code",
   "execution_count": 30,
   "metadata": {
    "cellView": "both",
    "colab": {
     "autoexec": {
      "startup": false,
      "wait_interval": 0
     }
    },
    "colab_type": "code",
    "collapsed": true,
    "deletable": true,
    "editable": true,
    "id": "6WZ2l2tN2zOL"
   },
   "outputs": [],
   "source": [
    "def randomize(dataset, labels):    \n",
    "  permutation = np.random.permutation(labels.shape[0])   # ເປັນຄຳສັງສະລັບລຳດັບຂອງອົງປະກອບແບບຊຸມ ໃນແຖວນີ້ຈະສະລັບເລກລຳດັບແຕ່ 0 ຫາ ລຳດັບໃຫຍ່ສຸດ\n",
    "                                                         # ຂອງ labels ກໍ່ຄືເລກ labels.shape[0]\n",
    "                                                         # np.random.permutation() Randomly permute a sequence, or return a permuted range.\n",
    "                                                         # If x is a multi-dimensional array, it is only shuffled along its first index.\n",
    "  shuffled_dataset = dataset[permutation,:,:]\n",
    "  shuffled_labels = labels[permutation]\n",
    "  return shuffled_dataset, shuffled_labels\n",
    "train_dataset, train_labels = randomize(train_dataset, train_labels)\n",
    "test_dataset, test_labels = randomize(test_dataset, test_labels)\n",
    "valid_dataset, valid_labels = randomize(valid_dataset, valid_labels)"
   ]
  },
  {
   "cell_type": "markdown",
   "metadata": {
    "colab_type": "text",
    "deletable": true,
    "editable": true,
    "id": "puDUTe6t6USl"
   },
   "source": [
    "---\n",
    "Problem 4\n",
    "---------\n",
    "Convince yourself that the data is still good after shuffling!\n",
    "\n",
    "---"
   ]
  },
  {
   "cell_type": "markdown",
   "metadata": {
    "colab_type": "text",
    "deletable": true,
    "editable": true,
    "id": "tIQJaJuwg5Hw"
   },
   "source": [
    "Finally, let's save the data for later reuse:"
   ]
  },
  {
   "cell_type": "code",
   "execution_count": 31,
   "metadata": {
    "cellView": "both",
    "colab": {
     "autoexec": {
      "startup": false,
      "wait_interval": 0
     }
    },
    "colab_type": "code",
    "collapsed": true,
    "deletable": true,
    "editable": true,
    "id": "QiR_rETzem6C"
   },
   "outputs": [],
   "source": [
    "pickle_file = os.path.join(data_root, 'notMNIST.pickle')     # ຟາຍ 'notMNIST.pickle' ເຮັດໜ້າທີ່ເກັບຂໍ້ມູນທັງໝົດໃຊ້ໃຫ້ຄອມຮຽນຮູ້ຕົວອັກສອນ\n",
    "                                                             # ເຊິ່ງຂໍ້ມູນນັ້ນເປັນໄບນາລີ ຢູ່ໃນຕົວປ່ຽນແບບ array\n",
    "try:\n",
    "  f = open(pickle_file, 'wb') \n",
    "  save = {\n",
    "    'train_dataset': train_dataset,\n",
    "    'train_labels': train_labels,\n",
    "    'valid_dataset': valid_dataset,\n",
    "    'valid_labels': valid_labels,\n",
    "    'test_dataset': test_dataset,\n",
    "    'test_labels': test_labels,\n",
    "    }\n",
    "  pickle.dump(save, f, pickle.HIGHEST_PROTOCOL)\n",
    "  f.close()\n",
    "except Exception as e:\n",
    "  print('Unable to save data to', pickle_file, ':', e)\n",
    "  raise"
   ]
  },
  {
   "cell_type": "code",
   "execution_count": 32,
   "metadata": {
    "cellView": "both",
    "colab": {
     "autoexec": {
      "startup": false,
      "wait_interval": 0
     },
     "output_extras": [
      {
       "item_id": 1
      }
     ]
    },
    "colab_type": "code",
    "collapsed": false,
    "deletable": true,
    "editable": true,
    "executionInfo": {
     "elapsed": 413065,
     "status": "ok",
     "timestamp": 1444485899688,
     "user": {
      "color": "#1FA15D",
      "displayName": "Vincent Vanhoucke",
      "isAnonymous": false,
      "isMe": true,
      "permissionId": "05076109866853157986",
      "photoUrl": "//lh6.googleusercontent.com/-cCJa7dTDcgQ/AAAAAAAAAAI/AAAAAAAACgw/r2EZ_8oYer4/s50-c-k-no/photo.jpg",
      "sessionId": "2a0a5e044bb03b66",
      "userId": "102167687554210253930"
     },
     "user_tz": 420
    },
    "id": "hQbLjrW_iT39",
    "outputId": "b440efc6-5ee1-4cbc-d02d-93db44ebd956"
   },
   "outputs": [
    {
     "name": "stdout",
     "output_type": "stream",
     "text": [
      "Compressed pickle size: 35325437\n"
     ]
    }
   ],
   "source": [
    "statinfo = os.stat(pickle_file)\n",
    "print('Compressed pickle size:', statinfo.st_size)\n",
    "\n",
    "###   180101 ນາ    ####"
   ]
  },
  {
   "cell_type": "markdown",
   "metadata": {
    "colab_type": "text",
    "deletable": true,
    "editable": true,
    "id": "gE_cRAQB33lk"
   },
   "source": [
    "---\n",
    "Problem 5\n",
    "---------\n",
    "\n",
    "By construction, this dataset might contain a lot of overlapping samples, including training data that's also contained in the validation and test set! Overlap between training and test can skew the results if you expect to use your model in an environment where there is never an overlap, but are actually ok if you expect to see training samples recur when you use it.\n",
    "Measure how much overlap there is between training, validation and test samples.\n",
    "\n",
    "Optional questions:\n",
    "- What about near duplicates between datasets? (images that are almost identical)\n",
    "- Create a sanitized validation and test set, and compare your accuracy on those in subsequent assignments.\n",
    "---"
   ]
  },
  {
   "cell_type": "code",
   "execution_count": 33,
   "metadata": {
    "collapsed": false,
    "deletable": true,
    "editable": true
   },
   "outputs": [
    {
     "name": "stdout",
     "output_type": "stream",
     "text": [
      "Number of overlaps between training and test sets: 5. Execution time: 0.05766.\n",
      "Number of overlaps between training and validation sets: 10. Execution time: 0.053298.\n",
      "Number of overlaps between validation and test sets: 2. Execution time: 0.005774.\n"
     ]
    }
   ],
   "source": [
    "import time\n",
    "\n",
    "def check_overlaps(images1, images2):\n",
    "    images1.flags.writeable=False\n",
    "    images2.flags.writeable=False\n",
    "    start = time.clock()\n",
    "    hash1 = set([hash(image1.data) for image1 in images1])\n",
    "    hash2 = set([hash(image2.data) for image2 in images2])\n",
    "    all_overlaps = set.intersection(hash1, hash2)\n",
    "    return all_overlaps, time.clock()-start\n",
    "\n",
    "r, execTime = check_overlaps(train_dataset, test_dataset)    \n",
    "print('Number of overlaps between training and test sets: {}. Execution time: {}.'.format(len(r), execTime))\n",
    "\n",
    "r, execTime = check_overlaps(train_dataset, valid_dataset)   \n",
    "print('Number of overlaps between training and validation sets: {}. Execution time: {}.'.format(len(r), execTime))\n",
    "\n",
    "r, execTime = check_overlaps(valid_dataset, test_dataset) \n",
    "print('Number of overlaps between validation and test sets: {}. Execution time: {}.'.format(len(r), execTime))"
   ]
  },
  {
   "cell_type": "markdown",
   "metadata": {
    "colab_type": "text",
    "deletable": true,
    "editable": true,
    "id": "L8oww1s4JMQx"
   },
   "source": [
    "---\n",
    "Problem 6\n",
    "---------\n",
    "\n",
    "Let's get an idea of what an off-the-shelf classifier can give you on this data. It's always good to check that there is something to learn, and that it's a problem that is not so trivial that a canned solution solves it.\n",
    "\n",
    "Train a simple model on this data using 50, 100, 1000 and 5000 training samples. Hint: you can use the LogisticRegression model from sklearn.linear_model.\n",
    "\n",
    "Optional question: train an off-the-shelf model on all the data!\n",
    "\n",
    "---"
   ]
  },
  {
   "cell_type": "code",
   "execution_count": 34,
   "metadata": {
    "collapsed": false,
    "deletable": true,
    "editable": true
   },
   "outputs": [
    {
     "data": {
      "text/plain": [
       "(10000, 28, 28)"
      ]
     },
     "execution_count": 34,
     "metadata": {},
     "output_type": "execute_result"
    }
   ],
   "source": [
    "# Here you have 200000 samples\n",
    "# 28 x 28 features\n",
    "# We have to reshape them because scikit-learn expects (n_samples, n_features)\n",
    "train_dataset.shape"
   ]
  },
  {
   "cell_type": "code",
   "execution_count": 35,
   "metadata": {
    "collapsed": false,
    "deletable": true,
    "editable": true
   },
   "outputs": [
    {
     "data": {
      "text/plain": [
       "(500, 28, 28)"
      ]
     },
     "execution_count": 35,
     "metadata": {},
     "output_type": "execute_result"
    }
   ],
   "source": [
    "test_dataset.shape"
   ]
  },
  {
   "cell_type": "code",
   "execution_count": 36,
   "metadata": {
    "collapsed": true,
    "deletable": true,
    "editable": true
   },
   "outputs": [],
   "source": [
    "# Prepare training data\n",
    "samples, width, height = train_dataset.shape\n",
    "X_train = np.reshape(train_dataset,(samples,width*height))\n",
    "y_train = train_labels\n",
    "\n",
    "# Prepare testing data\n",
    "samples, width, height = test_dataset.shape\n",
    "X_test = np.reshape(test_dataset,(samples,width*height))\n",
    "y_test = test_labels"
   ]
  },
  {
   "cell_type": "code",
   "execution_count": 37,
   "metadata": {
    "collapsed": false,
    "deletable": true,
    "editable": true
   },
   "outputs": [
    {
     "name": "stderr",
     "output_type": "stream",
     "text": [
      "[Parallel(n_jobs=-1)]: Done   1 out of   1 | elapsed:  1.1min finished\n"
     ]
    },
    {
     "data": {
      "text/plain": [
       "0.85799999999999998"
      ]
     },
     "execution_count": 37,
     "metadata": {},
     "output_type": "execute_result"
    }
   ],
   "source": [
    "# Import\n",
    "from sklearn.linear_model import LogisticRegression\n",
    "\n",
    "# Instantiate\n",
    "lg = LogisticRegression(multi_class='multinomial', solver='lbfgs', random_state=42, verbose=1, max_iter=1000, n_jobs=-1)\n",
    "\n",
    "# Fit\n",
    "lg.fit(X_train, y_train)   ###---     ແຖວນີ້ໜ້າຈະແມ່ນຄຳສັ່ງໃຫ້ຮຽນ       ---###\n",
    "\n",
    "# Predict\n",
    "y_pred = lg.predict(X_test)   ###--- ຫຼັງຈາກຮຽນແລ້ວກໍ່ມາທົດສອບກັບຊຸດຂໍ້ມູນ X_test ຊຶ່ງຜົນການທົດສອບເກັບໄວ້ຢູ່ y_pred       ---###\n",
    "\n",
    "# Score\n",
    "from sklearn import metrics\n",
    "metrics.accuracy_score(y_test, y_pred)    ###--- ຫຼັງຈາກທົດສອບແລ້ວກໍ່ມາເບິ່ງຄວາມແນ່ນອນໂດຍທຽບກັນລະຫວ່າງ y_test ກັບ  y_pred     ---###\n",
    "\n",
    "###   180106 ນາ    ####"
   ]
  },
  {
   "cell_type": "code",
   "execution_count": 38,
   "metadata": {
    "collapsed": true,
    "deletable": true,
    "editable": true
   },
   "outputs": [],
   "source": [
    "###   180603 ສືກສາຄືນເປັນຄັ້ງທີ່ 2  ຜົນໄດ້ຮັບໂອກາດແທ້ຕ້ອງແມ່ນ 86.79999999%  ####"
   ]
  }
 ],
 "metadata": {
  "colab": {
   "default_view": {},
   "name": "1_notmnist.ipynb",
   "provenance": [],
   "version": "0.3.2",
   "views": {}
  },
  "kernelspec": {
   "display_name": "Python 2",
   "language": "python",
   "name": "python2"
  },
  "language_info": {
   "codemirror_mode": {
    "name": "ipython",
    "version": 2
   },
   "file_extension": ".py",
   "mimetype": "text/x-python",
   "name": "python",
   "nbconvert_exporter": "python",
   "pygments_lexer": "ipython2",
   "version": "2.7.6"
  }
 },
 "nbformat": 4,
 "nbformat_minor": 0
}
