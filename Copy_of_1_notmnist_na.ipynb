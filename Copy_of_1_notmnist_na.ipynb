{
  "nbformat": 4,
  "nbformat_minor": 0,
  "metadata": {
    "colab": {
      "name": "Copy of 1_notmnist_na.ipynb",
      "provenance": [],
      "collapsed_sections": [
        "OeQxjEyGyTPB"
      ],
      "include_colab_link": true
    },
    "kernelspec": {
      "name": "python3",
      "display_name": "Python 3"
    }
  },
  "cells": [
    {
      "cell_type": "markdown",
      "metadata": {
        "id": "view-in-github",
        "colab_type": "text"
      },
      "source": [
        "<a href=\"https://colab.research.google.com/github/Khamphang/test-repositry/blob/master/Copy_of_1_notmnist_na.ipynb\" target=\"_parent\"><img src=\"https://colab.research.google.com/assets/colab-badge.svg\" alt=\"Open In Colab\"/></a>"
      ]
    },
    {
      "cell_type": "code",
      "metadata": {
        "cellView": "both",
        "colab_type": "code",
        "deletable": true,
        "editable": true,
        "id": "apJbCsBHl-2A",
        "colab": {}
      },
      "source": [
        "# These are all the modules we'll be using later. Make sure you can import them\n",
        "# before proceeding further.\n",
        "### ຄຳຕອບຂອງ Assignment ນີ້: http://www.ritchieng.com/machine-learning/deep-learning/tensorflow/notmnist/\n",
        "\n",
        "from __future__ import print_function\n",
        "import matplotlib.pyplot as plt\n",
        "import numpy as np\n",
        "import os\n",
        "import sys\n",
        "import tarfile\n",
        "###       ໂຕ import ລຸ່ມນີ້ແມ່ນ ນາເພີ່ມໃສ່        ###\n",
        "import imageio\n",
        "\n",
        "from IPython.display import display, Image\n",
        "from scipy import ndimage\n",
        "from sklearn.linear_model import LogisticRegression\n",
        "from six.moves.urllib.request import urlretrieve\n",
        "from six.moves import cPickle as pickle\n",
        "\n",
        "###   ຖ້າໜ້າແຖວມີ ### ແມ່ນແຖວນັ້ນນາເພີ່ມໃສ່  \n",
        "np.set_printoptions(precision=2)\n",
        "###import pdb\n",
        "###  import pdb; pdb.set_trace()   ###   ນາ    ####\n",
        "###   ນາເພີ່ມໃສ່     ####\n",
        "\n",
        "# Config the matplotlib backend as plotting inline in IPython\n",
        "%matplotlib inline"
      ],
      "execution_count": 0,
      "outputs": []
    },
    {
      "cell_type": "markdown",
      "metadata": {
        "colab_type": "text",
        "deletable": true,
        "editable": true,
        "id": "5hIbr52I7Z7U"
      },
      "source": [
        "Deep Learning\n",
        "=============\n",
        "\n",
        "Assignment 1\n",
        "------------\n",
        "\n",
        "The objective of this assignment is to learn about simple data curation practices, and familiarize you with some of the data we'll be reusing later.\n",
        "\n",
        "This notebook uses the [notMNIST](http://yaroslavvb.blogspot.com/2011/09/notmnist-dataset.html) dataset to be used with python experiments. This dataset is designed to look like the classic [MNIST](http://yann.lecun.com/exdb/mnist/) dataset, while looking a little more like real data: it's a harder task, and the data is a lot less 'clean' than MNIST."
      ]
    },
    {
      "cell_type": "markdown",
      "metadata": {
        "colab_type": "text",
        "deletable": true,
        "editable": true,
        "id": "jNWGtZaXn-5j"
      },
      "source": [
        "First, we'll download the dataset to our local machine. The data consists of characters rendered in a variety of fonts on a 28x28 image. The labels are limited to 'A' through 'J' (10 classes). The training set has about 500k and the testset 19000 labelled examples. Given these sizes, it should be possible to train models quickly on any machine. "
      ]
    },
    {
      "cell_type": "markdown",
      "metadata": {
        "id": "tuFKE5MYrQKa",
        "colab_type": "text"
      },
      "source": [
        "ບໍ່ຮູ້ວ່າຫຼັງຈາກ download ແລ້ວມັນໄປຢູ່ບ່ອນໃດຂອງ notebook ນີ້ ຖ້າຈະເປີດດ້ວຍ window explorer ມັນຈະຢູ່ບ່ອນໃດນໍ"
      ]
    },
    {
      "cell_type": "markdown",
      "metadata": {
        "colab_type": "text",
        "deletable": true,
        "editable": true,
        "id": "cC3p0oEyF8QT"
      },
      "source": [
        "Extract the dataset from the compressed .tar.gz file.\n",
        "This should give you a set of directories, labelled A through J."
      ]
    },
    {
      "cell_type": "code",
      "metadata": {
        "cellView": "both",
        "colab_type": "code",
        "deletable": true,
        "editable": true,
        "id": "EYRJ4ICW6-da",
        "outputId": "ab954eab-2200-454e-eac1-9ad81e8c6ecd",
        "colab": {
          "base_uri": "https://localhost:8080/",
          "height": 153
        }
      },
      "source": [
        "url = 'http://commondatastorage.googleapis.com/books1000/'\n",
        "last_percent_reported = None\n",
        "data_root = '.' # Change me to store data elsewhere\n",
        "\n",
        "def download_progress_hook(count, blockSize, totalSize):\n",
        "  \"\"\"A hook to report the progress of a download. This is mostly intended for users with\n",
        "  slow internet connections. Reports every 5% change in download progress.\n",
        "  \"\"\"\n",
        "  global last_percent_reported\n",
        "  percent = int(count * blockSize * 100 / totalSize)\n",
        "\n",
        "  if last_percent_reported != percent:\n",
        "    if percent % 5 == 0:\n",
        "      sys.stdout.write(\"%s%%\" % percent)\n",
        "      sys.stdout.flush()\n",
        "    else:\n",
        "      sys.stdout.write(\".\")\n",
        "      sys.stdout.flush()\n",
        "      \n",
        "    last_percent_reported = percent\n",
        "        \n",
        "def maybe_download(filename, expected_bytes, force=False):\n",
        "## Na ## def maybe_download(filename, expected_bytes, force=True):\n",
        "  \"\"\"Download a file if not present, and make sure it's the right size.\"\"\"\n",
        "  dest_filename = os.path.join(data_root, filename)\n",
        "  if force or not os.path.exists(dest_filename):\n",
        "    print('Attempting to download:', filename) \n",
        "    filename, _ = urlretrieve(url + filename, dest_filename, reporthook=download_progress_hook)\n",
        "    print('\\nDownload Complete!')\n",
        "  statinfo = os.stat(dest_filename)\n",
        "  if statinfo.st_size == expected_bytes:\n",
        "    print('Found and verified', dest_filename)\n",
        "  else:\n",
        "    raise Exception(\n",
        "      'Failed to verify ' + dest_filename + '. Can you get to it with a browser?')\n",
        "  return dest_filename\n",
        "\n",
        "train_filename = maybe_download('notMNIST_large.tar.gz', 247336696)\n",
        "test_filename = maybe_download('notMNIST_small.tar.gz', 8458043)"
      ],
      "execution_count": 0,
      "outputs": [
        {
          "output_type": "stream",
          "text": [
            "Attempting to download: notMNIST_large.tar.gz\n",
            "0%....5%....10%....15%....20%....25%....30%....35%....40%....45%....50%....55%....60%....65%....70%....75%....80%....85%....90%....95%....100%\n",
            "Download Complete!\n",
            "Found and verified ./notMNIST_large.tar.gz\n",
            "Attempting to download: notMNIST_small.tar.gz\n",
            "0%....5%....10%....15%....20%....25%....30%....35%....40%....45%....50%....55%....60%....65%....70%....75%....80%....85%....90%....95%....100%\n",
            "Download Complete!\n",
            "Found and verified ./notMNIST_small.tar.gz\n"
          ],
          "name": "stdout"
        }
      ]
    },
    {
      "cell_type": "code",
      "metadata": {
        "cellView": "both",
        "colab_type": "code",
        "deletable": true,
        "editable": true,
        "id": "H8CBE-WZ8nmj",
        "outputId": "1648c785-9bc7-4faf-be8b-e7064e1b64ed",
        "colab": {
          "base_uri": "https://localhost:8080/",
          "height": 85
        }
      },
      "source": [
        "num_classes = 10\n",
        "np.random.seed(133)   ## 133 ໝາຍເຖິງຫຍັງນໍ ??? An array of random numbers in the [0.0, 1.0]\n",
        "\n",
        "def maybe_extract(filename, force=False):\n",
        "  root = os.path.splitext(os.path.splitext(filename)[0])[0]  # remove .tar.gz\n",
        "  if os.path.isdir(root) and not force:\n",
        "    # You may override by setting force=True.\n",
        "    print('%s already present - Skipping extraction of %s.' % (root, filename))\n",
        "  else:\n",
        "    print('Extracting data for %s. This may take a while. Please wait.' % root)\n",
        "    tar = tarfile.open(filename)\n",
        "    sys.stdout.flush()\n",
        "    tar.extractall(data_root)\n",
        "    tar.close()\n",
        "  data_folders = [\n",
        "    os.path.join(root, d) for d in sorted(os.listdir(root))\n",
        "    if os.path.isdir(os.path.join(root, d))]\n",
        "  if len(data_folders) != num_classes:\n",
        "    raise Exception(\n",
        "      'Expected %d folders, one per class. Found %d instead.' % (\n",
        "        num_classes, len(data_folders)))         # The method len() returns the \n",
        "  print(data_folders)                            # number of elements in the list\n",
        "  return data_folders\n",
        "  \n",
        "train_folders = maybe_extract(train_filename)    # train_folders ເປັນ list ເກັບທີ່\n",
        "test_folders = maybe_extract(test_filename)      # ຢູ່ຂອງຮູບຕາມແຕ່ລະໂຕອັກສອນ ເຊັ່ນ:\n",
        "                                                 # './notMNIST_large/D'"
      ],
      "execution_count": 0,
      "outputs": [
        {
          "output_type": "stream",
          "text": [
            "Extracting data for ./notMNIST_large. This may take a while. Please wait.\n",
            "['./notMNIST_large/A', './notMNIST_large/B', './notMNIST_large/C', './notMNIST_large/D', './notMNIST_large/E', './notMNIST_large/F', './notMNIST_large/G', './notMNIST_large/H', './notMNIST_large/I', './notMNIST_large/J']\n",
            "Extracting data for ./notMNIST_small. This may take a while. Please wait.\n",
            "['./notMNIST_small/A', './notMNIST_small/B', './notMNIST_small/C', './notMNIST_small/D', './notMNIST_small/E', './notMNIST_small/F', './notMNIST_small/G', './notMNIST_small/H', './notMNIST_small/I', './notMNIST_small/J']\n"
          ],
          "name": "stdout"
        }
      ]
    },
    {
      "cell_type": "markdown",
      "metadata": {
        "colab_type": "text",
        "deletable": true,
        "editable": true,
        "id": "4riXK3IoHgx6"
      },
      "source": [
        "---\n",
        "Problem 1\n",
        "---------\n",
        "\n",
        "Let's take a peek at some of the data to make sure it looks sensible. Each exemplar should be an image of a character A through J rendered in a different font. Display a sample of the images that we just downloaded. Hint: you can use the package IPython.display.\n",
        "\n",
        "---"
      ]
    },
    {
      "cell_type": "code",
      "metadata": {
        "deletable": true,
        "editable": true,
        "id": "lHQj3MEH5GIR",
        "colab_type": "code",
        "outputId": "a5fd1c45-230a-4c40-aa96-e3fc3e410979",
        "colab": {
          "base_uri": "https://localhost:8080/",
          "height": 1000
        }
      },
      "source": [
        "image_size = 28  # Pixel width and height.\n",
        "pixel_depth = 255.0  # Number of levels per pixel.\n",
        "\n",
        "# We get all file names in I directory\n",
        "fn = os.listdir(\"notMNIST_small/I/\")\n",
        "\n",
        "# Display first 1 images of I directory\n",
        "for file in fn[0:2]:\n",
        "    path = 'notMNIST_small/I/' + file\n",
        "\n",
        "    image_data_Na = imageio.imread(path).astype(float)\n",
        "\n",
        "    print(image_data_Na)\n",
        "\n",
        "    display(Image(path))\n",
        "\n",
        "    image_data_Na = (image_data_Na - pixel_depth / 2) / pixel_depth  # ຂັ້ນຕອນນີ້ຄິດວ່າແມ່ນ່ປ່ຽນຮູບຕົວເລກແຕ່ລະພິກເຊວຮູບເປັນຮູບແບບ zero mean and standard deviation ~0.5     \n",
        "                   # to make training easier down the road ເພື່ອງ້າຍໃນການປະຜົນຂອງຄອມ\n",
        "\n",
        "    print(image_data_Na)\n",
        "\n",
        "    display(Image(path))\n",
        "\n"
      ],
      "execution_count": 0,
      "outputs": [
        {
          "output_type": "stream",
          "text": [
            "[[127. 108. 123. 121. 121. 121. 121. 121. 121. 121. 121. 120. 120. 120.\n",
            "  120. 120. 121. 121. 121. 121. 121. 120. 120. 120. 121. 115. 101. 123.]\n",
            " [247. 127.  67.  78.  76.  76.  76.  76.  76.  76.  76.  76.  73.  73.\n",
            "   73.  76.  76.  76.  76.  76.  76.  76.  75.  75.  61. 128. 111. 196.]\n",
            " [255. 117.   0.   5.   0.   0.   0.   0.   0.   0.   0.   0.   0.   0.\n",
            "    0.   0.   0.   0.   0.   0.   0.   0.   0.   4.   0.  95. 148. 182.]\n",
            " [255. 211. 165. 174. 172. 172. 172. 172. 172. 171. 157.  99.   0.   3.\n",
            "    0.  73. 143. 157. 173. 172. 169. 133.  35.   0.   0.  92. 141. 184.]\n",
            " [ 71. 104. 113. 112. 112. 112. 112. 112. 113. 105. 251. 205.  11.   0.\n",
            "    5. 159. 168. 168. 114. 108. 145. 229. 103.   0.   0.  93. 143. 184.]\n",
            " [  0.   0.   0.   0.   0.   0.   0.   0.   1.   0. 237. 205.  10.   0.\n",
            "    8. 144. 150.  97.   0.   0.  43. 207.  93.   0.   0.  90. 136. 182.]\n",
            " [  3.   4.   4.   4.   4.   4.   4.   4.   5.   0. 239. 208.  10.   0.\n",
            "    7. 146. 154. 109.   3.   0.  58. 230. 220. 182. 179. 228. 156. 196.]\n",
            " [  0.   0.   0.   0.   0.   0.   0.   0.   1.   0. 239. 208.  10.   0.\n",
            "    7. 146. 155. 107.   0.   0.   9.  92. 121. 126. 125. 121. 104.  71.]\n",
            " [  0.   0.   0.   0.   0.   0.   0.   0.   1.   0. 239. 208.  10.   0.\n",
            "    7. 146. 155. 107.   0.   1.   0.   0.   0.   0.   0.   0.   0.   0.]\n",
            " [  0.   0.   0.   0.   0.   0.   0.   0.   1.   0. 239. 208.  10.   0.\n",
            "    7. 146. 155. 107.   0.   0.   0.   4.   4.   4.   4.   4.   4.   3.]\n",
            " [  0.   0.   0.   0.   0.   0.   0.   0.   1.   0. 239. 208.  10.   0.\n",
            "    7. 146. 155. 107.   0.   1.   0.   0.   0.   0.   0.   0.   0.   0.]\n",
            " [  0.   0.   0.   0.   0.   0.   0.   0.   1.   0. 239. 208.  10.   0.\n",
            "    7. 146. 155. 107.   0.   1.   0.   0.   0.   0.   0.   0.   0.   0.]\n",
            " [  0.   0.   0.   0.   0.   0.   0.   0.   1.   0. 239. 208.  10.   0.\n",
            "    7. 146. 155. 107.   0.   1.   0.   0.   0.   0.   0.   0.   0.   0.]\n",
            " [  0.   0.   0.   0.   0.   0.   0.   0.   1.   0. 239. 208.  10.   0.\n",
            "    7. 146. 155. 107.   0.   1.   0.   0.   0.   0.   0.   0.   0.   0.]\n",
            " [  0.   0.   0.   0.   0.   0.   0.   0.   1.   0. 239. 208.  10.   0.\n",
            "    7. 146. 155. 107.   0.   1.   0.   0.   0.   0.   0.   0.   0.   0.]\n",
            " [  0.   0.   0.   0.   0.   0.   0.   0.   1.   0. 239. 208.  10.   0.\n",
            "    7. 146. 155. 107.   0.   1.   0.   0.   0.   0.   0.   0.   0.   0.]\n",
            " [  0.   0.   0.   0.   0.   0.   0.   0.   1.   0. 239. 208.  10.   0.\n",
            "    7. 146. 155. 107.   0.   1.   0.   0.   0.   0.   0.   0.   0.   0.]\n",
            " [  0.   0.   0.   0.   0.   0.   0.   0.   1.   0. 239. 208.  10.   0.\n",
            "    7. 146. 155. 107.   0.   1.   0.   0.   0.   0.   0.   0.   0.   0.]\n",
            " [  0.   1.   1.   1.   1.   1.   0.   0.   1.   0. 239. 208.  10.   0.\n",
            "    7. 146. 155. 107.   0.   1.   0.   0.   0.   0.   0.   0.   0.   0.]\n",
            " [  1.   0.   0.   0.   0.   0.   2.   0.   1.   0. 239. 208.  10.   0.\n",
            "    7. 146. 155. 107.   0.   1.   0.   0.   0.   0.   0.   0.   0.   0.]\n",
            " [  1.   8.   9.   9.   7.   9.   3.   0.   1.   0. 239. 208.  10.   0.\n",
            "    7. 146. 155. 107.   0.   1.   0.   0.   0.   0.   0.   0.   0.   0.]\n",
            " [183. 200. 198. 196. 205. 185. 142.   6.   1.   0. 239. 208.  10.   0.\n",
            "    7. 146. 155. 107.   0.   2.   1.   1.   1.   1.   1.   1.   1.   0.]\n",
            " [255. 139.  23.  29.  98. 197. 205.  12.   0.   0. 238. 206.  10.   0.\n",
            "    7. 145. 156. 106.   0.   1.   0.   0.   0.   0.   0.   0.   0.   1.]\n",
            " [255. 113.   0.   0.  69. 191. 197.  22.   9.   1. 240. 210.  12.   0.\n",
            "    8. 152. 149. 113.  10.  11.  11.  11.  11.  11.  12.   8.  15.   6.]\n",
            " [255. 117.   0.   0.  49. 178. 221. 215. 211. 209. 235. 167.   2.   3.\n",
            "    0. 128. 181. 209. 214. 212. 212. 212. 212. 212. 209. 227. 167. 161.]\n",
            " [255. 114.   0.   5.   0.   8.  10.  12.  13.  13.   8.   0.   0.   0.\n",
            "    0.   0.  14.  12.  13.  13.  13.  13.  13.  17.   0. 104. 140. 189.]\n",
            " [255. 137.  24.  45.  42.  38.  36.  36.  36.  36.  37.  40.  42.  41.\n",
            "   41.  40.  35.  36.  36.  36.  36.  36.  36.  39.  18. 118. 134. 184.]\n",
            " [226. 243. 244. 244. 244. 245. 245. 245. 245. 245. 245. 244. 244. 244.\n",
            "  244. 244. 245. 245. 245. 245. 245. 245. 245. 245. 242. 255. 179. 182.]]\n"
          ],
          "name": "stdout"
        },
        {
          "output_type": "display_data",
          "data": {
            "image/png": "[encoded data removed]",
            "text/plain": [
              "<IPython.core.display.Image object>"
            ]
          },
          "metadata": {
            "tags": []
          }
        },
        {
          "output_type": "stream",
          "text": [
            "[[-0.   -0.08 -0.02 -0.03 -0.03 -0.03 -0.03 -0.03 -0.03 -0.03 -0.03 -0.03\n",
            "  -0.03 -0.03 -0.03 -0.03 -0.03 -0.03 -0.03 -0.03 -0.03 -0.03 -0.03 -0.03\n",
            "  -0.03 -0.05 -0.1  -0.02]\n",
            " [ 0.47 -0.   -0.24 -0.19 -0.2  -0.2  -0.2  -0.2  -0.2  -0.2  -0.2  -0.2\n",
            "  -0.21 -0.21 -0.21 -0.2  -0.2  -0.2  -0.2  -0.2  -0.2  -0.2  -0.21 -0.21\n",
            "  -0.26  0.   -0.06  0.27]\n",
            " [ 0.5  -0.04 -0.5  -0.48 -0.5  -0.5  -0.5  -0.5  -0.5  -0.5  -0.5  -0.5\n",
            "  -0.5  -0.5  -0.5  -0.5  -0.5  -0.5  -0.5  -0.5  -0.5  -0.5  -0.5  -0.48\n",
            "  -0.5  -0.13  0.08  0.21]\n",
            " [ 0.5   0.33  0.15  0.18  0.17  0.17  0.17  0.17  0.17  0.17  0.12 -0.11\n",
            "  -0.5  -0.49 -0.5  -0.21  0.06  0.12  0.18  0.17  0.16  0.02 -0.36 -0.5\n",
            "  -0.5  -0.14  0.05  0.22]\n",
            " [-0.22 -0.09 -0.06 -0.06 -0.06 -0.06 -0.06 -0.06 -0.06 -0.09  0.48  0.3\n",
            "  -0.46 -0.5  -0.48  0.12  0.16  0.16 -0.05 -0.08  0.07  0.4  -0.1  -0.5\n",
            "  -0.5  -0.14  0.06  0.22]\n",
            " [-0.5  -0.5  -0.5  -0.5  -0.5  -0.5  -0.5  -0.5  -0.5  -0.5   0.43  0.3\n",
            "  -0.46 -0.5  -0.47  0.06  0.09 -0.12 -0.5  -0.5  -0.33  0.31 -0.14 -0.5\n",
            "  -0.5  -0.15  0.03  0.21]\n",
            " [-0.49 -0.48 -0.48 -0.48 -0.48 -0.48 -0.48 -0.48 -0.48 -0.5   0.44  0.32\n",
            "  -0.46 -0.5  -0.47  0.07  0.1  -0.07 -0.49 -0.5  -0.27  0.4   0.36  0.21\n",
            "   0.2   0.39  0.11  0.27]\n",
            " [-0.5  -0.5  -0.5  -0.5  -0.5  -0.5  -0.5  -0.5  -0.5  -0.5   0.44  0.32\n",
            "  -0.46 -0.5  -0.47  0.07  0.11 -0.08 -0.5  -0.5  -0.46 -0.14 -0.03 -0.01\n",
            "  -0.01 -0.03 -0.09 -0.22]\n",
            " [-0.5  -0.5  -0.5  -0.5  -0.5  -0.5  -0.5  -0.5  -0.5  -0.5   0.44  0.32\n",
            "  -0.46 -0.5  -0.47  0.07  0.11 -0.08 -0.5  -0.5  -0.5  -0.5  -0.5  -0.5\n",
            "  -0.5  -0.5  -0.5  -0.5 ]\n",
            " [-0.5  -0.5  -0.5  -0.5  -0.5  -0.5  -0.5  -0.5  -0.5  -0.5   0.44  0.32\n",
            "  -0.46 -0.5  -0.47  0.07  0.11 -0.08 -0.5  -0.5  -0.5  -0.48 -0.48 -0.48\n",
            "  -0.48 -0.48 -0.48 -0.49]\n",
            " [-0.5  -0.5  -0.5  -0.5  -0.5  -0.5  -0.5  -0.5  -0.5  -0.5   0.44  0.32\n",
            "  -0.46 -0.5  -0.47  0.07  0.11 -0.08 -0.5  -0.5  -0.5  -0.5  -0.5  -0.5\n",
            "  -0.5  -0.5  -0.5  -0.5 ]\n",
            " [-0.5  -0.5  -0.5  -0.5  -0.5  -0.5  -0.5  -0.5  -0.5  -0.5   0.44  0.32\n",
            "  -0.46 -0.5  -0.47  0.07  0.11 -0.08 -0.5  -0.5  -0.5  -0.5  -0.5  -0.5\n",
            "  -0.5  -0.5  -0.5  -0.5 ]\n",
            " [-0.5  -0.5  -0.5  -0.5  -0.5  -0.5  -0.5  -0.5  -0.5  -0.5   0.44  0.32\n",
            "  -0.46 -0.5  -0.47  0.07  0.11 -0.08 -0.5  -0.5  -0.5  -0.5  -0.5  -0.5\n",
            "  -0.5  -0.5  -0.5  -0.5 ]\n",
            " [-0.5  -0.5  -0.5  -0.5  -0.5  -0.5  -0.5  -0.5  -0.5  -0.5   0.44  0.32\n",
            "  -0.46 -0.5  -0.47  0.07  0.11 -0.08 -0.5  -0.5  -0.5  -0.5  -0.5  -0.5\n",
            "  -0.5  -0.5  -0.5  -0.5 ]\n",
            " [-0.5  -0.5  -0.5  -0.5  -0.5  -0.5  -0.5  -0.5  -0.5  -0.5   0.44  0.32\n",
            "  -0.46 -0.5  -0.47  0.07  0.11 -0.08 -0.5  -0.5  -0.5  -0.5  -0.5  -0.5\n",
            "  -0.5  -0.5  -0.5  -0.5 ]\n",
            " [-0.5  -0.5  -0.5  -0.5  -0.5  -0.5  -0.5  -0.5  -0.5  -0.5   0.44  0.32\n",
            "  -0.46 -0.5  -0.47  0.07  0.11 -0.08 -0.5  -0.5  -0.5  -0.5  -0.5  -0.5\n",
            "  -0.5  -0.5  -0.5  -0.5 ]\n",
            " [-0.5  -0.5  -0.5  -0.5  -0.5  -0.5  -0.5  -0.5  -0.5  -0.5   0.44  0.32\n",
            "  -0.46 -0.5  -0.47  0.07  0.11 -0.08 -0.5  -0.5  -0.5  -0.5  -0.5  -0.5\n",
            "  -0.5  -0.5  -0.5  -0.5 ]\n",
            " [-0.5  -0.5  -0.5  -0.5  -0.5  -0.5  -0.5  -0.5  -0.5  -0.5   0.44  0.32\n",
            "  -0.46 -0.5  -0.47  0.07  0.11 -0.08 -0.5  -0.5  -0.5  -0.5  -0.5  -0.5\n",
            "  -0.5  -0.5  -0.5  -0.5 ]\n",
            " [-0.5  -0.5  -0.5  -0.5  -0.5  -0.5  -0.5  -0.5  -0.5  -0.5   0.44  0.32\n",
            "  -0.46 -0.5  -0.47  0.07  0.11 -0.08 -0.5  -0.5  -0.5  -0.5  -0.5  -0.5\n",
            "  -0.5  -0.5  -0.5  -0.5 ]\n",
            " [-0.5  -0.5  -0.5  -0.5  -0.5  -0.5  -0.49 -0.5  -0.5  -0.5   0.44  0.32\n",
            "  -0.46 -0.5  -0.47  0.07  0.11 -0.08 -0.5  -0.5  -0.5  -0.5  -0.5  -0.5\n",
            "  -0.5  -0.5  -0.5  -0.5 ]\n",
            " [-0.5  -0.47 -0.46 -0.46 -0.47 -0.46 -0.49 -0.5  -0.5  -0.5   0.44  0.32\n",
            "  -0.46 -0.5  -0.47  0.07  0.11 -0.08 -0.5  -0.5  -0.5  -0.5  -0.5  -0.5\n",
            "  -0.5  -0.5  -0.5  -0.5 ]\n",
            " [ 0.22  0.28  0.28  0.27  0.3   0.23  0.06 -0.48 -0.5  -0.5   0.44  0.32\n",
            "  -0.46 -0.5  -0.47  0.07  0.11 -0.08 -0.5  -0.49 -0.5  -0.5  -0.5  -0.5\n",
            "  -0.5  -0.5  -0.5  -0.5 ]\n",
            " [ 0.5   0.05 -0.41 -0.39 -0.12  0.27  0.3  -0.45 -0.5  -0.5   0.43  0.31\n",
            "  -0.46 -0.5  -0.47  0.07  0.11 -0.08 -0.5  -0.5  -0.5  -0.5  -0.5  -0.5\n",
            "  -0.5  -0.5  -0.5  -0.5 ]\n",
            " [ 0.5  -0.06 -0.5  -0.5  -0.23  0.25  0.27 -0.41 -0.46 -0.5   0.44  0.32\n",
            "  -0.45 -0.5  -0.47  0.1   0.08 -0.06 -0.46 -0.46 -0.46 -0.46 -0.46 -0.46\n",
            "  -0.45 -0.47 -0.44 -0.48]\n",
            " [ 0.5  -0.04 -0.5  -0.5  -0.31  0.2   0.37  0.34  0.33  0.32  0.42  0.15\n",
            "  -0.49 -0.49 -0.5   0.    0.21  0.32  0.34  0.33  0.33  0.33  0.33  0.33\n",
            "   0.32  0.39  0.15  0.13]\n",
            " [ 0.5  -0.05 -0.5  -0.48 -0.5  -0.47 -0.46 -0.45 -0.45 -0.45 -0.47 -0.5\n",
            "  -0.5  -0.5  -0.5  -0.5  -0.45 -0.45 -0.45 -0.45 -0.45 -0.45 -0.45 -0.43\n",
            "  -0.5  -0.09  0.05  0.24]\n",
            " [ 0.5   0.04 -0.41 -0.32 -0.34 -0.35 -0.36 -0.36 -0.36 -0.36 -0.35 -0.34\n",
            "  -0.34 -0.34 -0.34 -0.34 -0.36 -0.36 -0.36 -0.36 -0.36 -0.36 -0.36 -0.35\n",
            "  -0.43 -0.04  0.03  0.22]\n",
            " [ 0.39  0.45  0.46  0.46  0.46  0.46  0.46  0.46  0.46  0.46  0.46  0.46\n",
            "   0.46  0.46  0.46  0.46  0.46  0.46  0.46  0.46  0.46  0.46  0.46  0.46\n",
            "   0.45  0.5   0.2   0.21]]\n"
          ],
          "name": "stdout"
        },
        {
          "output_type": "display_data",
          "data": {
            "image/png": "[encoded data removed]",
            "text/plain": [
              "<IPython.core.display.Image object>"
            ]
          },
          "metadata": {
            "tags": []
          }
        },
        {
          "output_type": "stream",
          "text": [
            "[[235. 255. 255. 255. 255. 255. 255. 255. 253. 255. 255. 255. 255. 255.\n",
            "  255. 255. 255. 255. 254. 255. 255. 255. 255. 255. 255. 252. 255.  34.]\n",
            " [ 95. 127. 135. 142. 150. 159. 191. 245. 255. 255. 255. 255. 255. 255.\n",
            "  255. 255. 255. 255. 255. 255. 203. 161. 151. 145. 136. 131. 121.  13.]\n",
            " [  0.   0.   0.   0.   0.   0.   0.  43. 208. 255. 253. 255. 255. 255.\n",
            "  255. 255. 254. 254. 252.  90.   0.   0.   0.   0.   0.   0.   0.   0.]\n",
            " [  3.   4.   5.   5.   3.   2.   1.   0.  96. 255. 250. 255. 255. 255.\n",
            "  255. 255. 251. 255. 170.  12.   0.   3.   3.   4.   5.   5.   4.   0.]\n",
            " [  0.   0.   0.   0.   0.   0.   3.   0.  65. 255. 249. 255. 255. 255.\n",
            "  255. 255. 250. 255. 140.   1.   1.   1.   0.   0.   0.   0.   0.   0.]\n",
            " [  0.   0.   0.   0.   0.   0.   3.   0.  58. 255. 249. 255. 255. 255.\n",
            "  255. 255. 249. 255. 130.   0.   0.   1.   0.   0.   0.   0.   0.   0.]\n",
            " [  0.   0.   0.   0.   0.   0.   3.   0.  58. 255. 249. 255. 255. 255.\n",
            "  255. 255. 249. 255. 119.   0.   2.   0.   0.   0.   0.   0.   0.   0.]\n",
            " [  0.   0.   0.   0.   0.   0.   3.   0.  58. 255. 249. 255. 255. 255.\n",
            "  255. 255. 249. 255. 118.   0.   2.   0.   0.   0.   0.   0.   0.   0.]\n",
            " [  0.   0.   0.   0.   0.   0.   3.   0.  58. 255. 249. 255. 255. 255.\n",
            "  255. 255. 249. 255. 118.   0.   2.   0.   0.   0.   0.   0.   0.   0.]\n",
            " [  0.   0.   0.   0.   0.   0.   3.   0.  58. 255. 249. 255. 255. 255.\n",
            "  255. 255. 249. 255. 118.   0.   2.   0.   0.   0.   0.   0.   0.   0.]\n",
            " [  0.   0.   0.   0.   0.   0.   3.   0.  58. 255. 249. 255. 255. 255.\n",
            "  255. 255. 249. 255. 118.   0.   2.   0.   0.   0.   0.   0.   0.   0.]\n",
            " [  0.   0.   0.   0.   0.   0.   3.   0.  58. 255. 249. 255. 255. 255.\n",
            "  255. 255. 249. 255. 118.   0.   2.   0.   0.   0.   0.   0.   0.   0.]\n",
            " [  0.   0.   0.   0.   0.   0.   3.   0.  58. 255. 249. 255. 255. 255.\n",
            "  255. 255. 249. 255. 118.   0.   2.   0.   0.   0.   0.   0.   0.   0.]\n",
            " [  0.   0.   0.   0.   0.   0.   3.   0.  58. 255. 249. 255. 255. 255.\n",
            "  255. 255. 249. 255. 118.   0.   2.   0.   0.   0.   0.   0.   0.   0.]\n",
            " [  0.   0.   0.   0.   0.   0.   3.   0.  58. 255. 249. 255. 255. 255.\n",
            "  255. 255. 249. 255. 118.   0.   2.   0.   0.   0.   0.   0.   0.   0.]\n",
            " [  0.   0.   0.   0.   0.   0.   3.   0.  58. 255. 249. 255. 255. 255.\n",
            "  255. 255. 249. 255. 118.   0.   2.   0.   0.   0.   0.   0.   0.   0.]\n",
            " [  0.   0.   0.   0.   0.   0.   3.   0.  58. 255. 249. 255. 255. 255.\n",
            "  255. 255. 249. 255. 118.   0.   2.   0.   0.   0.   0.   0.   0.   0.]\n",
            " [  0.   0.   0.   0.   0.   0.   3.   0.  58. 255. 249. 255. 255. 255.\n",
            "  255. 255. 249. 255. 118.   0.   2.   0.   0.   0.   0.   0.   0.   0.]\n",
            " [  0.   0.   0.   0.   0.   0.   3.   0.  58. 255. 249. 255. 255. 255.\n",
            "  255. 255. 249. 255. 118.   0.   2.   0.   0.   0.   0.   0.   0.   0.]\n",
            " [  0.   0.   0.   0.   0.   0.   3.   0.  58. 255. 249. 255. 255. 255.\n",
            "  255. 255. 249. 255. 118.   0.   2.   0.   0.   0.   0.   0.   0.   0.]\n",
            " [  0.   0.   0.   0.   0.   0.   3.   0.  58. 255. 249. 255. 255. 255.\n",
            "  255. 255. 249. 255. 118.   0.   2.   0.   0.   0.   0.   0.   0.   0.]\n",
            " [  0.   0.   0.   0.   0.   0.   2.   0.  62. 255. 249. 255. 255. 255.\n",
            "  255. 255. 249. 255. 118.   0.   2.   0.   0.   0.   0.   0.   0.   0.]\n",
            " [  0.   0.   0.   0.   0.   0.   2.   0.  76. 255. 250. 255. 255. 255.\n",
            "  255. 255. 249. 255. 118.   0.   2.   0.   0.   0.   0.   0.   0.   0.]\n",
            " [  0.   0.   0.   0.   0.   0.   2.   0.  87. 255. 250. 255. 255. 255.\n",
            "  255. 255. 249. 255. 129.   0.   2.   0.   0.   0.   0.   0.   0.   0.]\n",
            " [  4.   5.   5.   4.   3.   3.   0.   0. 125. 255. 251. 255. 255. 255.\n",
            "  255. 255. 250. 255. 154.   5.   0.   3.   3.   4.   4.   5.   4.   0.]\n",
            " [  0.   0.   0.   0.   0.   0.   0.  61. 235. 255. 254. 255. 255. 255.\n",
            "  255. 255. 254. 255. 239.  77.   0.   0.   0.   0.   0.   0.   0.   0.]\n",
            " [107. 134. 137. 144. 151. 159. 194. 251. 255. 255. 255. 255. 255. 255.\n",
            "  255. 255. 255. 255. 255. 253. 202. 163. 151. 144. 137. 136. 107.   9.]\n",
            " [244. 255. 255. 255. 255. 255. 255. 255. 253. 255. 255. 255. 255. 255.\n",
            "  255. 255. 255. 255. 254. 254. 255. 255. 255. 255. 254. 255. 224.  20.]]\n"
          ],
          "name": "stdout"
        },
        {
          "output_type": "display_data",
          "data": {
            "image/png": "[encoded data removed]",
            "text/plain": [
              "<IPython.core.display.Image object>"
            ]
          },
          "metadata": {
            "tags": []
          }
        },
        {
          "output_type": "stream",
          "text": [
            "[[ 0.42  0.5   0.5   0.5   0.5   0.5   0.5   0.5   0.49  0.5   0.5   0.5\n",
            "   0.5   0.5   0.5   0.5   0.5   0.5   0.5   0.5   0.5   0.5   0.5   0.5\n",
            "   0.5   0.49  0.5  -0.37]\n",
            " [-0.13 -0.    0.03  0.06  0.09  0.12  0.25  0.46  0.5   0.5   0.5   0.5\n",
            "   0.5   0.5   0.5   0.5   0.5   0.5   0.5   0.5   0.3   0.13  0.09  0.07\n",
            "   0.03  0.01 -0.03 -0.45]\n",
            " [-0.5  -0.5  -0.5  -0.5  -0.5  -0.5  -0.5  -0.33  0.32  0.5   0.49  0.5\n",
            "   0.5   0.5   0.5   0.5   0.5   0.5   0.49 -0.15 -0.5  -0.5  -0.5  -0.5\n",
            "  -0.5  -0.5  -0.5  -0.5 ]\n",
            " [-0.49 -0.48 -0.48 -0.48 -0.49 -0.49 -0.5  -0.5  -0.12  0.5   0.48  0.5\n",
            "   0.5   0.5   0.5   0.5   0.48  0.5   0.17 -0.45 -0.5  -0.49 -0.49 -0.48\n",
            "  -0.48 -0.48 -0.48 -0.5 ]\n",
            " [-0.5  -0.5  -0.5  -0.5  -0.5  -0.5  -0.49 -0.5  -0.25  0.5   0.48  0.5\n",
            "   0.5   0.5   0.5   0.5   0.48  0.5   0.05 -0.5  -0.5  -0.5  -0.5  -0.5\n",
            "  -0.5  -0.5  -0.5  -0.5 ]\n",
            " [-0.5  -0.5  -0.5  -0.5  -0.5  -0.5  -0.49 -0.5  -0.27  0.5   0.48  0.5\n",
            "   0.5   0.5   0.5   0.5   0.48  0.5   0.01 -0.5  -0.5  -0.5  -0.5  -0.5\n",
            "  -0.5  -0.5  -0.5  -0.5 ]\n",
            " [-0.5  -0.5  -0.5  -0.5  -0.5  -0.5  -0.49 -0.5  -0.27  0.5   0.48  0.5\n",
            "   0.5   0.5   0.5   0.5   0.48  0.5  -0.03 -0.5  -0.49 -0.5  -0.5  -0.5\n",
            "  -0.5  -0.5  -0.5  -0.5 ]\n",
            " [-0.5  -0.5  -0.5  -0.5  -0.5  -0.5  -0.49 -0.5  -0.27  0.5   0.48  0.5\n",
            "   0.5   0.5   0.5   0.5   0.48  0.5  -0.04 -0.5  -0.49 -0.5  -0.5  -0.5\n",
            "  -0.5  -0.5  -0.5  -0.5 ]\n",
            " [-0.5  -0.5  -0.5  -0.5  -0.5  -0.5  -0.49 -0.5  -0.27  0.5   0.48  0.5\n",
            "   0.5   0.5   0.5   0.5   0.48  0.5  -0.04 -0.5  -0.49 -0.5  -0.5  -0.5\n",
            "  -0.5  -0.5  -0.5  -0.5 ]\n",
            " [-0.5  -0.5  -0.5  -0.5  -0.5  -0.5  -0.49 -0.5  -0.27  0.5   0.48  0.5\n",
            "   0.5   0.5   0.5   0.5   0.48  0.5  -0.04 -0.5  -0.49 -0.5  -0.5  -0.5\n",
            "  -0.5  -0.5  -0.5  -0.5 ]\n",
            " [-0.5  -0.5  -0.5  -0.5  -0.5  -0.5  -0.49 -0.5  -0.27  0.5   0.48  0.5\n",
            "   0.5   0.5   0.5   0.5   0.48  0.5  -0.04 -0.5  -0.49 -0.5  -0.5  -0.5\n",
            "  -0.5  -0.5  -0.5  -0.5 ]\n",
            " [-0.5  -0.5  -0.5  -0.5  -0.5  -0.5  -0.49 -0.5  -0.27  0.5   0.48  0.5\n",
            "   0.5   0.5   0.5   0.5   0.48  0.5  -0.04 -0.5  -0.49 -0.5  -0.5  -0.5\n",
            "  -0.5  -0.5  -0.5  -0.5 ]\n",
            " [-0.5  -0.5  -0.5  -0.5  -0.5  -0.5  -0.49 -0.5  -0.27  0.5   0.48  0.5\n",
            "   0.5   0.5   0.5   0.5   0.48  0.5  -0.04 -0.5  -0.49 -0.5  -0.5  -0.5\n",
            "  -0.5  -0.5  -0.5  -0.5 ]\n",
            " [-0.5  -0.5  -0.5  -0.5  -0.5  -0.5  -0.49 -0.5  -0.27  0.5   0.48  0.5\n",
            "   0.5   0.5   0.5   0.5   0.48  0.5  -0.04 -0.5  -0.49 -0.5  -0.5  -0.5\n",
            "  -0.5  -0.5  -0.5  -0.5 ]\n",
            " [-0.5  -0.5  -0.5  -0.5  -0.5  -0.5  -0.49 -0.5  -0.27  0.5   0.48  0.5\n",
            "   0.5   0.5   0.5   0.5   0.48  0.5  -0.04 -0.5  -0.49 -0.5  -0.5  -0.5\n",
            "  -0.5  -0.5  -0.5  -0.5 ]\n",
            " [-0.5  -0.5  -0.5  -0.5  -0.5  -0.5  -0.49 -0.5  -0.27  0.5   0.48  0.5\n",
            "   0.5   0.5   0.5   0.5   0.48  0.5  -0.04 -0.5  -0.49 -0.5  -0.5  -0.5\n",
            "  -0.5  -0.5  -0.5  -0.5 ]\n",
            " [-0.5  -0.5  -0.5  -0.5  -0.5  -0.5  -0.49 -0.5  -0.27  0.5   0.48  0.5\n",
            "   0.5   0.5   0.5   0.5   0.48  0.5  -0.04 -0.5  -0.49 -0.5  -0.5  -0.5\n",
            "  -0.5  -0.5  -0.5  -0.5 ]\n",
            " [-0.5  -0.5  -0.5  -0.5  -0.5  -0.5  -0.49 -0.5  -0.27  0.5   0.48  0.5\n",
            "   0.5   0.5   0.5   0.5   0.48  0.5  -0.04 -0.5  -0.49 -0.5  -0.5  -0.5\n",
            "  -0.5  -0.5  -0.5  -0.5 ]\n",
            " [-0.5  -0.5  -0.5  -0.5  -0.5  -0.5  -0.49 -0.5  -0.27  0.5   0.48  0.5\n",
            "   0.5   0.5   0.5   0.5   0.48  0.5  -0.04 -0.5  -0.49 -0.5  -0.5  -0.5\n",
            "  -0.5  -0.5  -0.5  -0.5 ]\n",
            " [-0.5  -0.5  -0.5  -0.5  -0.5  -0.5  -0.49 -0.5  -0.27  0.5   0.48  0.5\n",
            "   0.5   0.5   0.5   0.5   0.48  0.5  -0.04 -0.5  -0.49 -0.5  -0.5  -0.5\n",
            "  -0.5  -0.5  -0.5  -0.5 ]\n",
            " [-0.5  -0.5  -0.5  -0.5  -0.5  -0.5  -0.49 -0.5  -0.27  0.5   0.48  0.5\n",
            "   0.5   0.5   0.5   0.5   0.48  0.5  -0.04 -0.5  -0.49 -0.5  -0.5  -0.5\n",
            "  -0.5  -0.5  -0.5  -0.5 ]\n",
            " [-0.5  -0.5  -0.5  -0.5  -0.5  -0.5  -0.49 -0.5  -0.26  0.5   0.48  0.5\n",
            "   0.5   0.5   0.5   0.5   0.48  0.5  -0.04 -0.5  -0.49 -0.5  -0.5  -0.5\n",
            "  -0.5  -0.5  -0.5  -0.5 ]\n",
            " [-0.5  -0.5  -0.5  -0.5  -0.5  -0.5  -0.49 -0.5  -0.2   0.5   0.48  0.5\n",
            "   0.5   0.5   0.5   0.5   0.48  0.5  -0.04 -0.5  -0.49 -0.5  -0.5  -0.5\n",
            "  -0.5  -0.5  -0.5  -0.5 ]\n",
            " [-0.5  -0.5  -0.5  -0.5  -0.5  -0.5  -0.49 -0.5  -0.16  0.5   0.48  0.5\n",
            "   0.5   0.5   0.5   0.5   0.48  0.5   0.01 -0.5  -0.49 -0.5  -0.5  -0.5\n",
            "  -0.5  -0.5  -0.5  -0.5 ]\n",
            " [-0.48 -0.48 -0.48 -0.48 -0.49 -0.49 -0.5  -0.5  -0.01  0.5   0.48  0.5\n",
            "   0.5   0.5   0.5   0.5   0.48  0.5   0.1  -0.48 -0.5  -0.49 -0.49 -0.48\n",
            "  -0.48 -0.48 -0.48 -0.5 ]\n",
            " [-0.5  -0.5  -0.5  -0.5  -0.5  -0.5  -0.5  -0.26  0.42  0.5   0.5   0.5\n",
            "   0.5   0.5   0.5   0.5   0.5   0.5   0.44 -0.2  -0.5  -0.5  -0.5  -0.5\n",
            "  -0.5  -0.5  -0.5  -0.5 ]\n",
            " [-0.08  0.03  0.04  0.06  0.09  0.12  0.26  0.48  0.5   0.5   0.5   0.5\n",
            "   0.5   0.5   0.5   0.5   0.5   0.5   0.5   0.49  0.29  0.14  0.09  0.06\n",
            "   0.04  0.03 -0.08 -0.46]\n",
            " [ 0.46  0.5   0.5   0.5   0.5   0.5   0.5   0.5   0.49  0.5   0.5   0.5\n",
            "   0.5   0.5   0.5   0.5   0.5   0.5   0.5   0.5   0.5   0.5   0.5   0.5\n",
            "   0.5   0.5   0.38 -0.42]]\n"
          ],
          "name": "stdout"
        },
        {
          "output_type": "display_data",
          "data": {
            "image/png": "[encoded data removed]",
            "text/plain": [
              "<IPython.core.display.Image object>"
            ]
          },
          "metadata": {
            "tags": []
          }
        }
      ]
    },
    {
      "cell_type": "code",
      "metadata": {
        "deletable": true,
        "editable": true,
        "id": "rJQe2th45GIV",
        "colab_type": "code",
        "outputId": "dc2c75ce-2631-41ba-cfb8-0d1bd679b7e8",
        "colab": {
          "base_uri": "https://localhost:8080/",
          "height": 241
        }
      },
      "source": [
        "# Display first 8 images ສະແດງ 8ໂຕທຳອິດ\n",
        "for file in fn[:8]:\n",
        "    path = 'notMNIST_small/I/' + file\n",
        "##    print (path)\n",
        "    display(Image(path))\n",
        "\n",
        "###   ນາເພີ່ມໃສ່  ###\n",
        "###    import pdb; pdb.set_trace()"
      ],
      "execution_count": 0,
      "outputs": [
        {
          "output_type": "display_data",
          "data": {
            "image/png": "[encoded data removed]",
            "text/plain": [
              "<IPython.core.display.Image object>"
            ]
          },
          "metadata": {
            "tags": []
          }
        },
        {
          "output_type": "display_data",
          "data": {
            "image/png": "[encoded data removed]",
            "text/plain": [
              "<IPython.core.display.Image object>"
            ]
          },
          "metadata": {
            "tags": []
          }
        },
        {
          "output_type": "display_data",
          "data": {
            "image/png": "[encoded data removed]",
            "text/plain": [
              "<IPython.core.display.Image object>"
            ]
          },
          "metadata": {
            "tags": []
          }
        },
        {
          "output_type": "display_data",
          "data": {
            "image/png": "[encoded data removed]",
            "text/plain": [
              "<IPython.core.display.Image object>"
            ]
          },
          "metadata": {
            "tags": []
          }
        },
        {
          "output_type": "display_data",
          "data": {
            "image/png": "[encoded data removed]",
            "text/plain": [
              "<IPython.core.display.Image object>"
            ]
          },
          "metadata": {
            "tags": []
          }
        },
        {
          "output_type": "display_data",
          "data": {
            "image/png": "[encoded data removed]",
            "text/plain": [
              "<IPython.core.display.Image object>"
            ]
          },
          "metadata": {
            "tags": []
          }
        },
        {
          "output_type": "display_data",
          "data": {
            "image/png": "[encoded data removed]",
            "text/plain": [
              "<IPython.core.display.Image object>"
            ]
          },
          "metadata": {
            "tags": []
          }
        },
        {
          "output_type": "display_data",
          "data": {
            "image/png": "[encoded data removed]",
            "text/plain": [
              "<IPython.core.display.Image object>"
            ]
          },
          "metadata": {
            "tags": []
          }
        }
      ]
    },
    {
      "cell_type": "code",
      "metadata": {
        "deletable": true,
        "editable": true,
        "id": "XBtLSUio5GIY",
        "colab_type": "code",
        "outputId": "ba6d6f35-631d-4c07-c57b-19fbd13c0cbf",
        "colab": {
          "base_uri": "https://localhost:8080/",
          "height": 51
        }
      },
      "source": [
        "###   ນາເພີ່ມໃສ່   ເພື່ອຊອກຈຳນວນຟ້າຍໃນ ໂຟນເດີ(ໄດເລັກໂຕຣີ) ###\n",
        "# list = os.listdir(fn) # fn is your directory path\n",
        "dir = os.listdir(\"notMNIST_large/D/\")\n",
        "number_files = len(dir)\n",
        "print ('ຈຳນວນຮູບໃນໂຟນເດີ [notMNIST_large/D/]: ',number_files,'ຮູບ')\n",
        "\n",
        "dir = os.listdir(\"notMNIST_large/I/\")\n",
        "number_files = len(dir)\n",
        "print ('ຈຳນວນຮູບໃນໂຟນເດີ [notMNIST_large/I/]: ',number_files,'ຮູບ')"
      ],
      "execution_count": 0,
      "outputs": [
        {
          "output_type": "stream",
          "text": [
            "ຈຳນວນຮູບໃນໂຟນເດີ [notMNIST_large/D/]:  52912 ຮູບ\n",
            "ຈຳນວນຮູບໃນໂຟນເດີ [notMNIST_large/I/]:  52912 ຮູບ\n"
          ],
          "name": "stdout"
        }
      ]
    },
    {
      "cell_type": "code",
      "metadata": {
        "deletable": true,
        "editable": true,
        "id": "8r62Uhe-5GIb",
        "colab_type": "code",
        "outputId": "b41f745c-9e5f-4190-b6c7-c351eb6b0f46",
        "colab": {
          "base_uri": "https://localhost:8080/",
          "height": 1000
        }
      },
      "source": [
        "print(test_folders)\n",
        "print(path)\n",
        "display(Image(path))\n",
        "image_file = path\n",
        "\n",
        "\n",
        "# import imageio\n",
        "# im = imageio.imread('astronaut.png')\n",
        "\n",
        "image_data_Na = imageio.imread(image_file).astype(float)\n",
        "\n",
        "print(image_data_Na) ### ເບິ່ງຄ່າແຕ່ລະພິເຊວກ່ອນເປັນ zero mean and standard deviation ~0.5 to make training easier down the road\n",
        "\n",
        "pixel_depth_Na = 255.0  # Number of levels per pixel.\n",
        "image_data_Na = (image_data_Na - pixel_depth_Na / 2) / pixel_depth_Na\n",
        "print(image_data_Na) ### ເບິ່ງຄ່າແຕ່ລະພິເຊວເມື່ອປ່ຽນເປັນ zero mean and standard deviation ~0.5 to make training easier down the road"
      ],
      "execution_count": 0,
      "outputs": [
        {
          "output_type": "stream",
          "text": [
            "['./notMNIST_small/A', './notMNIST_small/B', './notMNIST_small/C', './notMNIST_small/D', './notMNIST_small/E', './notMNIST_small/F', './notMNIST_small/G', './notMNIST_small/H', './notMNIST_small/I', './notMNIST_small/J']\n",
            "notMNIST_small/I/QW1pbnRhQm9sZC50dGY=.png\n"
          ],
          "name": "stdout"
        },
        {
          "output_type": "display_data",
          "data": {
            "image/png": "[encoded data removed]",
            "text/plain": [
              "<IPython.core.display.Image object>"
            ]
          },
          "metadata": {
            "tags": []
          }
        },
        {
          "output_type": "stream",
          "text": [
            "[[ 17. 133. 214. 241. 254. 255. 255. 255. 255. 255. 255. 255. 255. 255.\n",
            "  255. 255. 255. 255. 255. 255. 255. 255. 255. 254. 241. 214. 133.  16.]\n",
            " [198. 255. 254. 255. 254. 254. 254. 254. 254. 254. 255. 255. 255. 255.\n",
            "  255. 255. 255. 255. 254. 254. 254. 254. 254. 254. 255. 254. 255. 197.]\n",
            " [200. 255. 254. 255. 255. 255. 255. 255. 255. 255. 255. 255. 255. 255.\n",
            "  255. 255. 255. 255. 255. 255. 255. 255. 255. 255. 255. 254. 255. 199.]\n",
            " [ 16. 128. 203. 228. 239. 240. 240. 240. 239. 246. 255. 255. 255. 255.\n",
            "  255. 255. 255. 255. 246. 239. 240. 240. 240. 239. 228. 204. 128.  16.]\n",
            " [  0.   0.   2.  10.  15.  15.  15.  20.   0. 114. 255. 250. 255. 255.\n",
            "  255. 255. 250. 255. 114.   0.  20.  15.  15.  15.  10.   2.   0.   0.]\n",
            " [  1.   3.   1.   0.   0.   0.   0.   5.   0. 105. 255. 249. 255. 255.\n",
            "  255. 255. 249. 255. 105.   0.   5.   0.   0.   0.   0.   1.   3.   1.]\n",
            " [  0.   0.   1.   1.   1.   1.   1.   6.   0. 106. 255. 249. 255. 255.\n",
            "  255. 255. 249. 255. 106.   0.   6.   1.   1.   1.   1.   1.   0.   0.]\n",
            " [  0.   0.   0.   0.   0.   0.   0.   5.   0. 105. 255. 249. 255. 255.\n",
            "  255. 255. 249. 255. 105.   0.   5.   0.   0.   0.   0.   0.   0.   0.]\n",
            " [  0.   0.   0.   0.   0.   0.   0.   5.   0. 105. 255. 249. 255. 255.\n",
            "  255. 255. 249. 255. 105.   0.   5.   0.   0.   0.   0.   0.   0.   0.]\n",
            " [  0.   0.   0.   0.   0.   0.   0.   5.   0. 105. 255. 249. 255. 255.\n",
            "  255. 255. 249. 255. 105.   0.   5.   0.   0.   0.   0.   0.   0.   0.]\n",
            " [  0.   0.   0.   0.   0.   0.   0.   5.   0. 105. 255. 249. 255. 255.\n",
            "  255. 255. 249. 255. 105.   0.   5.   0.   0.   0.   0.   0.   0.   0.]\n",
            " [  0.   0.   0.   0.   0.   0.   0.   5.   0. 105. 255. 249. 255. 255.\n",
            "  255. 255. 249. 255. 105.   0.   5.   0.   0.   0.   0.   0.   0.   0.]\n",
            " [  0.   0.   0.   0.   0.   0.   0.   5.   0. 105. 255. 249. 255. 255.\n",
            "  255. 255. 249. 255. 105.   0.   5.   0.   0.   0.   0.   0.   0.   0.]\n",
            " [  0.   0.   0.   0.   0.   0.   0.   5.   0. 105. 255. 249. 255. 255.\n",
            "  255. 255. 249. 255. 105.   0.   5.   0.   0.   0.   0.   0.   0.   0.]\n",
            " [  0.   0.   0.   0.   0.   0.   0.   5.   0. 105. 255. 249. 255. 255.\n",
            "  255. 255. 249. 255. 105.   0.   5.   0.   0.   0.   0.   0.   0.   0.]\n",
            " [  0.   0.   0.   0.   0.   0.   0.   5.   0. 105. 255. 249. 255. 255.\n",
            "  255. 255. 249. 255. 105.   0.   5.   0.   0.   0.   0.   0.   0.   0.]\n",
            " [  0.   0.   0.   0.   0.   0.   0.   5.   0. 105. 255. 249. 255. 255.\n",
            "  255. 255. 249. 255. 105.   0.   5.   0.   0.   0.   0.   0.   0.   0.]\n",
            " [  0.   0.   0.   0.   0.   0.   0.   5.   0. 105. 255. 249. 255. 255.\n",
            "  255. 255. 249. 255. 105.   0.   5.   0.   0.   0.   0.   0.   0.   0.]\n",
            " [  0.   0.   0.   0.   0.   0.   0.   5.   0. 105. 255. 249. 255. 255.\n",
            "  255. 255. 249. 255. 105.   0.   5.   0.   0.   0.   0.   0.   0.   0.]\n",
            " [  0.   0.   0.   0.   0.   0.   0.   5.   0. 105. 255. 249. 255. 255.\n",
            "  255. 255. 249. 255. 105.   0.   5.   0.   0.   0.   0.   0.   0.   0.]\n",
            " [  0.   0.   0.   0.   0.   0.   0.   5.   0. 105. 255. 249. 255. 255.\n",
            "  255. 255. 249. 255. 105.   0.   5.   0.   0.   0.   0.   0.   0.   0.]\n",
            " [  0.   0.   1.   1.   1.   1.   1.   6.   0. 106. 255. 249. 255. 255.\n",
            "  255. 255. 249. 255. 106.   0.   6.   1.   1.   1.   1.   1.   0.   0.]\n",
            " [  1.   3.   1.   0.   0.   0.   0.   5.   0. 105. 255. 249. 255. 255.\n",
            "  255. 255. 249. 255. 105.   0.   5.   0.   0.   0.   0.   1.   3.   1.]\n",
            " [  0.   0.   2.  10.  15.  15.  15.  20.   0. 114. 255. 250. 255. 255.\n",
            "  255. 255. 250. 255. 114.   0.  20.  15.  15.  15.  10.   2.   0.   0.]\n",
            " [ 16. 128. 203. 228. 239. 240. 240. 240. 239. 246. 255. 255. 255. 255.\n",
            "  255. 255. 255. 255. 246. 239. 240. 240. 240. 239. 228. 204. 128.  16.]\n",
            " [202. 255. 254. 255. 255. 255. 255. 255. 255. 255. 255. 255. 255. 255.\n",
            "  255. 255. 255. 255. 255. 255. 255. 255. 255. 255. 255. 254. 255. 201.]\n",
            " [196. 255. 254. 255. 254. 254. 254. 254. 254. 254. 255. 255. 255. 255.\n",
            "  255. 255. 255. 255. 254. 254. 254. 254. 254. 254. 255. 254. 255. 195.]\n",
            " [ 17. 133. 214. 242. 254. 255. 255. 255. 255. 255. 255. 255. 255. 255.\n",
            "  255. 255. 255. 255. 255. 255. 255. 255. 255. 254. 242. 214. 132.  16.]]\n",
            "[[-0.43  0.02  0.34  0.45  0.5   0.5   0.5   0.5   0.5   0.5   0.5   0.5\n",
            "   0.5   0.5   0.5   0.5   0.5   0.5   0.5   0.5   0.5   0.5   0.5   0.5\n",
            "   0.45  0.34  0.02 -0.44]\n",
            " [ 0.28  0.5   0.5   0.5   0.5   0.5   0.5   0.5   0.5   0.5   0.5   0.5\n",
            "   0.5   0.5   0.5   0.5   0.5   0.5   0.5   0.5   0.5   0.5   0.5   0.5\n",
            "   0.5   0.5   0.5   0.27]\n",
            " [ 0.28  0.5   0.5   0.5   0.5   0.5   0.5   0.5   0.5   0.5   0.5   0.5\n",
            "   0.5   0.5   0.5   0.5   0.5   0.5   0.5   0.5   0.5   0.5   0.5   0.5\n",
            "   0.5   0.5   0.5   0.28]\n",
            " [-0.44  0.    0.3   0.39  0.44  0.44  0.44  0.44  0.44  0.46  0.5   0.5\n",
            "   0.5   0.5   0.5   0.5   0.5   0.5   0.46  0.44  0.44  0.44  0.44  0.44\n",
            "   0.39  0.3   0.   -0.44]\n",
            " [-0.5  -0.5  -0.49 -0.46 -0.44 -0.44 -0.44 -0.42 -0.5  -0.05  0.5   0.48\n",
            "   0.5   0.5   0.5   0.5   0.48  0.5  -0.05 -0.5  -0.42 -0.44 -0.44 -0.44\n",
            "  -0.46 -0.49 -0.5  -0.5 ]\n",
            " [-0.5  -0.49 -0.5  -0.5  -0.5  -0.5  -0.5  -0.48 -0.5  -0.09  0.5   0.48\n",
            "   0.5   0.5   0.5   0.5   0.48  0.5  -0.09 -0.5  -0.48 -0.5  -0.5  -0.5\n",
            "  -0.5  -0.5  -0.49 -0.5 ]\n",
            " [-0.5  -0.5  -0.5  -0.5  -0.5  -0.5  -0.5  -0.48 -0.5  -0.08  0.5   0.48\n",
            "   0.5   0.5   0.5   0.5   0.48  0.5  -0.08 -0.5  -0.48 -0.5  -0.5  -0.5\n",
            "  -0.5  -0.5  -0.5  -0.5 ]\n",
            " [-0.5  -0.5  -0.5  -0.5  -0.5  -0.5  -0.5  -0.48 -0.5  -0.09  0.5   0.48\n",
            "   0.5   0.5   0.5   0.5   0.48  0.5  -0.09 -0.5  -0.48 -0.5  -0.5  -0.5\n",
            "  -0.5  -0.5  -0.5  -0.5 ]\n",
            " [-0.5  -0.5  -0.5  -0.5  -0.5  -0.5  -0.5  -0.48 -0.5  -0.09  0.5   0.48\n",
            "   0.5   0.5   0.5   0.5   0.48  0.5  -0.09 -0.5  -0.48 -0.5  -0.5  -0.5\n",
            "  -0.5  -0.5  -0.5  -0.5 ]\n",
            " [-0.5  -0.5  -0.5  -0.5  -0.5  -0.5  -0.5  -0.48 -0.5  -0.09  0.5   0.48\n",
            "   0.5   0.5   0.5   0.5   0.48  0.5  -0.09 -0.5  -0.48 -0.5  -0.5  -0.5\n",
            "  -0.5  -0.5  -0.5  -0.5 ]\n",
            " [-0.5  -0.5  -0.5  -0.5  -0.5  -0.5  -0.5  -0.48 -0.5  -0.09  0.5   0.48\n",
            "   0.5   0.5   0.5   0.5   0.48  0.5  -0.09 -0.5  -0.48 -0.5  -0.5  -0.5\n",
            "  -0.5  -0.5  -0.5  -0.5 ]\n",
            " [-0.5  -0.5  -0.5  -0.5  -0.5  -0.5  -0.5  -0.48 -0.5  -0.09  0.5   0.48\n",
            "   0.5   0.5   0.5   0.5   0.48  0.5  -0.09 -0.5  -0.48 -0.5  -0.5  -0.5\n",
            "  -0.5  -0.5  -0.5  -0.5 ]\n",
            " [-0.5  -0.5  -0.5  -0.5  -0.5  -0.5  -0.5  -0.48 -0.5  -0.09  0.5   0.48\n",
            "   0.5   0.5   0.5   0.5   0.48  0.5  -0.09 -0.5  -0.48 -0.5  -0.5  -0.5\n",
            "  -0.5  -0.5  -0.5  -0.5 ]\n",
            " [-0.5  -0.5  -0.5  -0.5  -0.5  -0.5  -0.5  -0.48 -0.5  -0.09  0.5   0.48\n",
            "   0.5   0.5   0.5   0.5   0.48  0.5  -0.09 -0.5  -0.48 -0.5  -0.5  -0.5\n",
            "  -0.5  -0.5  -0.5  -0.5 ]\n",
            " [-0.5  -0.5  -0.5  -0.5  -0.5  -0.5  -0.5  -0.48 -0.5  -0.09  0.5   0.48\n",
            "   0.5   0.5   0.5   0.5   0.48  0.5  -0.09 -0.5  -0.48 -0.5  -0.5  -0.5\n",
            "  -0.5  -0.5  -0.5  -0.5 ]\n",
            " [-0.5  -0.5  -0.5  -0.5  -0.5  -0.5  -0.5  -0.48 -0.5  -0.09  0.5   0.48\n",
            "   0.5   0.5   0.5   0.5   0.48  0.5  -0.09 -0.5  -0.48 -0.5  -0.5  -0.5\n",
            "  -0.5  -0.5  -0.5  -0.5 ]\n",
            " [-0.5  -0.5  -0.5  -0.5  -0.5  -0.5  -0.5  -0.48 -0.5  -0.09  0.5   0.48\n",
            "   0.5   0.5   0.5   0.5   0.48  0.5  -0.09 -0.5  -0.48 -0.5  -0.5  -0.5\n",
            "  -0.5  -0.5  -0.5  -0.5 ]\n",
            " [-0.5  -0.5  -0.5  -0.5  -0.5  -0.5  -0.5  -0.48 -0.5  -0.09  0.5   0.48\n",
            "   0.5   0.5   0.5   0.5   0.48  0.5  -0.09 -0.5  -0.48 -0.5  -0.5  -0.5\n",
            "  -0.5  -0.5  -0.5  -0.5 ]\n",
            " [-0.5  -0.5  -0.5  -0.5  -0.5  -0.5  -0.5  -0.48 -0.5  -0.09  0.5   0.48\n",
            "   0.5   0.5   0.5   0.5   0.48  0.5  -0.09 -0.5  -0.48 -0.5  -0.5  -0.5\n",
            "  -0.5  -0.5  -0.5  -0.5 ]\n",
            " [-0.5  -0.5  -0.5  -0.5  -0.5  -0.5  -0.5  -0.48 -0.5  -0.09  0.5   0.48\n",
            "   0.5   0.5   0.5   0.5   0.48  0.5  -0.09 -0.5  -0.48 -0.5  -0.5  -0.5\n",
            "  -0.5  -0.5  -0.5  -0.5 ]\n",
            " [-0.5  -0.5  -0.5  -0.5  -0.5  -0.5  -0.5  -0.48 -0.5  -0.09  0.5   0.48\n",
            "   0.5   0.5   0.5   0.5   0.48  0.5  -0.09 -0.5  -0.48 -0.5  -0.5  -0.5\n",
            "  -0.5  -0.5  -0.5  -0.5 ]\n",
            " [-0.5  -0.5  -0.5  -0.5  -0.5  -0.5  -0.5  -0.48 -0.5  -0.08  0.5   0.48\n",
            "   0.5   0.5   0.5   0.5   0.48  0.5  -0.08 -0.5  -0.48 -0.5  -0.5  -0.5\n",
            "  -0.5  -0.5  -0.5  -0.5 ]\n",
            " [-0.5  -0.49 -0.5  -0.5  -0.5  -0.5  -0.5  -0.48 -0.5  -0.09  0.5   0.48\n",
            "   0.5   0.5   0.5   0.5   0.48  0.5  -0.09 -0.5  -0.48 -0.5  -0.5  -0.5\n",
            "  -0.5  -0.5  -0.49 -0.5 ]\n",
            " [-0.5  -0.5  -0.49 -0.46 -0.44 -0.44 -0.44 -0.42 -0.5  -0.05  0.5   0.48\n",
            "   0.5   0.5   0.5   0.5   0.48  0.5  -0.05 -0.5  -0.42 -0.44 -0.44 -0.44\n",
            "  -0.46 -0.49 -0.5  -0.5 ]\n",
            " [-0.44  0.    0.3   0.39  0.44  0.44  0.44  0.44  0.44  0.46  0.5   0.5\n",
            "   0.5   0.5   0.5   0.5   0.5   0.5   0.46  0.44  0.44  0.44  0.44  0.44\n",
            "   0.39  0.3   0.   -0.44]\n",
            " [ 0.29  0.5   0.5   0.5   0.5   0.5   0.5   0.5   0.5   0.5   0.5   0.5\n",
            "   0.5   0.5   0.5   0.5   0.5   0.5   0.5   0.5   0.5   0.5   0.5   0.5\n",
            "   0.5   0.5   0.5   0.29]\n",
            " [ 0.27  0.5   0.5   0.5   0.5   0.5   0.5   0.5   0.5   0.5   0.5   0.5\n",
            "   0.5   0.5   0.5   0.5   0.5   0.5   0.5   0.5   0.5   0.5   0.5   0.5\n",
            "   0.5   0.5   0.5   0.26]\n",
            " [-0.43  0.02  0.34  0.45  0.5   0.5   0.5   0.5   0.5   0.5   0.5   0.5\n",
            "   0.5   0.5   0.5   0.5   0.5   0.5   0.5   0.5   0.5   0.5   0.5   0.5\n",
            "   0.45  0.34  0.02 -0.44]]\n"
          ],
          "name": "stdout"
        }
      ]
    },
    {
      "cell_type": "markdown",
      "metadata": {
        "colab_type": "text",
        "deletable": true,
        "editable": true,
        "id": "PBdkjESPK8tw"
      },
      "source": [
        "Now let's load the data in a more manageable format. Since, depending on your computer setup you might not be able to fit it all in memory, we'll load each class into a separate dataset, store them on disk and curate them independently. Later we'll merge them into a single dataset of manageable size.\n",
        "\n",
        "We'll convert the entire dataset into a 3D array (image index, x, y) of floating point values, normalized to have approximately zero mean and standard deviation ~0.5 to make training easier down the road.\n",
        " \n",
        "ພວກເຮົາຈະແປງຊຸດຂໍ້ມູນເປັນ 3D array (image index, x, y) ເປັນຕົວເລກປະເພດ float ໃນຮູບຕົວເລກ zero mean ແລະ standard deviation ~0.5 ເພື່ອງ້າຍໃນການປະຕິບັດ\n",
        "\n",
        "A few images might not be readable, we'll just skip them.\n",
        "\n",
        "..... ໝາຍເຫດ .....: os.listdir(folder) ໝາຍເຖິງຊື່ file ທັງໝົດທີ່ມີຢູ່ໃນໂຟເດີ ຕາມທີ່ຢູ່ທີ່ບອກດ້ວຍຕົວປ່ຽນ \"folder\""
      ]
    },
    {
      "cell_type": "code",
      "metadata": {
        "cellView": "both",
        "colab_type": "code",
        "deletable": true,
        "editable": true,
        "id": "h7q0XhG3MJdf",
        "scrolled": true,
        "outputId": "fbc7ca57-e365-43a6-e9ad-5b2ac7247f04",
        "colab": {
          "base_uri": "https://localhost:8080/",
          "height": 1000
        }
      },
      "source": [
        "image_size = 28  # Pixel width and height.\n",
        "pixel_depth = 255.0  # Number of levels per pixel.\n",
        "\n",
        "def load_letter(folder, min_num_images):\n",
        "  \"\"\"Load the data for a single letter label.\"\"\"\n",
        "\n",
        "###  print (\" ຢູ່ໃນ load_letter method\")\n",
        "\n",
        "  image_files = os.listdir(folder)                              # ໂລດຊື່ file ທັງໝົດທີ່ມີຢູ່ໃນໂຟເດີ (folder) ໃສ່ image_files\n",
        "  dataset = np.ndarray(shape=(len(image_files), image_size, image_size),\n",
        "                         dtype=np.float32)                      # np.ndarray ແມ່ນປ່ຽນຮູບທັງໝົດເປັນຕົວປ່ຽນ tuple ໂຕດ່ຽວ\n",
        "  print('ຂະໜາດ dataset ກ່ອນຂັດຮູບໃຊ້ບໍ່ໄດ້ອອກ: ', dataset.shape)     ###   ແຖວນີ້ນາເພີ່ມໃສ່\n",
        "  print(folder)\n",
        "  \n",
        "  num_images = 0\n",
        "  for image in image_files:\n",
        "    image_file = os.path.join(folder, image)\n",
        "    try:                                                         # ຂັ້ນຕອນນີ້ພະຍາມອ່ານຟ້າຍຮູບຖ້າອ່ານບໍ່ໄດ້ກໍ່ຈະຂັດອອກ\n",
        "\n",
        "###      image_data = (ndimage.imread(image_file).astype(float) -   # ຄຳສັງເກົ່າໃຊ້ເກັບ Pyton V2.7 \"ndimage\"\n",
        "      image_data = (imageio.imread(image_file).astype(float) -   # ຂັ້ນຕອນນີ້ຄິດວ່າແມ່ນ່ປ່ຽນຮູບຕົວເລກແຕ່ລະພິກເຊວຮູບເປັນຮູບແບບ zero mean and standard deviation ~0.5     \n",
        "                    pixel_depth / 2) / pixel_depth               # to make training easier down the road ເພື່ອງ້າຍໃນການປະຜົນຂອງຄອມ\n",
        "\n",
        "\n",
        "      if image_data.shape != (image_size, image_size):\n",
        "        raise Exception('Unexpected image shape: %s' % str(image_data.shape))\n",
        "      dataset[num_images, :, :] = image_data\n",
        "      num_images = num_images + 1\n",
        "###    except IOError as e:        ### # ຄຳສັງເກົ່າໃຊ້ເກັບ Pyton V2.7 \"IOError\"\n",
        "    except Exception as e:\n",
        "\n",
        "      print('Could not read:', image_file, ':', e, '- it\\'s ok, skipping.')\n",
        "    \n",
        "      print (\"image ທີ່: \" + str(num_images) + \"ສະແດງຄ່າ image_file: \" + image_file)   \n",
        "\n",
        "  dataset = dataset[0:num_images, :, :]     ### ແຖວນີ້ອັບເດດຈຳນວນຮູບຫຼັງຈາກຄັດຮູບທີ່ໃຊ້ບໍ່ໄດ້ອອກແລະຈັດລຽນຮູບເຂົ້າມາພ້ອມແລ້ວ\n",
        "  \n",
        "                                         ### ເພື່ອຂະໜາດຂອງອາເລເທົ່າຈຳນວນຮູບທີ່ໃຊ້ໄດ້\n",
        "###   171224 ນາ    ####\n",
        "\n",
        "  if num_images < min_num_images:        ### ຫຼັງຈາກຄັດເອົາຮູບທີ່ໃຊ້ບໍ່ໄດ້ເອົາແລ້ວ ກໍ່ກວດເບິ່ງຈຳນວນທີ່ໃຊ້ໄດ້ມັນໃຫຍ່ກວ່າຈຳນວນຕໍ່າສຸດທີ່ເຮົາຕ້ອງການຫລືບໍ່\n",
        "    raise Exception('Many fewer images than expected: %d < %d' %\n",
        "                    (num_images, min_num_images))\n",
        "    \n",
        "  print('Full dataset tensor:', dataset.shape)\n",
        "  print('Mean:', np.mean(dataset))           ### ???\n",
        "  print('Standard deviation:', np.std(dataset))   ### ???\n",
        "  return dataset\n",
        "\n",
        "###   171225 ນາ    ####\n",
        "\n",
        "def maybe_pickle(data_folders, min_num_images_per_class, force=False):\n",
        "\n",
        "  print (data_folders)\n",
        "  dataset_names = []\n",
        "  for folder in data_folders:                               # ຮອບທຳອິດ ເອົາຄ່າຫ້ອງທີ່1 ຂອງອາເລ້ data_folders ໃສ່ folder ຮອບຕໍ່ໄປກໍ່ເອົາຫ້ອງຕໍ່ໄປຈົນຮອດສຸດທ້າຍ\n",
        "    set_filename = folder + '.pickle'                       # ເຊັນ './notMNIST_large/A', './notMNIST_large/B', ...\n",
        "    dataset_names.append(set_filename)                      # ລວມທີ່ຢູ່ພ້ອມຊື່ຟ້າຍນາມສະກຸນ .pickle ຂອງແຕ່ລະຕົວອັກສອນໃສ່ dataset_names ເພື່ອ\n",
        "    \n",
        "    print (set_filename)\n",
        "\n",
        "    if os.path.exists(set_filename) and force:          # ຫຼັງເປັນຮູບເປັນຮູບເປັນຟ້າຍ .pickle ກໍ່ return ພຽງທີ່ຢູ່ພ້ອມຊື່\n",
        "      # You may override by setting force=True.\n",
        "      print('%s already present - Skipping pickling.' % set_filename)\n",
        "    else:\n",
        "      print('Pickling %s.' % set_filename)\n",
        "      dataset = load_letter(folder, min_num_images_per_class) # ແຖວນີ້ໂລດກຸ່ມຮູບໃສ່ອາເລໂຕດຽວເພື່ອໄວ້ປ່ຽນເປັນຟ້າຍ .pickle\n",
        "      try:\n",
        "        with open(set_filename, 'wb') as f:                  #  ເປີດຟາຍຕາມ set_filename ໃນແບບ 'wb' ເປັນໄບນາລີແລະສາມາດຂຽນໃສ່ຟາຍໄດ້\n",
        "          pickle.dump(dataset, f, pickle.HIGHEST_PROTOCOL)   # ແຖວນີ້ປ່ຽນອາເລເປັນຟ້າຍ .pickle  ຕົວຢ່າງ A.pickle\n",
        "      except Exception as e:                                 # ຕົວຢ່າງຂອງ pickle.dump ຢູ່ https://kite.com/docs/python;pickle.dump\n",
        "        print('Unable to save data to', set_filename, ':', e)       \n",
        "  print(\"ຄ່າ dataset_names ກ່ອນສົ່ງກັບ\" + str(dataset_names))\n",
        "  return dataset_names                                       # ສົ່ງຄືນຊື່ ແລະ ທີ່ຢູ່ຂອງ dataset ໂດຍເປັນ list ຂອງstring ເຊັນ ['./notMNIST_large/A.pickle', './notMNIST_large/B.pickle', './notMNIST_large/C.pickle', './notMNIST_large/D.pickle',\n",
        "                                                             # './notMNIST_large/E.pickle', './notMNIST_large/F.pickle', './notMNIST_large/G.pickle', './notMNIST_large/H.pickle', './notMNIST_large/I.pickle', './notMNIST_large/J.pickle']\n",
        "###print (type(train_folders))\n",
        "\n",
        "print (\"ກ່ອນເລີ້ມ pickle: \" + str(train_folders[0]))\n",
        "train_datasets = maybe_pickle(train_folders, 45000)\n",
        "test_datasets = maybe_pickle(test_folders, 1800)\n",
        "\n",
        "###   200421 ນາ    ####\n",
        "###   171229 ນາ    ####"
      ],
      "execution_count": 0,
      "outputs": [
        {
          "output_type": "stream",
          "text": [
            "ກ່ອນເລີ້ມ pickle: ./notMNIST_large/A\n",
            "['./notMNIST_large/A', './notMNIST_large/B', './notMNIST_large/C', './notMNIST_large/D', './notMNIST_large/E', './notMNIST_large/F', './notMNIST_large/G', './notMNIST_large/H', './notMNIST_large/I', './notMNIST_large/J']\n",
            "./notMNIST_large/A.pickle\n",
            "Pickling ./notMNIST_large/A.pickle.\n",
            "ຂະໜາດ dataset ກ່ອນຂັດຮູບໃຊ້ບໍ່ໄດ້ອອກ:  (52912, 28, 28)\n",
            "./notMNIST_large/A\n",
            "Could not read: ./notMNIST_large/A/Um9tYW5hIEJvbGQucGZi.png : Could not find a format to read the specified file in mode 'i' - it's ok, skipping.\n",
            "image ທີ່: 23803ສະແດງຄ່າ image_file: ./notMNIST_large/A/Um9tYW5hIEJvbGQucGZi.png\n",
            "Could not read: ./notMNIST_large/A/SG90IE11c3RhcmQgQlROIFBvc3Rlci50dGY=.png : Could not find a format to read the specified file in mode 'i' - it's ok, skipping.\n",
            "image ທີ່: 28460ສະແດງຄ່າ image_file: ./notMNIST_large/A/SG90IE11c3RhcmQgQlROIFBvc3Rlci50dGY=.png\n",
            "Could not read: ./notMNIST_large/A/RnJlaWdodERpc3BCb29rSXRhbGljLnR0Zg==.png : Could not find a format to read the specified file in mode 'i' - it's ok, skipping.\n",
            "image ທີ່: 44635ສະແດງຄ່າ image_file: ./notMNIST_large/A/RnJlaWdodERpc3BCb29rSXRhbGljLnR0Zg==.png\n",
            "Full dataset tensor: (52909, 28, 28)\n",
            "Mean: -0.12825014\n",
            "Standard deviation: 0.44312042\n",
            "./notMNIST_large/B.pickle\n",
            "Pickling ./notMNIST_large/B.pickle.\n",
            "ຂະໜາດ dataset ກ່ອນຂັດຮູບໃຊ້ບໍ່ໄດ້ອອກ:  (52912, 28, 28)\n",
            "./notMNIST_large/B\n",
            "Could not read: ./notMNIST_large/B/TmlraXNFRi1TZW1pQm9sZEl0YWxpYy5vdGY=.png : Could not find a format to read the specified file in mode 'i' - it's ok, skipping.\n",
            "image ທີ່: 22635ສະແດງຄ່າ image_file: ./notMNIST_large/B/TmlraXNFRi1TZW1pQm9sZEl0YWxpYy5vdGY=.png\n",
            "Full dataset tensor: (52911, 28, 28)\n",
            "Mean: -0.007563043\n",
            "Standard deviation: 0.45449173\n",
            "./notMNIST_large/C.pickle\n",
            "Pickling ./notMNIST_large/C.pickle.\n",
            "ຂະໜາດ dataset ກ່ອນຂັດຮູບໃຊ້ບໍ່ໄດ້ອອກ:  (52912, 28, 28)\n",
            "./notMNIST_large/C\n",
            "Full dataset tensor: (52912, 28, 28)\n",
            "Mean: -0.14225808\n",
            "Standard deviation: 0.43980604\n",
            "./notMNIST_large/D.pickle\n",
            "Pickling ./notMNIST_large/D.pickle.\n",
            "ຂະໜາດ dataset ກ່ອນຂັດຮູບໃຊ້ບໍ່ໄດ້ອອກ:  (52912, 28, 28)\n",
            "./notMNIST_large/D\n",
            "Could not read: ./notMNIST_large/D/VHJhbnNpdCBCb2xkLnR0Zg==.png : Could not find a format to read the specified file in mode 'i' - it's ok, skipping.\n",
            "image ທີ່: 24925ສະແດງຄ່າ image_file: ./notMNIST_large/D/VHJhbnNpdCBCb2xkLnR0Zg==.png\n",
            "Full dataset tensor: (52911, 28, 28)\n",
            "Mean: -0.057367753\n",
            "Standard deviation: 0.45564765\n",
            "./notMNIST_large/E.pickle\n",
            "Pickling ./notMNIST_large/E.pickle.\n",
            "ຂະໜາດ dataset ກ່ອນຂັດຮູບໃຊ້ບໍ່ໄດ້ອອກ:  (52912, 28, 28)\n",
            "./notMNIST_large/E\n",
            "Full dataset tensor: (52912, 28, 28)\n",
            "Mean: -0.06989887\n",
            "Standard deviation: 0.45294142\n",
            "./notMNIST_large/F.pickle\n",
            "Pickling ./notMNIST_large/F.pickle.\n",
            "ຂະໜາດ dataset ກ່ອນຂັດຮູບໃຊ້ບໍ່ໄດ້ອອກ:  (52912, 28, 28)\n",
            "./notMNIST_large/F\n",
            "Full dataset tensor: (52912, 28, 28)\n",
            "Mean: -0.12558334\n",
            "Standard deviation: 0.44708937\n",
            "./notMNIST_large/G.pickle\n",
            "Pickling ./notMNIST_large/G.pickle.\n",
            "ຂະໜາດ dataset ກ່ອນຂັດຮູບໃຊ້ບໍ່ໄດ້ອອກ:  (52912, 28, 28)\n",
            "./notMNIST_large/G\n",
            "Full dataset tensor: (52912, 28, 28)\n",
            "Mean: -0.09458141\n",
            "Standard deviation: 0.44623974\n",
            "./notMNIST_large/H.pickle\n",
            "Pickling ./notMNIST_large/H.pickle.\n",
            "ຂະໜາດ dataset ກ່ອນຂັດຮູບໃຊ້ບໍ່ໄດ້ອອກ:  (52912, 28, 28)\n",
            "./notMNIST_large/H\n",
            "Full dataset tensor: (52912, 28, 28)\n",
            "Mean: -0.06852207\n",
            "Standard deviation: 0.45423162\n",
            "./notMNIST_large/I.pickle\n",
            "Pickling ./notMNIST_large/I.pickle.\n",
            "ຂະໜາດ dataset ກ່ອນຂັດຮູບໃຊ້ບໍ່ໄດ້ອອກ:  (52912, 28, 28)\n",
            "./notMNIST_large/I\n",
            "Full dataset tensor: (52912, 28, 28)\n",
            "Mean: 0.030786265\n",
            "Standard deviation: 0.4688984\n",
            "./notMNIST_large/J.pickle\n",
            "Pickling ./notMNIST_large/J.pickle.\n",
            "ຂະໜາດ dataset ກ່ອນຂັດຮູບໃຊ້ບໍ່ໄດ້ອອກ:  (52911, 28, 28)\n",
            "./notMNIST_large/J\n",
            "Full dataset tensor: (52911, 28, 28)\n",
            "Mean: -0.15335825\n",
            "Standard deviation: 0.44365653\n",
            "ຄ່າ dataset_names ກ່ອນສົ່ງກັບ['./notMNIST_large/A.pickle', './notMNIST_large/B.pickle', './notMNIST_large/C.pickle', './notMNIST_large/D.pickle', './notMNIST_large/E.pickle', './notMNIST_large/F.pickle', './notMNIST_large/G.pickle', './notMNIST_large/H.pickle', './notMNIST_large/I.pickle', './notMNIST_large/J.pickle']\n",
            "['./notMNIST_small/A', './notMNIST_small/B', './notMNIST_small/C', './notMNIST_small/D', './notMNIST_small/E', './notMNIST_small/F', './notMNIST_small/G', './notMNIST_small/H', './notMNIST_small/I', './notMNIST_small/J']\n",
            "./notMNIST_small/A.pickle\n",
            "Pickling ./notMNIST_small/A.pickle.\n",
            "ຂະໜາດ dataset ກ່ອນຂັດຮູບໃຊ້ບໍ່ໄດ້ອອກ:  (1873, 28, 28)\n",
            "./notMNIST_small/A\n",
            "Could not read: ./notMNIST_small/A/RGVtb2NyYXRpY2FCb2xkT2xkc3R5bGUgQm9sZC50dGY=.png : Could not find a format to read the specified file in mode 'i' - it's ok, skipping.\n",
            "image ທີ່: 1133ສະແດງຄ່າ image_file: ./notMNIST_small/A/RGVtb2NyYXRpY2FCb2xkT2xkc3R5bGUgQm9sZC50dGY=.png\n",
            "Full dataset tensor: (1872, 28, 28)\n",
            "Mean: -0.13262638\n",
            "Standard deviation: 0.4451279\n",
            "./notMNIST_small/B.pickle\n",
            "Pickling ./notMNIST_small/B.pickle.\n",
            "ຂະໜາດ dataset ກ່ອນຂັດຮູບໃຊ້ບໍ່ໄດ້ອອກ:  (1873, 28, 28)\n",
            "./notMNIST_small/B\n",
            "Full dataset tensor: (1873, 28, 28)\n",
            "Mean: 0.0053560827\n",
            "Standard deviation: 0.45711535\n",
            "./notMNIST_small/C.pickle\n",
            "Pickling ./notMNIST_small/C.pickle.\n",
            "ຂະໜາດ dataset ກ່ອນຂັດຮູບໃຊ້ບໍ່ໄດ້ອອກ:  (1873, 28, 28)\n",
            "./notMNIST_small/C\n",
            "Full dataset tensor: (1873, 28, 28)\n",
            "Mean: -0.14152056\n",
            "Standard deviation: 0.4426902\n",
            "./notMNIST_small/D.pickle\n",
            "Pickling ./notMNIST_small/D.pickle.\n",
            "ຂະໜາດ dataset ກ່ອນຂັດຮູບໃຊ້ບໍ່ໄດ້ອອກ:  (1873, 28, 28)\n",
            "./notMNIST_small/D\n",
            "Full dataset tensor: (1873, 28, 28)\n",
            "Mean: -0.049216654\n",
            "Standard deviation: 0.4597589\n",
            "./notMNIST_small/E.pickle\n",
            "Pickling ./notMNIST_small/E.pickle.\n",
            "ຂະໜາດ dataset ກ່ອນຂັດຮູບໃຊ້ບໍ່ໄດ້ອອກ:  (1873, 28, 28)\n",
            "./notMNIST_small/E\n",
            "Full dataset tensor: (1873, 28, 28)\n",
            "Mean: -0.05991475\n",
            "Standard deviation: 0.45734963\n",
            "./notMNIST_small/F.pickle\n",
            "Pickling ./notMNIST_small/F.pickle.\n",
            "ຂະໜາດ dataset ກ່ອນຂັດຮູບໃຊ້ບໍ່ໄດ້ອອກ:  (1873, 28, 28)\n",
            "./notMNIST_small/F\n",
            "Could not read: ./notMNIST_small/F/Q3Jvc3NvdmVyIEJvbGRPYmxpcXVlLnR0Zg==.png : Could not find a format to read the specified file in mode 'i' - it's ok, skipping.\n",
            "image ທີ່: 1784ສະແດງຄ່າ image_file: ./notMNIST_small/F/Q3Jvc3NvdmVyIEJvbGRPYmxpcXVlLnR0Zg==.png\n",
            "Full dataset tensor: (1872, 28, 28)\n",
            "Mean: -0.118185334\n",
            "Standard deviation: 0.45227867\n",
            "./notMNIST_small/G.pickle\n",
            "Pickling ./notMNIST_small/G.pickle.\n",
            "ຂະໜາດ dataset ກ່ອນຂັດຮູບໃຊ້ບໍ່ໄດ້ອອກ:  (1872, 28, 28)\n",
            "./notMNIST_small/G\n",
            "Full dataset tensor: (1872, 28, 28)\n",
            "Mean: -0.09255028\n",
            "Standard deviation: 0.4490058\n",
            "./notMNIST_small/H.pickle\n",
            "Pickling ./notMNIST_small/H.pickle.\n",
            "ຂະໜາດ dataset ກ່ອນຂັດຮູບໃຊ້ບໍ່ໄດ້ອອກ:  (1872, 28, 28)\n",
            "./notMNIST_small/H\n",
            "Full dataset tensor: (1872, 28, 28)\n",
            "Mean: -0.05868924\n",
            "Standard deviation: 0.45875892\n",
            "./notMNIST_small/I.pickle\n",
            "Pickling ./notMNIST_small/I.pickle.\n",
            "ຂະໜາດ dataset ກ່ອນຂັດຮູບໃຊ້ບໍ່ໄດ້ອອກ:  (1872, 28, 28)\n",
            "./notMNIST_small/I\n",
            "Full dataset tensor: (1872, 28, 28)\n",
            "Mean: 0.052645057\n",
            "Standard deviation: 0.47189352\n",
            "./notMNIST_small/J.pickle\n",
            "Pickling ./notMNIST_small/J.pickle.\n",
            "ຂະໜາດ dataset ກ່ອນຂັດຮູບໃຊ້ບໍ່ໄດ້ອອກ:  (1872, 28, 28)\n",
            "./notMNIST_small/J\n",
            "Full dataset tensor: (1872, 28, 28)\n",
            "Mean: -0.1516892\n",
            "Standard deviation: 0.4480136\n",
            "ຄ່າ dataset_names ກ່ອນສົ່ງກັບ['./notMNIST_small/A.pickle', './notMNIST_small/B.pickle', './notMNIST_small/C.pickle', './notMNIST_small/D.pickle', './notMNIST_small/E.pickle', './notMNIST_small/F.pickle', './notMNIST_small/G.pickle', './notMNIST_small/H.pickle', './notMNIST_small/I.pickle', './notMNIST_small/J.pickle']\n"
          ],
          "name": "stdout"
        }
      ]
    },
    {
      "cell_type": "markdown",
      "metadata": {
        "colab_type": "text",
        "deletable": true,
        "editable": true,
        "id": "vUdbskYE2d87"
      },
      "source": [
        "---\n",
        "Problem 2\n",
        "---------\n",
        "\n",
        "Let's verify that the data still looks good. Displaying a sample of the labels and images from the ndarray. Hint: you can use matplotlib.pyplot.\n",
        "\n",
        "---"
      ]
    },
    {
      "cell_type": "code",
      "metadata": {
        "deletable": true,
        "editable": true,
        "id": "j9_wU-gJ5GIk",
        "colab_type": "code",
        "outputId": "70a6d2fe-6371-45de-aa48-4cac3f9c4fd8",
        "colab": {
          "base_uri": "https://localhost:8080/",
          "height": 1000
        }
      },
      "source": [
        "\n",
        "# index 0 should be all As, 1 = all Bs, etc. ອິນເດັດ(Index ຫຼື Label) 0 ໝາຍເຖິງກຸ່ມຕົວອັກສອນ 'A', ອິນເດັດ 1 ໝາຍເຖິງ  'B'\n",
        "\n",
        "pickle_file = train_datasets[8]  \n",
        "\n",
        "# With would automatically close the file after the nested block of code\n",
        "with open(pickle_file, 'rb') as f:\n",
        "    \n",
        "    # unpickle\n",
        "    letter_set = pickle.load(f)  \n",
        "    \n",
        "    # pick a random image index\n",
        "    ### sample_idx = 0      # The method len() returns the number of elements in the list ເລືອກເອົາຮູບທຳອິດຂອງ ໃນກຸ່ມຕົວອັກສອນທີ່ເລືອກ\n",
        "    sample_idx = np.random.randint(len(letter_set))      # The method len() returns the number of elements in the list\n",
        "    print(\"ຄວາມກວ້າງຂອງ len(letter_set): \" + str(len(letter_set)))\n",
        "    print(\"ຄ່າ sample_idx ທີ່ຊຸມໄດ້: \" + str(sample_idx))\n",
        "                                                         # ຊຸ່ມເອົາເລກໃດໜຶ່ງ ແຕ່ 0 ຫາ 52912 = len(letter_set) ກໍ່ຄືຊຸມເອົາຮູບໃດໜຶ່ງໃນ train_datasets[8]\n",
        "    # extract a 2D slice    \n",
        "    sample_image = letter_set[sample_idx, :, :]          # ໂລດຮູບໂຕທີ່ sample_idx ໃສ່ sample_image ເຊິ່ງເປັນຮູບ 2D \n",
        "\n",
        "    ## sample_image = letter_set[7, :, :]          # ຖ້າບໍ່ຢາກຊຸມກໍ່ໃຊ້ແຖວນີ້ກໍ່ໄດ້ \n",
        "\n",
        "    plt.figure()\n",
        "    \n",
        "    # display it ສະແດງຮູບເພື່ອກວດເບິ່ງວ່າຮູບທີ່ໄດ້ມາມັນດີບໍ່\n",
        "    plt.imshow(sample_image)\n",
        "                    \n",
        "    print(sample_image)   # ເປັນຫຍັງຕົວເລກພວກນີ້ມີຄ່າດຽວຢູ່ໃນພິກເຊວເມື່ອສ້າງເປັນຮູບຄືບໍ່ເປັນຮູບຂາວດຳ"
      ],
      "execution_count": 0,
      "outputs": [
        {
          "output_type": "stream",
          "text": [
            "ຄວາມກວ້າງຂອງ len(letter_set): 52912\n",
            "ຄ່າ sample_idx ທີ່ຊຸມໄດ້: 29752\n",
            "[[0.5 0.5 0.5 0.5 0.5 0.5 0.5 0.5 0.5 0.5 0.5 0.5 0.5 0.5 0.5 0.5 0.5 0.5\n",
            "  0.5 0.5 0.5 0.5 0.5 0.5 0.5 0.5 0.5 0.5]\n",
            " [0.5 0.5 0.5 0.5 0.5 0.5 0.5 0.5 0.5 0.5 0.5 0.5 0.5 0.5 0.5 0.5 0.5 0.5\n",
            "  0.5 0.5 0.5 0.5 0.5 0.5 0.5 0.5 0.5 0.5]\n",
            " [0.5 0.5 0.5 0.5 0.5 0.5 0.5 0.5 0.5 0.5 0.5 0.5 0.5 0.5 0.5 0.5 0.5 0.5\n",
            "  0.5 0.5 0.5 0.5 0.5 0.5 0.5 0.5 0.5 0.5]\n",
            " [0.5 0.5 0.5 0.5 0.5 0.5 0.5 0.5 0.5 0.5 0.5 0.5 0.5 0.5 0.5 0.5 0.5 0.5\n",
            "  0.5 0.5 0.5 0.5 0.5 0.5 0.5 0.5 0.5 0.5]\n",
            " [0.5 0.5 0.5 0.5 0.5 0.5 0.5 0.5 0.5 0.5 0.5 0.5 0.5 0.5 0.5 0.5 0.5 0.5\n",
            "  0.5 0.5 0.5 0.5 0.5 0.5 0.5 0.5 0.5 0.5]\n",
            " [0.5 0.5 0.5 0.5 0.5 0.5 0.5 0.5 0.5 0.5 0.5 0.5 0.5 0.5 0.5 0.5 0.5 0.5\n",
            "  0.5 0.5 0.5 0.5 0.5 0.5 0.5 0.5 0.5 0.5]\n",
            " [0.5 0.5 0.5 0.5 0.5 0.5 0.5 0.5 0.5 0.5 0.5 0.5 0.5 0.5 0.5 0.5 0.5 0.5\n",
            "  0.5 0.5 0.5 0.5 0.5 0.5 0.5 0.5 0.5 0.5]\n",
            " [0.5 0.5 0.5 0.5 0.5 0.5 0.5 0.5 0.5 0.5 0.5 0.5 0.5 0.5 0.5 0.5 0.5 0.5\n",
            "  0.5 0.5 0.5 0.5 0.5 0.5 0.5 0.5 0.5 0.5]\n",
            " [0.5 0.5 0.5 0.5 0.5 0.5 0.5 0.5 0.5 0.5 0.5 0.5 0.5 0.5 0.5 0.5 0.5 0.5\n",
            "  0.5 0.5 0.5 0.5 0.5 0.5 0.5 0.5 0.5 0.5]\n",
            " [0.5 0.5 0.5 0.5 0.5 0.5 0.5 0.5 0.5 0.5 0.5 0.5 0.5 0.5 0.5 0.5 0.5 0.5\n",
            "  0.5 0.5 0.5 0.5 0.5 0.5 0.5 0.5 0.5 0.5]\n",
            " [0.5 0.5 0.5 0.5 0.5 0.5 0.5 0.5 0.5 0.5 0.5 0.5 0.5 0.5 0.5 0.5 0.5 0.5\n",
            "  0.5 0.5 0.5 0.5 0.5 0.5 0.5 0.5 0.5 0.5]\n",
            " [0.5 0.5 0.5 0.5 0.5 0.5 0.5 0.5 0.5 0.5 0.5 0.5 0.5 0.5 0.5 0.5 0.5 0.5\n",
            "  0.5 0.5 0.5 0.5 0.5 0.5 0.5 0.5 0.5 0.5]\n",
            " [0.5 0.5 0.5 0.5 0.5 0.5 0.5 0.5 0.5 0.5 0.5 0.5 0.5 0.5 0.5 0.5 0.5 0.5\n",
            "  0.5 0.5 0.5 0.5 0.5 0.5 0.5 0.5 0.5 0.5]\n",
            " [0.5 0.5 0.5 0.5 0.5 0.5 0.5 0.5 0.5 0.5 0.5 0.5 0.5 0.5 0.5 0.5 0.5 0.5\n",
            "  0.5 0.5 0.5 0.5 0.5 0.5 0.5 0.5 0.5 0.5]\n",
            " [0.5 0.5 0.5 0.5 0.5 0.5 0.5 0.5 0.5 0.5 0.5 0.5 0.5 0.5 0.5 0.5 0.5 0.5\n",
            "  0.5 0.5 0.5 0.5 0.5 0.5 0.5 0.5 0.5 0.5]\n",
            " [0.5 0.5 0.5 0.5 0.5 0.5 0.5 0.5 0.5 0.5 0.5 0.5 0.5 0.5 0.5 0.5 0.5 0.5\n",
            "  0.5 0.5 0.5 0.5 0.5 0.5 0.5 0.5 0.5 0.5]\n",
            " [0.5 0.5 0.5 0.5 0.5 0.5 0.5 0.5 0.5 0.5 0.5 0.5 0.5 0.5 0.5 0.5 0.5 0.5\n",
            "  0.5 0.5 0.5 0.5 0.5 0.5 0.5 0.5 0.5 0.5]\n",
            " [0.5 0.5 0.5 0.5 0.5 0.5 0.5 0.5 0.5 0.5 0.5 0.5 0.5 0.5 0.5 0.5 0.5 0.5\n",
            "  0.5 0.5 0.5 0.5 0.5 0.5 0.5 0.5 0.5 0.5]\n",
            " [0.5 0.5 0.5 0.5 0.5 0.5 0.5 0.5 0.5 0.5 0.5 0.5 0.5 0.5 0.5 0.5 0.5 0.5\n",
            "  0.5 0.5 0.5 0.5 0.5 0.5 0.5 0.5 0.5 0.5]\n",
            " [0.5 0.5 0.5 0.5 0.5 0.5 0.5 0.5 0.5 0.5 0.5 0.5 0.5 0.5 0.5 0.5 0.5 0.5\n",
            "  0.5 0.5 0.5 0.5 0.5 0.5 0.5 0.5 0.5 0.5]\n",
            " [0.5 0.5 0.5 0.5 0.5 0.5 0.5 0.5 0.5 0.5 0.5 0.5 0.5 0.5 0.5 0.5 0.5 0.5\n",
            "  0.5 0.5 0.5 0.5 0.5 0.5 0.5 0.5 0.5 0.5]\n",
            " [0.5 0.5 0.5 0.5 0.5 0.5 0.5 0.5 0.5 0.5 0.5 0.5 0.5 0.5 0.5 0.5 0.5 0.5\n",
            "  0.5 0.5 0.5 0.5 0.5 0.5 0.5 0.5 0.5 0.5]\n",
            " [0.5 0.5 0.5 0.5 0.5 0.5 0.5 0.5 0.5 0.5 0.5 0.5 0.5 0.5 0.5 0.5 0.5 0.5\n",
            "  0.5 0.5 0.5 0.5 0.5 0.5 0.5 0.5 0.5 0.5]\n",
            " [0.5 0.5 0.5 0.5 0.5 0.5 0.5 0.5 0.5 0.5 0.5 0.5 0.5 0.5 0.5 0.5 0.5 0.5\n",
            "  0.5 0.5 0.5 0.5 0.5 0.5 0.5 0.5 0.5 0.5]\n",
            " [0.5 0.5 0.5 0.5 0.5 0.5 0.5 0.5 0.5 0.5 0.5 0.5 0.5 0.5 0.5 0.5 0.5 0.5\n",
            "  0.5 0.5 0.5 0.5 0.5 0.5 0.5 0.5 0.5 0.5]\n",
            " [0.5 0.5 0.5 0.5 0.5 0.5 0.5 0.5 0.5 0.5 0.5 0.5 0.5 0.5 0.5 0.5 0.5 0.5\n",
            "  0.5 0.5 0.5 0.5 0.5 0.5 0.5 0.5 0.5 0.5]\n",
            " [0.5 0.5 0.5 0.5 0.5 0.5 0.5 0.5 0.5 0.5 0.5 0.5 0.5 0.5 0.5 0.5 0.5 0.5\n",
            "  0.5 0.5 0.5 0.5 0.5 0.5 0.5 0.5 0.5 0.5]\n",
            " [0.5 0.5 0.5 0.5 0.5 0.5 0.5 0.5 0.5 0.5 0.5 0.5 0.5 0.5 0.5 0.5 0.5 0.5\n",
            "  0.5 0.5 0.5 0.5 0.5 0.5 0.5 0.5 0.5 0.5]]\n"
          ],
          "name": "stdout"
        },
        {
          "output_type": "display_data",
          "data": {
            "image/png": "[encoded data removed]",
            "text/plain": [
              "<Figure size 432x288 with 1 Axes>"
            ]
          },
          "metadata": {
            "tags": [],
            "needs_background": "light"
          }
        }
      ]
    },
    {
      "cell_type": "markdown",
      "metadata": {
        "id": "n_Gdovs6X2W1",
        "colab_type": "text"
      },
      "source": [
        "# Problem 3"
      ]
    },
    {
      "cell_type": "markdown",
      "metadata": {
        "colab_type": "text",
        "deletable": true,
        "editable": true,
        "id": "cYznx5jUwzoO"
      },
      "source": [
        "---\n",
        "Problem 3\n",
        "---------\n",
        "Another check: we expect the data to be balanced across classes. Verify that. 'balanced across classes' ເພື່ອຫຼຸດໂອກາດເກີດຄວາມຜິດພາດໃນການ Training ເຮົາຄວນໃຫ້ມີຈຳນວນສົມດຸ່ນກັນລະຫວ່າງແຕ່ລະ classes ແຕ່ A ຮອດ J\n",
        "\n",
        "---"
      ]
    },
    {
      "cell_type": "markdown",
      "metadata": {
        "colab_type": "text",
        "deletable": true,
        "editable": true,
        "id": "LA7M7K22ynCt"
      },
      "source": [
        "Merge and prune the training data as needed. Depending on your computer setup, you might not be able to fit it all in memory, and you can tune `train_size` as needed. The labels will be stored into a separate array of integers 0 through 9.\n",
        "\n",
        "Also create a validation dataset for hyperparameter tuning."
      ]
    },
    {
      "cell_type": "markdown",
      "metadata": {
        "colab_type": "text",
        "deletable": true,
        "editable": true,
        "id": "GPTCnjIcyuKN"
      },
      "source": [
        "Next, we'll randomize the data. It's important to have the labels well shuffled for the training and test distributions to match.\n",
        "ທີ່ຜ່ານມາໄດ້ shuffle ຮູບໃນແຕ່ລະກຸ່ມຕົວອັກສອນ ແລ້ວຈຶ່ງໂລດໃສ່ valid_dataset, valid_labels, train_dataset, train_labels, test_dataset, ແລະ test_labels ເມື່ອໂລດໃສ່ແລ້ວພວກມັນຍັງແຍກເປັນຊັ້ນແຕ່ລະຕົວອັກສອນ ສະນັ້ນເພື່ອໃຫ້ໃກ້ກັບຕົວຈິງຫຼາຍຂື້ນກໍ່ຕ້ອງ random ລຳດັບທັງ່ໝົດໃໝ່ໝົດຂອງ valid_dataset, valid_labels, train_dataset, train_labels, test_dataset, ແລະ test_labelsໂດຍການຈັບຄູ່ຂອງຂໍ້ມູນ ແລະ ລາບິວຂອງຖືກຄູ່ກັນຢູ່"
      ]
    },
    {
      "cell_type": "code",
      "metadata": {
        "cellView": "both",
        "colab_type": "code",
        "deletable": true,
        "editable": true,
        "id": "s3mWgZLpyuzq",
        "outputId": "6923a76f-134b-41b3-f24c-f6e48de303f3",
        "colab": {
          "base_uri": "https://localhost:8080/",
          "height": 102
        }
      },
      "source": [
        "def make_arrays(nb_rows, img_size):\n",
        "  if nb_rows:\n",
        "    dataset = np.ndarray((nb_rows, img_size, img_size), dtype=np.float32)\n",
        "    labels = np.ndarray(nb_rows, dtype=np.int32)\n",
        "  else:\n",
        "    dataset, labels = None, None\n",
        "  return dataset, labels\n",
        "\n",
        "def merge_datasets(pickle_files, train_size, valid_size=0):    # ສຳລັບຄ່າ valid_size=0 ມັນຈະເທົ່າ 0 ຖ້າໂຕເອີ້ນຟັງຊັນນີ້ບໍ່ໃຫ້ຄ່າ valid_size  \n",
        "# ຟັງຊັນນີ້ລວມ\n",
        "###                  ອະທິບາຍໂຕຫຍໍ້ \n",
        "#   _v ໝາຍເຖິງ _validation\n",
        "#   _t ໝາຍເຖິງ _training\n",
        "#   _l ໝາຍເຖິງ All ຄືຈຳນວນ _v + _t ກໍ່ຄຳ ( end_l = vsize_per_class+tsize_per_class )\n",
        "    \n",
        "  num_classes = len(pickle_files)                              # ເອົາເລກທີ່ເທົ່າກັບຈຳນວນ list ພາຍໃນຕົວປ່່ຽນປະເພດ List ກໍ່ຄື 10 lists ຂອງ pickle_files\n",
        "  print(\"ຄວາມກວ້າງຂອງ ຫຼື ຈຳນວນ list ຂອງ pickle_files: \" + str(len(pickle_files)))\n",
        "\n",
        "  valid_dataset, valid_labels = make_arrays(valid_size, image_size)\n",
        "  train_dataset, train_labels = make_arrays(train_size, image_size)\n",
        "  vsize_per_class = valid_size // num_classes\n",
        "  tsize_per_class = train_size // num_classes\n",
        "    \n",
        "  start_v, start_t = 0, 0\n",
        "  end_v, end_t = vsize_per_class, tsize_per_class\n",
        "  end_l = vsize_per_class+tsize_per_class\n",
        "  for label, pickle_file in enumerate(pickle_files):     # enumerate ສ້າງເລກລຳດັບຈັບຄູ່ກັບແຕ່ລະອົງປະກອບ ກໍ່ຄືລຳດັບ 0 ແທນໃຫ້ອົງປະກອບທຳອິດ\n",
        "    try:                                                 # ໝາຍຄວາມວ່າລຳດັບ 0 ແທນໃຫ້ຕົວອັກສອນ A ເພາະ A ແມ່ນອົງປະກອບທຳອິດຂອງ pickle_files\n",
        "      with open(pickle_file, 'rb') as f:\n",
        "        letter_set = pickle.load(f)\n",
        "        # let's shuffle the letters to have random  and training set\n",
        "        np.random.shuffle(letter_set)         # shuffle ເຮັດໃຫ້ຈັດລຳດັບໃໝ່ແບບຊຸ່ມເດົາພາຍໃນ letter_set ກໍ່ຄືພາຍໃນກຸ່ມຕົວອັກສອນຂອງມັນ ຕົວຢ່າງ https://docs.scipy.org/doc/numpy-1.13.0/reference/generated/numpy.random.shuffle.html\n",
        "        \n",
        "        # ຫຼັງຈາກຈັດລຳດັບໃໝ່ແບບຊຸ່ມເດົາແລ້ວຈຶ່ງປ້ອນຮູບໃສ່  valid_dataset ແລະ ໃສ່ train_dataset ໂດຍເອົາແຕ່ລຳດັບ 0(ຕົວອັກສອນ A) ຈົນໝົດຕໍ່ດ້ວຍ ລຳດັບ 1(ຕົວອັກສອນ B) ສຸດທ້າຍຮອດ ລຳດັບ 9(ຕົວອັກສອນ J)\n",
        "        # ແລ້ວກໍ່ຈະໄດ້ valid_dataset, valid_labels, train_dataset, train_labels ທີ່ມີທຸກຕົວອັກສອນ ພ້ອມລຽນລຳດັບຈັບຄູ່ກັບ label ຂອງມັນເອງ ກໍ່ຄື valid_dataset ຄູ່ກັບ valid_labels ແລະ ຄູ່ອື່ນໆ\n",
        "        if valid_dataset is not None:\n",
        "          valid_letter = letter_set[:vsize_per_class, :, :]    \n",
        "          valid_dataset[start_v:end_v, :, :] = valid_letter\n",
        "          valid_labels[start_v:end_v] = label\n",
        "          start_v += vsize_per_class\n",
        "          end_v += vsize_per_class\n",
        "                    \n",
        "        train_letter = letter_set[vsize_per_class:end_l, :, :]\n",
        "        train_dataset[start_t:end_t, :, :] = train_letter\n",
        "        train_labels[start_t:end_t] = label\n",
        "        start_t += tsize_per_class\n",
        "        end_t += tsize_per_class\n",
        "    except Exception as e:\n",
        "      print('Unable to process data from', pickle_file, ':', e)\n",
        "      raise\n",
        "###  print('label :', label)\n",
        "###  print('vsize_per_class: ',vsize_per_class)\n",
        "\n",
        "  return valid_dataset, valid_labels, train_dataset, train_labels\n",
        "            \n",
        "train_size = 200000      # ຂະໜາດຈາກ ຕົວຢ່າງເຂົາເຈົ້າ\n",
        "valid_size = 10000\n",
        "test_size = 10000\n",
        "  \n",
        "## train_size = 2000 * 4  # ເນື່ອງຈາກຈຳນວນຝຶກແອບມີຮອດປະມານ 500000ໂຕ ແຕ່ຄອມຂ້ອຍສາມາດຝຶກແອບໄດ້ປະມານພຽງ 10000 ໂຕຝຶກແອບ\n",
        "## valid_size = 150 * 4   # ຂະໜາດຂໍ້ມູນທີ່ໃຊ້ທົດລອງ\n",
        "## test_size = 100 * 4\n",
        "\n",
        "# ຄຳສັ່ງແຖວຂ້າງລູ່ມນີ້ເລືອກເອົາບັນດາຕົວຝຶກແອບອອກເປັນ 2ກຸ່ມຄື: ກຸ່ມຝຶກແອບ ແລະ ກຸ່ມທົດລອງ ຕາມກຳນົດຂ້າງເທິງ ໂດຍເລືອກເອົາແບບຊຸ່ມເອົາ 'shuffle'\n",
        "valid_dataset, valid_labels, train_dataset, train_labels = merge_datasets(\n",
        "  train_datasets, train_size, valid_size)         \n",
        "\n",
        "_, _, test_dataset, test_labels = merge_datasets(test_datasets, test_size)\n",
        "\n",
        "print('Training:', train_dataset.shape, train_labels.shape)\n",
        "print('Validation:', valid_dataset.shape, valid_labels.shape)\n",
        "print('Testing:', test_dataset.shape, test_labels.shape)\n",
        "\n",
        "### 200510"
      ],
      "execution_count": 0,
      "outputs": [
        {
          "output_type": "stream",
          "text": [
            "ຄວາມກວ້າງຂອງ ຫຼື ຈຳນວນ list ຂອງ pickle_files: 10\n",
            "ຄວາມກວ້າງຂອງ ຫຼື ຈຳນວນ list ຂອງ pickle_files: 10\n",
            "Training: (200000, 28, 28) (200000,)\n",
            "Validation: (10000, 28, 28) (10000,)\n",
            "Testing: (10000, 28, 28) (10000,)\n"
          ],
          "name": "stdout"
        }
      ]
    },
    {
      "cell_type": "code",
      "metadata": {
        "cellView": "both",
        "colab_type": "code",
        "deletable": true,
        "editable": true,
        "id": "6WZ2l2tN2zOL",
        "colab": {}
      },
      "source": [
        "def randomize(dataset, labels):    \n",
        "  permutation = np.random.permutation(labels.shape[0])   # ເປັນຄຳສັງສະລັບລຳດັບຂອງອົງປະກອບແບບຊຸມ ໃນແຖວນີ້ຈະສະລັບເລກລຳດັບແຕ່ 0 ຫາ ລຳດັບໃຫຍ່ສຸດ\n",
        "                                                         # ຂອງ labels ກໍ່ຄືເລກ labels.shape[0]\n",
        "                                                         # np.random.permutation() Randomly permute a sequence, or return a permuted range.\n",
        "                                                         # If x is a multi-dimensional array, it is only shuffled along its first index.\n",
        "  shuffled_dataset = dataset[permutation,:,:]\n",
        "  shuffled_labels = labels[permutation]\n",
        "  return shuffled_dataset, shuffled_labels\n",
        "\n",
        "  \n",
        "train_dataset, train_labels = randomize(train_dataset, train_labels)\n",
        "test_dataset, test_labels = randomize(test_dataset, test_labels)\n",
        "valid_dataset, valid_labels = randomize(valid_dataset, valid_labels)"
      ],
      "execution_count": 0,
      "outputs": []
    },
    {
      "cell_type": "markdown",
      "metadata": {
        "colab_type": "text",
        "deletable": true,
        "editable": true,
        "id": "puDUTe6t6USl"
      },
      "source": [
        "---\n",
        "Problem 4\n",
        "---------\n",
        "Convince yourself that the data is still good after shuffling!\n",
        "\n",
        "---"
      ]
    },
    {
      "cell_type": "markdown",
      "metadata": {
        "colab_type": "text",
        "deletable": true,
        "editable": true,
        "id": "tIQJaJuwg5Hw"
      },
      "source": [
        "Finally, let's save the data for later reuse:"
      ]
    },
    {
      "cell_type": "code",
      "metadata": {
        "cellView": "both",
        "colab_type": "code",
        "deletable": true,
        "editable": true,
        "id": "QiR_rETzem6C",
        "colab": {}
      },
      "source": [
        "pickle_file = os.path.join(data_root, 'notMNIST.pickle')     # ຟາຍ 'notMNIST.pickle' ເຮັດໜ້າທີ່ເກັບຂໍ້ມູນທັງໝົດໃຊ້ໃຫ້ຄອມຮຽນຮູ້ຕົວອັກສອນ\n",
        "                                                             # ເຊິ່ງຂໍ້ມູນນັ້ນເປັນໄບນາລີ ຢູ່ໃນຕົວປ່ຽນແບບ array\n",
        "try:\n",
        "  f = open(pickle_file, 'wb') \n",
        "  save = {\n",
        "    'train_dataset': train_dataset,\n",
        "    'train_labels': train_labels,\n",
        "    'valid_dataset': valid_dataset,\n",
        "    'valid_labels': valid_labels,\n",
        "    'test_dataset': test_dataset,\n",
        "    'test_labels': test_labels,\n",
        "    }\n",
        "  pickle.dump(save, f, pickle.HIGHEST_PROTOCOL)\n",
        "  f.close()\n",
        "except Exception as e:\n",
        "  print('Unable to save data to', pickle_file, ':', e)\n",
        "  raise"
      ],
      "execution_count": 0,
      "outputs": []
    },
    {
      "cell_type": "code",
      "metadata": {
        "cellView": "both",
        "colab_type": "code",
        "deletable": true,
        "editable": true,
        "id": "hQbLjrW_iT39",
        "outputId": "9c1cbc2b-364b-457f-dd03-cdfbb6692da1",
        "colab": {
          "base_uri": "https://localhost:8080/",
          "height": 34
        }
      },
      "source": [
        "statinfo = os.stat(pickle_file)\n",
        "print('Compressed pickle size:', statinfo.st_size)        ### ບໍ່ຮູ້ຕົວເລກທີ່ມັນສະແດງອອກມາແມ່ນຫົວໜ່ວຍຫຍັງ\n",
        "\n",
        "###   200510 ນາ    ####\n",
        "###   200421 ນາ    ####\n",
        "###   180101 ນາ    ####"
      ],
      "execution_count": 0,
      "outputs": [
        {
          "output_type": "stream",
          "text": [
            "Compressed pickle size: 690800506\n"
          ],
          "name": "stdout"
        }
      ]
    },
    {
      "cell_type": "markdown",
      "metadata": {
        "colab_type": "text",
        "deletable": true,
        "editable": true,
        "id": "gE_cRAQB33lk"
      },
      "source": [
        "---\n",
        "Problem 5\n",
        "---------\n",
        "\n",
        "By construction, this dataset might contain a lot of overlapping samples, including training data that's also contained in the validation and test set! Overlap between training and test can skew the results if you expect to use your model in an environment where there is never an overlap, but are actually ok if you expect to see training samples recur when you use it.\n",
        "Measure how much overlap there is between training, validation and test samples.\n",
        "\n",
        "Optional questions:\n",
        "- What about near duplicates between datasets? (images that are almost identical)\n",
        "- Create a sanitized validation and test set, and compare your accuracy on those in subsequent assignments.\n",
        "---"
      ]
    },
    {
      "cell_type": "code",
      "metadata": {
        "deletable": true,
        "editable": true,
        "id": "0zmVGRS95GI8",
        "colab_type": "code",
        "outputId": "041a55fe-f4e5-437b-c050-4ccfe4fa66b0",
        "colab": {
          "base_uri": "https://localhost:8080/",
          "height": 68
        }
      },
      "source": [
        "import time\n",
        "\n",
        "def check_overlaps(images1, images2):\n",
        "    images1.flags.writeable=False\n",
        "    images2.flags.writeable=False\n",
        "    start = time.clock()\n",
        "    hash1 = set([hash(image1.tobytes()) for image1 in images1])\n",
        "    hash2 = set([hash(image2.tobytes()) for image2 in images2])\n",
        "    all_overlaps = set.intersection(hash1, hash2)\n",
        "    return all_overlaps, time.clock()-start\n",
        "\n",
        "r, execTime = check_overlaps(train_dataset, test_dataset)    \n",
        "print('Number of overlaps between training and test sets: {}. Execution time: {}.'.format(len(r), execTime))\n",
        "\n",
        "r, execTime = check_overlaps(train_dataset, valid_dataset)   \n",
        "print('Number of overlaps between training and validation sets: {}. Execution time: {}.'.format(len(r), execTime))\n",
        "\n",
        "r, execTime = check_overlaps(valid_dataset, test_dataset) \n",
        "print('Number of overlaps between validation and test sets: {}. Execution time: {}.'.format(len(r), execTime))"
      ],
      "execution_count": 0,
      "outputs": [
        {
          "output_type": "stream",
          "text": [
            "Number of overlaps between training and test sets: 1163. Execution time: 0.6645659999999793.\n",
            "Number of overlaps between training and validation sets: 961. Execution time: 0.6526309999999853.\n",
            "Number of overlaps between validation and test sets: 66. Execution time: 0.05951799999996865.\n"
          ],
          "name": "stdout"
        }
      ]
    },
    {
      "cell_type": "markdown",
      "metadata": {
        "colab_type": "text",
        "deletable": true,
        "editable": true,
        "id": "L8oww1s4JMQx"
      },
      "source": [
        "---\n",
        "Problem 6\n",
        "---------\n",
        "\n",
        "Let's get an idea of what an off-the-shelf classifier can give you on this data. It's always good to check that there is something to learn, and that it's a problem that is not so trivial that a canned solution solves it.\n",
        "\n",
        "Train a simple model on this data using 50, 100, 1000 and 5000 training samples. Hint: you can use the LogisticRegression model from sklearn.linear_model.\n",
        "\n",
        "Optional question: train an off-the-shelf model on all the data!\n",
        "\n",
        "Training: (50, 28, 28) (50,)\n",
        "Validation: (10000, 28, 28) (10000,)\n",
        "Testing: (10000, 28, 28) (10000,)\n",
        "\n",
        "ໃຊ້      50 training samples ແລະ GPU ຜົນໄດ້ຮັບ  0.6864                     ໃຊ້ເວລາ 1.4ວິນາທີ\n",
        "ໃຊ້    100 training samples ແລະ GPU ຜົນໄດ້ຮັບ  0.7786                     ໃຊ້ເວລາ 1.2ວິນາທີ\n",
        "ໃຊ້  1000 training samples ແລະ GPU ຜົນໄດ້ຮັບ  0.8305                     ໃຊ້ເວລາ 2.5ວິນາທີ\n",
        "ໃຊ້  5000 training samples ແລະ GPU ຜົນໄດ້ຮັບ  0.8368                     ໃຊ້ເວລາ 20.1ວິນາທີ\n",
        "\n",
        "---\n"
      ]
    },
    {
      "cell_type": "code",
      "metadata": {
        "deletable": true,
        "editable": true,
        "id": "9VdgjdgJ5GJB",
        "colab_type": "code",
        "outputId": "1c876f5f-8045-4860-fdc8-6d0cdea26025",
        "colab": {
          "base_uri": "https://localhost:8080/",
          "height": 34
        }
      },
      "source": [
        "# Here you have 200000 samples\n",
        "# 28 x 28 features\n",
        "# We have to reshape them because scikit-learn expects (n_samples, n_features)\n",
        "train_dataset.shape\n",
        "\n",
        "###  print(train_dataset)\n",
        "###  display(train_dataset)"
      ],
      "execution_count": 0,
      "outputs": [
        {
          "output_type": "execute_result",
          "data": {
            "text/plain": [
              "(200000, 28, 28)"
            ]
          },
          "metadata": {
            "tags": []
          },
          "execution_count": 15
        }
      ]
    },
    {
      "cell_type": "code",
      "metadata": {
        "deletable": true,
        "editable": true,
        "id": "6R0WEADU5GJE",
        "colab_type": "code",
        "colab": {}
      },
      "source": [
        "### test_dataset.shape\n",
        "\n",
        "### print(test_dataset)"
      ],
      "execution_count": 0,
      "outputs": []
    },
    {
      "cell_type": "code",
      "metadata": {
        "deletable": true,
        "editable": true,
        "id": "a8EiyM275GJH",
        "colab_type": "code",
        "colab": {}
      },
      "source": [
        "# Prepare training data\n",
        "samples, width, height = train_dataset.shape\n",
        "\n",
        "print(train_dataset)\n",
        "\n",
        "X_train = np.reshape(train_dataset,(samples,width*height))     ###  ເນື່ອງຈາກ ເຮົາຈະໃຊ້ LogisticRegression model from sklearn.linear_model ເຊິ່ງມັນກຳນົດໃຫ້ ຕ້ອງປ້ອນຂໍ້ມູນແບບ (n_samples, n_features)\n",
        "y_train = train_labels                                         ###  ສະນັ້ນເຂົາຈຶ່ງເປັນຮູບຮ່າງຂໍ້ມູນ ຈາກ 3ມີຕິ ເປັນ 2ມິຕີ ດ້ວຍຄຳສັ່ງ reshape\n",
        "\n",
        "\n",
        "\n",
        "\n",
        "# Prepare testing data\n",
        "samples, width, height = test_dataset.shape\n",
        "X_test = np.reshape(test_dataset,(samples,width*height))\n",
        "y_test = test_labels"
      ],
      "execution_count": 0,
      "outputs": []
    },
    {
      "cell_type": "code",
      "metadata": {
        "deletable": true,
        "editable": true,
        "id": "7cmxCy6j5GJK",
        "colab_type": "code",
        "outputId": "350c3dcd-e0db-4a52-9586-54702597f860",
        "colab": {
          "base_uri": "https://localhost:8080/",
          "height": 68
        }
      },
      "source": [
        "# Import\n",
        "from sklearn.linear_model import LogisticRegression\n",
        "\n",
        "# Instantiate\n",
        "lg = LogisticRegression(multi_class='multinomial', solver='lbfgs', random_state=42, verbose=1, max_iter=1000, n_jobs=-1)\n",
        "\n",
        "# Fit\n",
        "lg.fit(X_train, y_train)   ###---     ແຖວນີ້ໜ້າຈະແມ່ນຄຳສັ່ງໃຫ້ຮຽນ       ---###\n",
        "\n",
        "# Predict\n",
        "y_pred = lg.predict(X_test)   ###--- ຫຼັງຈາກຮຽນແລ້ວກໍ່ມາທົດສອບກັບຊຸດຂໍ້ມູນ X_test ຊຶ່ງຜົນການທົດສອບເກັບໄວ້ຢູ່ y_pred       ---###\n",
        "\n",
        "# Score\n",
        "from sklearn import metrics\n",
        "metrics.accuracy_score(y_test, y_pred)    ###--- ຫຼັງຈາກທົດສອບແລ້ວກໍ່ມາເບິ່ງຄວາມແນ່ນອນໂດຍທຽບກັນລະຫວ່າງ y_test ກັບ  y_pred     ---###\n",
        "\n",
        "###   180106 ນາ    ####"
      ],
      "execution_count": 0,
      "outputs": [
        {
          "output_type": "stream",
          "text": [
            "[Parallel(n_jobs=-1)]: Using backend LokyBackend with 2 concurrent workers.\n",
            "[Parallel(n_jobs=-1)]: Done   1 out of   1 | elapsed: 23.4min finished\n"
          ],
          "name": "stderr"
        },
        {
          "output_type": "execute_result",
          "data": {
            "text/plain": [
              "0.9001"
            ]
          },
          "metadata": {
            "tags": []
          },
          "execution_count": 18
        }
      ]
    },
    {
      "cell_type": "code",
      "metadata": {
        "deletable": true,
        "editable": true,
        "id": "D-CUMOIQ5GJN",
        "colab_type": "code",
        "colab": {}
      },
      "source": [
        "###   180603 ສືກສາຄືນເປັນຄັ້ງທີ່ 2  ຜົນໄດ້ຮັບໂອກາດແທ້ຕ້ອງແມ່ນ 86.79999999%  ####"
      ],
      "execution_count": 0,
      "outputs": []
    },
    {
      "cell_type": "markdown",
      "metadata": {
        "id": "ddj_y5v5ZW4G",
        "colab_type": "text"
      },
      "source": [
        ""
      ]
    },
    {
      "cell_type": "markdown",
      "metadata": {
        "id": "DzOcCXzNF-RO",
        "colab_type": "text"
      },
      "source": [
        "190505\n",
        "\n",
        "Training: (10000, 28, 28) (10000,)\n",
        "Validation: (750, 28, 28) (750,)\n",
        "Testing: (500, 28, 28) (500,)\n",
        "\n",
        "ໃຊ້ CPU ຜົນໄດ້ຮັບ  0.862(86.2%)     ໃຊ້ເວລາ 55.4ວິນາທີ\n",
        "ໃຊ້ GPU ຜົນໄດ້ຮັບ  0.89                     ໃຊ້ເວລາ 44.9ວິນາທີ\n",
        "\n",
        "\n",
        "Training: (200000, 28, 28) (200000,)\n",
        "Validation: (10000, 28, 28) (10000,)\n",
        "Testing: (10000, 28, 28) (10000,)\n",
        "\n",
        "ໃຊ້ CPU ຜົນໄດ້ຮັບ 0.8967               ໃຊ້ເວລາ   18.4ນາທີ            physical_device_desc: \"device: XLA_CPU device\"\n",
        "ໃຊ້ GPU ຜົນໄດ້ຮັບ 0.898                 ໃຊ້ເວລາ   15.0ນາທີ            physical_device_desc: \"device: 0, name: Tesla T4, pci bus id: 0000:00:04.0, compute capability: 7.5\"\n",
        "\n",
        "190513\n",
        "\n",
        "Training: (2000, 28, 28) (2000,)\n",
        "Validation: (100, 28, 28) (100,)\n",
        "Testing: (100, 28, 28) (100,)\n",
        "\n",
        "ໃຊ້ GPU ຜົນໄດ້ຮັບ  0.91                     ໃຊ້ເວລາ 4.8ວິນາທີ           device: 0, name: Tesla T4, pci bus id: 0000:00:04.0, compute capability: 7.5\""
      ]
    },
    {
      "cell_type": "markdown",
      "metadata": {
        "id": "iglIFGEEZjYK",
        "colab_type": "text"
      },
      "source": [
        "200421\n",
        "\n",
        "ໃຊ້ CPU ຢູ່ ຄອມ 7 Training (200000,28,28) Validation (10000), Testing (10000) ຜົນໄດ້ຮັບ 0.8993 ໃຊ້ເວລາ 27.1 ນາທີ"
      ]
    },
    {
      "cell_type": "markdown",
      "metadata": {
        "id": "v7FDYbN4ZbyC",
        "colab_type": "text"
      },
      "source": [
        ""
      ]
    },
    {
      "cell_type": "code",
      "metadata": {
        "id": "bYNoebzEYz40",
        "colab_type": "code",
        "outputId": "219bf042-69ad-4b3a-d2d3-87bb6a644898",
        "colab": {
          "base_uri": "https://localhost:8080/",
          "height": 391
        }
      },
      "source": [
        "from tensorflow.python.client import device_lib\n",
        "\n",
        "print(\"Show System RAM Memory:\\n\\n\")\n",
        "!cat /proc/meminfo | egrep \"MemTotal*\"\n",
        "\n",
        "\n",
        "print(\"\\n\\nShow Devices:\\n\\n\"+str(device_lib.list_local_devices()))"
      ],
      "execution_count": 0,
      "outputs": [
        {
          "output_type": "stream",
          "text": [
            "Show System RAM Memory:\n",
            "\n",
            "\n",
            "MemTotal:       13333540 kB\n",
            "\n",
            "\n",
            "Show Devices:\n",
            "\n",
            "[name: \"/device:CPU:0\"\n",
            "device_type: \"CPU\"\n",
            "memory_limit: 268435456\n",
            "locality {\n",
            "}\n",
            "incarnation: 3684637019289587774\n",
            ", name: \"/device:XLA_CPU:0\"\n",
            "device_type: \"XLA_CPU\"\n",
            "memory_limit: 17179869184\n",
            "locality {\n",
            "}\n",
            "incarnation: 17227102733766233852\n",
            "physical_device_desc: \"device: XLA_CPU device\"\n",
            "]\n"
          ],
          "name": "stdout"
        }
      ]
    },
    {
      "cell_type": "markdown",
      "metadata": {
        "id": "49TbovKIXcaJ",
        "colab_type": "text"
      },
      "source": [
        "# ທົດລອງ ສ້າງ ຮູບຈາກ array ສະແດງພາບໂດຍ matplotlib (import matplotlib.pyplot as plt)"
      ]
    },
    {
      "cell_type": "code",
      "metadata": {
        "id": "9ZOaBusgFZGu",
        "colab_type": "code",
        "outputId": "df7efe4e-fc47-49f6-bbff-82b95c8ad4cd",
        "colab": {
          "base_uri": "https://localhost:8080/",
          "height": 336
        }
      },
      "source": [
        "# ທົດລອງ ສ້າງ ຮູບຈາກ array 2020-04-28\n",
        "# index 0 should be all As, 1 = all Bs, etc. ອິນເດັດ(Index ຫຼື Label) 0 ໝາຍເຖິງກຸ່ມຕົວອັກສອນ 'A', ອິນເດັດ 1 ໝາຍເຖິງ  'B'\n",
        "\n",
        "sample_image = [[-0.5,  -0.5,  -0.5,  -0.5,  -0.5,  -0.5,  -0.5,  -0.5,  -0.5,  -0.5,  -0.5,  -0.5,  -0.5,  -0.5,  -0.5,  -0.5,  -0.5,  -0.37, -0.14,  0.12,  0.31,  0.41,  0.47,  0.46,  0.41,  0.26, -0.03, -0.45],\n",
        "                [-0.5,  -0.5,  -0.5,  -0.5,  -0.5,  -0.5,  -0.5,  -0.5,  -0.5,  -0.5,  -0.5,  -0.5,  -0.5,  -0.5,  -0.5,  -0.48, -0.06,  0.32,  0.5,   0.5,   0.5,   0.5,   0.5,   0.5,   0.5,   0.5,   0.36, -0.23],\n",
        "                [-0.5,  -0.5,  -0.5,  -0.5,  -0.5,  -0.5,  -0.5,  -0.5,  -0.5,  -0.5,  -0.5,  -0.5,  -0.5,  -0.5,  -0.5,  -0.06,  0.34,  0.5,   0.5,   0.49,  0.49,  0.5,   0.5,   0.5,   0.5,   0.45,  0.2,  -0.46],\n",
        "                [-0.5,  -0.5,  -0.5,  -0.5,  -0.5,  -0.5,  -0.5,  -0.5,  -0.5,  -0.5,  -0.5,  -0.5,  -0.5,  -0.49, -0.39,  0.32,  0.49,  0.5,   0.5,   0.5,   0.5,   0.5,   0.5,   0.5,   0.5,   0.26, -0.26, -0.5 ],\n",
        "                [-0.5,  -0.5,  -0.5,  -0.5,  -0.5,  -0.5,  -0.5,  -0.5,  -0.5,  -0.5,  -0.5,  -0.5,  -0.5,  -0.46,  0.14,  0.44,  0.5,   0.5,   0.5,   0.5,   0.5,   0.5,   0.5,   0.5,   0.38, -0.0,  -0.5,  -0.5 ],\n",
        "                [-0.5,  -0.5,  -0.5,  -0.5,  -0.5,  -0.5,  -0.5,  -0.5,  -0.5,  -0.5,  -0.5,  -0.5,  -0.45, -0.23,  0.45,  0.5,   0.5,   0.5,   0.5,   0.5,   0.5,   0.5,   0.5,   0.5,   0.09, -0.39, -0.5,  -0.5 ],\n",
        "                [-0.5,  -0.5,  -0.5,  -0.5,  -0.5,  -0.5,  -0.5,  -0.5,  -0.5,  -0.5,  -0.5,  -0.5,  -0.34,  0.33,  0.48,  0.5,   0.5,   0.5,   0.5,   0.5,   0.5,   0.5,   0.5,   0.25, -0.19, -0.5,  -0.5,  -0.5 ],\n",
        "                [-0.5,  -0.5,  -0.5,  -0.5,  -0.5,  -0.5,  -0.5,  -0.5,  -0.5,  -0.5,  -0.5,  -0.37, -0.01,  0.5,   0.5,   0.5,   0.5,   0.5,   0.5,   0.5,   0.5,   0.5,   0.47, -0.12, -0.46, -0.5,  -0.5,  -0.5 ],\n",
        "                [-0.5,  -0.5,  -0.5,  -0.5,  -0.5,  -0.5,  -0.5,  -0.5,  -0.5,  -0.5,  -0.48, -0.17,  0.43,  0.5,   0.5,   0.5,   0.5,   0.5,   0.5,   0.5,   0.5,   0.5,   0.07, -0.34, -0.5,  -0.5,  -0.5,  -0.5 ],\n",
        "                [-0.5,  -0.5,  -0.5,  -0.5,  -0.5,  -0.5,  -0.5,  -0.5,  -0.5,  -0.5,  -0.25,  0.17,  0.5,   0.5,   0.5,   0.5,   0.5,   0.5,   0.5,   0.5,   0.49,  0.39, -0.31, -0.49, -0.5,  -0.5,  -0.5,  -0.5 ],\n",
        "                [-0.5,  -0.5,  -0.5,  -0.5,  -0.5,  -0.5,  -0.5,  -0.5,  -0.5,  -0.43,  0.04,  0.48,  0.5,   0.5,   0.5,   0.5,   0.5,   0.5,   0.5,   0.5,   0.46, -0.14, -0.44, -0.5,  -0.5,  -0.5,  -0.5,  -0.5 ],\n",
        "                [-0.5,  -0.5,  -0.5,  -0.5,  -0.5,  -0.5,  -0.5,  -0.5,  -0.5,  -0.07,  0.32,  0.5,   0.5,   0.5,   0.5,   0.5,   0.5,   0.5,   0.5,   0.45,  0.23, -0.45, -0.5,  -0.5,  -0.5,  -0.5,  -0.5,  -0.5 ],\n",
        "                [-0.5,  -0.5,  -0.5,  -0.5,  -0.5,  -0.5,  -0.5,  -0.5,  -0.34,  0.22,  0.5,   0.5,   0.5,   0.5,   0.5,   0.5,   0.5,   0.5,   0.5,   0.34, -0.32, -0.48, -0.5,  -0.5,  -0.5,  -0.5,  -0.5,  -0.5 ],\n",
        "                [-0.5,  -0.5,  -0.5,  -0.5,  -0.5,  -0.5,  -0.5,  -0.5,   0.13,  0.42,  0.5,   0.5,   0.5,   0.5,   0.5,   0.5,   0.5,   0.5,   0.38,  0.02, -0.5,  -0.5,  -0.5,  -0.5,  -0.5,  -0.5,  -0.5,  -0.5 ],\n",
        "                [-0.5,  -0.5,  -0.5,  -0.5,  -0.5,  -0.5,  -0.48, -0.2,   0.37,  0.5,   0.5,   0.5,   0.5,   0.5,   0.5,   0.5,   0.5,   0.48,  0.17, -0.43, -0.5,  -0.5,  -0.5,  -0.5,  -0.5,  -0.5,  -0.5,  -0.5 ],\n",
        "                [-0.5,  -0.5,  -0.5,  -0.5,  -0.5,  -0.49, -0.43,  0.34,  0.48,  0.5,   0.5,   0.5,   0.5,   0.5,   0.5,   0.5,   0.5,   0.25, -0.17, -0.5,  -0.5,  -0.5,  -0.5,  -0.5,  -0.5,  -0.5,  -0.5,  -0.5 ],\n",
        "                [-0.5,  -0.5,  -0.5,  -0.5,  -0.5,  -0.41, -0.,    0.47,  0.5,   0.5,   0.5,   0.5,   0.5,   0.5,   0.5,   0.5,   0.43, -0.04, -0.48, -0.5,  -0.5,  -0.5,  -0.5,  -0.5,  -0.5,  -0.5,  -0.5,  -0.5 ],\n",
        "                [-0.5,  -0.5,  -0.5,  -0.5,  -0.47, -0.25,  0.46,  0.49,  0.5,   0.5,   0.5,   0.5,   0.5,   0.5,   0.5,   0.5,   0.07, -0.33, -0.5,  -0.5,  -0.5,  -0.5,  -0.5,  -0.5,  -0.5,  -0.5,  -0.5,  -0.5 ],\n",
        "                [-0.5,  -0.5,  -0.5,  -0.5,  -0.29,  0.19,  0.5,   0.5,   0.5,   0.5,   0.5,   0.5,   0.5,   0.5,   0.5,   0.34, -0.23, -0.5,  -0.5,  -0.5,  -0.5,  -0.5,  -0.5,  -0.5,  -0.5,  -0.5,  -0.5,  -0.5 ],\n",
        "                [-0.5,  -0.5,  -0.5,  -0.41, -0.05,  0.5,   0.5,   0.5,   0.5,   0.5,   0.5,   0.5,   0.5,   0.5,   0.5,  -0.14, -0.43, -0.5,  -0.5,  -0.5,  -0.5,  -0.5,  -0.5,  -0.5,  -0.5,  -0.5,  -0.5,  -0.5 ],\n",
        "                [-0.5,  -0.5,  -0.5,  -0.12,  0.34,  0.5,   0.5,   0.5,   0.5,   0.5,   0.5,   0.5,   0.5,   0.48,  0.19, -0.37, -0.5,  -0.5,  -0.5,  -0.5,  -0.5,  -0.5,  -0.5,  -0.5,  -0.5,  -0.5,  -0.5,  -0.5 ],\n",
        "                [-0.5,  -0.5,  -0.31,  0.14,  0.5,   0.5,   0.5,   0.5,   0.5,   0.5,   0.5,   0.5,   0.49,  0.43, -0.34, -0.48, -0.5,  -0.5,  -0.5,  -0.5,  -0.5,  -0.5,  -0.5,  -0.5,  -0.5,  -0.5,  -0.5,  -0.5 ],\n",
        "                [-0.5,  -0.49,  0.07,  0.43,  0.5,   0.5,   0.5,   0.5,   0.5,   0.5,   0.5,   0.5,   0.41, -0.01, -0.47, -0.5,  -0.5,  -0.5,  -0.5,  -0.5,  -0.5,  -0.5,  -0.5,  -0.5,  -0.5,  -0.5,  -0.5,  -0.5 ],\n",
        "                [-0.5,  -0.15,  0.3,   0.5,   0.5,   0.5,   0.5,   0.5,   0.5,   0.5,   0.5,   0.47,  0.24, -0.47, -0.5,  -0.5,  -0.5,  -0.5,  -0.5,  -0.5,  -0.5,  -0.5,  -0.5,  -0.5,  -0.5,  -0.5,  -0.5,  -0.5 ],\n",
        "                [-0.45,  0.27,  0.48,  0.5,   0.5,   0.5,   0.5,   0.5,   0.5,   0.5,   0.5,   0.28, -0.2,  -0.5,  -0.5,  -0.5,  -0.5,  -0.5,  -0.5,  -0.5,  -0.5,  -0.5,  -0.5,  -0.5,  -0.5,  -0.5,  -0.5,  -0.5 ],\n",
        "                [ 0.07,  0.42,  0.5,   0.5,   0.5,   0.5,   0.5,   0.49,  0.49,  0.5,   0.41,  0.04, -0.5,  -0.5,  -0.5,  -0.5,  -0.5,  -0.5,  -0.5,  -0.5,  -0.5,  -0.5,  -0.5,  -0.5,  -0.5,  -0.5,  -0.5,  -0.5 ],\n",
        "                [ 0.47,  0.49,  0.5,   0.5,   0.5,   0.5,   0.5,   0.5,   0.5,   0.4,  -0.,   -0.4,  -0.5,  -0.5,  -0.5,  -0.5,  -0.5,  -0.5,  -0.5,  -0.5,  -0.5,  -0.5,  -0.5,  -0.5,  -0.5,  -0.5,  -0.5,  -0.5 ],\n",
        "                [-0.14,  0.21,  0.39,  0.46,  0.47,  0.43,  0.36,  0.2,  -0.04, -0.32, -0.47, -0.5,  -0.5,  -0.5,  -0.5,  -0.5,  -0.5,  -0.5,  -0.5,  -0.5,  -0.5,  -0.5,  -0.5,  -0.5,  -0.5,  -0.5,  -0.5,  -0.5 ]]\n",
        "    \n",
        "\n",
        "print (\"ຄ່າຂອງ sample_image: \")\n",
        "print (sample_image)   # ເປັນຫຍັງຕົວເລກພວກນີ້ມີຄ່າດຽວຢູ່ໃນພິກເຊວເມື່ອສ້າງເປັນຮູບຄືບໍ່ເປັນຮູບຂາວດຳ ຫືຼ ເປັນນຳ matplotlib\n",
        "plt.figure()\n",
        "plt.imshow(sample_image)                    \n"
      ],
      "execution_count": 0,
      "outputs": [
        {
          "output_type": "stream",
          "text": [
            "ຄ່າຂອງ sample_image: \n",
            "[[-0.5, -0.5, -0.5, -0.5, -0.5, -0.5, -0.5, -0.5, -0.5, -0.5, -0.5, -0.5, -0.5, -0.5, -0.5, -0.5, -0.5, -0.37, -0.14, 0.12, 0.31, 0.41, 0.47, 0.46, 0.41, 0.26, -0.03, -0.45], [-0.5, -0.5, -0.5, -0.5, -0.5, -0.5, -0.5, -0.5, -0.5, -0.5, -0.5, -0.5, -0.5, -0.5, -0.5, -0.48, -0.06, 0.32, 0.5, 0.5, 0.5, 0.5, 0.5, 0.5, 0.5, 0.5, 0.36, -0.23], [-0.5, -0.5, -0.5, -0.5, -0.5, -0.5, -0.5, -0.5, -0.5, -0.5, -0.5, -0.5, -0.5, -0.5, -0.5, -0.06, 0.34, 0.5, 0.5, 0.49, 0.49, 0.5, 0.5, 0.5, 0.5, 0.45, 0.2, -0.46], [-0.5, -0.5, -0.5, -0.5, -0.5, -0.5, -0.5, -0.5, -0.5, -0.5, -0.5, -0.5, -0.5, -0.49, -0.39, 0.32, 0.49, 0.5, 0.5, 0.5, 0.5, 0.5, 0.5, 0.5, 0.5, 0.26, -0.26, -0.5], [-0.5, -0.5, -0.5, -0.5, -0.5, -0.5, -0.5, -0.5, -0.5, -0.5, -0.5, -0.5, -0.5, -0.46, 0.14, 0.44, 0.5, 0.5, 0.5, 0.5, 0.5, 0.5, 0.5, 0.5, 0.38, -0.0, -0.5, -0.5], [-0.5, -0.5, -0.5, -0.5, -0.5, -0.5, -0.5, -0.5, -0.5, -0.5, -0.5, -0.5, -0.45, -0.23, 0.45, 0.5, 0.5, 0.5, 0.5, 0.5, 0.5, 0.5, 0.5, 0.5, 0.09, -0.39, -0.5, -0.5], [-0.5, -0.5, -0.5, -0.5, -0.5, -0.5, -0.5, -0.5, -0.5, -0.5, -0.5, -0.5, -0.34, 0.33, 0.48, 0.5, 0.5, 0.5, 0.5, 0.5, 0.5, 0.5, 0.5, 0.25, -0.19, -0.5, -0.5, -0.5], [-0.5, -0.5, -0.5, -0.5, -0.5, -0.5, -0.5, -0.5, -0.5, -0.5, -0.5, -0.37, -0.01, 0.5, 0.5, 0.5, 0.5, 0.5, 0.5, 0.5, 0.5, 0.5, 0.47, -0.12, -0.46, -0.5, -0.5, -0.5], [-0.5, -0.5, -0.5, -0.5, -0.5, -0.5, -0.5, -0.5, -0.5, -0.5, -0.48, -0.17, 0.43, 0.5, 0.5, 0.5, 0.5, 0.5, 0.5, 0.5, 0.5, 0.5, 0.07, -0.34, -0.5, -0.5, -0.5, -0.5], [-0.5, -0.5, -0.5, -0.5, -0.5, -0.5, -0.5, -0.5, -0.5, -0.5, -0.25, 0.17, 0.5, 0.5, 0.5, 0.5, 0.5, 0.5, 0.5, 0.5, 0.49, 0.39, -0.31, -0.49, -0.5, -0.5, -0.5, -0.5], [-0.5, -0.5, -0.5, -0.5, -0.5, -0.5, -0.5, -0.5, -0.5, -0.43, 0.04, 0.48, 0.5, 0.5, 0.5, 0.5, 0.5, 0.5, 0.5, 0.5, 0.46, -0.14, -0.44, -0.5, -0.5, -0.5, -0.5, -0.5], [-0.5, -0.5, -0.5, -0.5, -0.5, -0.5, -0.5, -0.5, -0.5, -0.07, 0.32, 0.5, 0.5, 0.5, 0.5, 0.5, 0.5, 0.5, 0.5, 0.45, 0.23, -0.45, -0.5, -0.5, -0.5, -0.5, -0.5, -0.5], [-0.5, -0.5, -0.5, -0.5, -0.5, -0.5, -0.5, -0.5, -0.34, 0.22, 0.5, 0.5, 0.5, 0.5, 0.5, 0.5, 0.5, 0.5, 0.5, 0.34, -0.32, -0.48, -0.5, -0.5, -0.5, -0.5, -0.5, -0.5], [-0.5, -0.5, -0.5, -0.5, -0.5, -0.5, -0.5, -0.5, 0.13, 0.42, 0.5, 0.5, 0.5, 0.5, 0.5, 0.5, 0.5, 0.5, 0.38, 0.02, -0.5, -0.5, -0.5, -0.5, -0.5, -0.5, -0.5, -0.5], [-0.5, -0.5, -0.5, -0.5, -0.5, -0.5, -0.48, -0.2, 0.37, 0.5, 0.5, 0.5, 0.5, 0.5, 0.5, 0.5, 0.5, 0.48, 0.17, -0.43, -0.5, -0.5, -0.5, -0.5, -0.5, -0.5, -0.5, -0.5], [-0.5, -0.5, -0.5, -0.5, -0.5, -0.49, -0.43, 0.34, 0.48, 0.5, 0.5, 0.5, 0.5, 0.5, 0.5, 0.5, 0.5, 0.25, -0.17, -0.5, -0.5, -0.5, -0.5, -0.5, -0.5, -0.5, -0.5, -0.5], [-0.5, -0.5, -0.5, -0.5, -0.5, -0.41, -0.0, 0.47, 0.5, 0.5, 0.5, 0.5, 0.5, 0.5, 0.5, 0.5, 0.43, -0.04, -0.48, -0.5, -0.5, -0.5, -0.5, -0.5, -0.5, -0.5, -0.5, -0.5], [-0.5, -0.5, -0.5, -0.5, -0.47, -0.25, 0.46, 0.49, 0.5, 0.5, 0.5, 0.5, 0.5, 0.5, 0.5, 0.5, 0.07, -0.33, -0.5, -0.5, -0.5, -0.5, -0.5, -0.5, -0.5, -0.5, -0.5, -0.5], [-0.5, -0.5, -0.5, -0.5, -0.29, 0.19, 0.5, 0.5, 0.5, 0.5, 0.5, 0.5, 0.5, 0.5, 0.5, 0.34, -0.23, -0.5, -0.5, -0.5, -0.5, -0.5, -0.5, -0.5, -0.5, -0.5, -0.5, -0.5], [-0.5, -0.5, -0.5, -0.41, -0.05, 0.5, 0.5, 0.5, 0.5, 0.5, 0.5, 0.5, 0.5, 0.5, 0.5, -0.14, -0.43, -0.5, -0.5, -0.5, -0.5, -0.5, -0.5, -0.5, -0.5, -0.5, -0.5, -0.5], [-0.5, -0.5, -0.5, -0.12, 0.34, 0.5, 0.5, 0.5, 0.5, 0.5, 0.5, 0.5, 0.5, 0.48, 0.19, -0.37, -0.5, -0.5, -0.5, -0.5, -0.5, -0.5, -0.5, -0.5, -0.5, -0.5, -0.5, -0.5], [-0.5, -0.5, -0.31, 0.14, 0.5, 0.5, 0.5, 0.5, 0.5, 0.5, 0.5, 0.5, 0.49, 0.43, -0.34, -0.48, -0.5, -0.5, -0.5, -0.5, -0.5, -0.5, -0.5, -0.5, -0.5, -0.5, -0.5, -0.5], [-0.5, -0.49, 0.07, 0.43, 0.5, 0.5, 0.5, 0.5, 0.5, 0.5, 0.5, 0.5, 0.41, -0.01, -0.47, -0.5, -0.5, -0.5, -0.5, -0.5, -0.5, -0.5, -0.5, -0.5, -0.5, -0.5, -0.5, -0.5], [-0.5, -0.15, 0.3, 0.5, 0.5, 0.5, 0.5, 0.5, 0.5, 0.5, 0.5, 0.47, 0.24, -0.47, -0.5, -0.5, -0.5, -0.5, -0.5, -0.5, -0.5, -0.5, -0.5, -0.5, -0.5, -0.5, -0.5, -0.5], [-0.45, 0.27, 0.48, 0.5, 0.5, 0.5, 0.5, 0.5, 0.5, 0.5, 0.5, 0.28, -0.2, -0.5, -0.5, -0.5, -0.5, -0.5, -0.5, -0.5, -0.5, -0.5, -0.5, -0.5, -0.5, -0.5, -0.5, -0.5], [0.07, 0.42, 0.5, 0.5, 0.5, 0.5, 0.5, 0.49, 0.49, 0.5, 0.41, 0.04, -0.5, -0.5, -0.5, -0.5, -0.5, -0.5, -0.5, -0.5, -0.5, -0.5, -0.5, -0.5, -0.5, -0.5, -0.5, -0.5], [0.47, 0.49, 0.5, 0.5, 0.5, 0.5, 0.5, 0.5, 0.5, 0.4, -0.0, -0.4, -0.5, -0.5, -0.5, -0.5, -0.5, -0.5, -0.5, -0.5, -0.5, -0.5, -0.5, -0.5, -0.5, -0.5, -0.5, -0.5], [-0.14, 0.21, 0.39, 0.46, 0.47, 0.43, 0.36, 0.2, -0.04, -0.32, -0.47, -0.5, -0.5, -0.5, -0.5, -0.5, -0.5, -0.5, -0.5, -0.5, -0.5, -0.5, -0.5, -0.5, -0.5, -0.5, -0.5, -0.5]]\n"
          ],
          "name": "stdout"
        },
        {
          "output_type": "execute_result",
          "data": {
            "text/plain": [
              "<matplotlib.image.AxesImage at 0x7ff81f345550>"
            ]
          },
          "metadata": {
            "tags": []
          },
          "execution_count": 41
        },
        {
          "output_type": "display_data",
          "data": {
            "image/png": "[encoded data removed]",
            "text/plain": [
              "<Figure size 432x288 with 1 Axes>"
            ]
          },
          "metadata": {
            "tags": [],
            "needs_background": "light"
          }
        }
      ]
    },
    {
      "cell_type": "markdown",
      "metadata": {
        "id": "OeQxjEyGyTPB",
        "colab_type": "text"
      },
      "source": [
        "# ທົດລອງ ໂປຣແກຣມ"
      ]
    },
    {
      "cell_type": "code",
      "metadata": {
        "id": "ihtegwiXybcM",
        "colab_type": "code",
        "colab": {}
      },
      "source": [
        "# Python program to illustrate \n",
        "# enumerate function in loops \n",
        "l1 = [\"eat\",\"sleep\",\"repeat\"] \n",
        "  \n",
        "# printing the tuples in object directly \n",
        "for ele in enumerate(l1): \n",
        "    print (ele) \n",
        "print \n",
        "# changing index and printing separately \n",
        "for count,ele in enumerate(l1,600): \n",
        "    print (count,ele)"
      ],
      "execution_count": 0,
      "outputs": []
    },
    {
      "cell_type": "code",
      "metadata": {
        "id": "YB62SI0cmmRy",
        "colab_type": "code",
        "outputId": "c8ad88f6-0830-45fa-dedc-36adc9ff5fe1",
        "colab": {
          "base_uri": "https://localhost:8080/",
          "height": 238
        }
      },
      "source": [
        "import numpy as np\n",
        "\n",
        "arr = np.array([1, 2, 3, 4, 5, 6, 7, 8, 9, 10, 11, 12, 13, 14, 15, 16, 17, 18, 19, 20, 21, 22, 23, 24])\n",
        "\n",
        "newarr = arr.reshape(4, 2, 3)\n",
        "\n",
        "print(newarr)\n",
        "\n",
        "# row,colum,deep = 1,2,3\n",
        "deep,row,column = 1,1,0\n",
        "print(newarr[deep,row,column])\n",
        "\n",
        "\n",
        "arr = np.array([[1,2,3,4,5], [6,7,8,9,10]])\n",
        "\n",
        "print('2nd element on 1st dim: ', arr[0, 1])\n",
        "\n"
      ],
      "execution_count": 0,
      "outputs": [
        {
          "output_type": "stream",
          "text": [
            "[[[ 1  2  3]\n",
            "  [ 4  5  6]]\n",
            "\n",
            " [[ 7  8  9]\n",
            "  [10 11 12]]\n",
            "\n",
            " [[13 14 15]\n",
            "  [16 17 18]]\n",
            "\n",
            " [[19 20 21]\n",
            "  [22 23 24]]]\n",
            "10\n",
            "2nd element on 1st dim:  2\n"
          ],
          "name": "stdout"
        }
      ]
    }
  ]
}